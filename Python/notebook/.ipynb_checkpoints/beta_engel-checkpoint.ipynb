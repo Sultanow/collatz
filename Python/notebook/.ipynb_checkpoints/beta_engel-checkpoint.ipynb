{
 "cells": [
  {
   "cell_type": "code",
   "execution_count": 2,
   "metadata": {
    "pycharm": {
     "name": "#%%\n"
    }
   },
   "outputs": [
    {
     "name": "stdout",
     "output_type": "stream",
     "text": [
      "[67, 21, 53, 133, 333, 833, 2083]\n",
      "1.0232158532713247\n",
      "661\n",
      "2082.9999999999995\n",
      "1.0232158532713247\n",
      "1.1313131313131313\n"
     ]
    },
    {
     "data": {
      "application/vnd.plotly.v1+json": {
       "config": {
        "plotlyServerURL": "https://plot.ly"
       },
       "data": [
        {
         "type": "surface",
         "z": [
          [
           8.83,
           8.89,
           8.81,
           8.87,
           8.9,
           8.87
          ],
          [
           8.89,
           8.94,
           8.85,
           8.94,
           8.96,
           8.92
          ],
          [
           8.84,
           8.9,
           8.82,
           8.92,
           8.93,
           8.91
          ],
          [
           8.79,
           8.85,
           8.79,
           8.9,
           8.94,
           8.92
          ],
          [
           8.79,
           8.88,
           8.81,
           8.9,
           8.95,
           8.92
          ],
          [
           8.8,
           8.82,
           8.78,
           8.91,
           8.94,
           8.92
          ],
          [
           8.75,
           8.78,
           8.77,
           8.91,
           8.95,
           8.92
          ],
          [
           8.8,
           8.8,
           8.77,
           8.91,
           8.95,
           8.94
          ],
          [
           8.74,
           8.81,
           8.76,
           8.93,
           8.98,
           8.99
          ],
          [
           8.89,
           8.99,
           8.92,
           9.1,
           9.13,
           9.11
          ],
          [
           8.97,
           8.97,
           8.91,
           9.09,
           9.11,
           9.11
          ],
          [
           9.04,
           9.08,
           9.05,
           9.25,
           9.28,
           9.27
          ],
          [
           9,
           9.01,
           9,
           9.2,
           9.23,
           9.2
          ],
          [
           8.99,
           8.99,
           8.98,
           9.18,
           9.2,
           9.19
          ],
          [
           8.93,
           8.97,
           8.97,
           9.18,
           9.2,
           9.18
          ]
         ]
        },
        {
         "opacity": 0.9,
         "showscale": false,
         "type": "surface",
         "z": [
          [
           9.83,
           9.89,
           9.81,
           9.87,
           9.9,
           9.87
          ],
          [
           9.89,
           9.94,
           9.85,
           9.94,
           9.96,
           9.92
          ],
          [
           9.84,
           9.9,
           9.82,
           9.92,
           9.93,
           9.91
          ],
          [
           9.79,
           9.85,
           9.79,
           9.9,
           9.94,
           9.92
          ],
          [
           9.79,
           9.88,
           9.81,
           9.9,
           9.95,
           9.92
          ],
          [
           9.8,
           9.82,
           9.78,
           9.91,
           9.94,
           9.92
          ],
          [
           9.75,
           9.78,
           9.77,
           9.91,
           9.95,
           9.92
          ],
          [
           9.8,
           9.8,
           9.77,
           9.91,
           9.95,
           9.94
          ],
          [
           9.74,
           9.81,
           9.76,
           9.93,
           9.98,
           9.99
          ],
          [
           9.89,
           9.99,
           9.92,
           10.1,
           10.13,
           10.11
          ],
          [
           9.97,
           9.97,
           9.91,
           10.09,
           10.11,
           10.11
          ],
          [
           10.04,
           10.08,
           10.05,
           10.25,
           10.28,
           10.27
          ],
          [
           10,
           10.01,
           10,
           10.2,
           10.23,
           10.2
          ],
          [
           9.99,
           9.99,
           9.98,
           10.18,
           10.2,
           10.19
          ],
          [
           9.93,
           9.97,
           9.97,
           10.18,
           10.2,
           10.18
          ]
         ]
        },
        {
         "opacity": 0.9,
         "showscale": false,
         "type": "surface",
         "z": [
          [
           7.83,
           7.890000000000001,
           7.8100000000000005,
           7.869999999999999,
           7.9,
           7.869999999999999
          ],
          [
           7.890000000000001,
           7.9399999999999995,
           7.85,
           7.9399999999999995,
           7.960000000000001,
           7.92
          ],
          [
           7.84,
           7.9,
           7.82,
           7.92,
           7.93,
           7.91
          ],
          [
           7.789999999999999,
           7.85,
           7.789999999999999,
           7.9,
           7.9399999999999995,
           7.92
          ],
          [
           7.789999999999999,
           7.880000000000001,
           7.8100000000000005,
           7.9,
           7.949999999999999,
           7.92
          ],
          [
           7.800000000000001,
           7.82,
           7.779999999999999,
           7.91,
           7.9399999999999995,
           7.92
          ],
          [
           7.75,
           7.779999999999999,
           7.77,
           7.91,
           7.949999999999999,
           7.92
          ],
          [
           7.800000000000001,
           7.800000000000001,
           7.77,
           7.91,
           7.949999999999999,
           7.9399999999999995
          ],
          [
           7.74,
           7.8100000000000005,
           7.76,
           7.93,
           7.98,
           7.99
          ],
          [
           7.890000000000001,
           7.99,
           7.92,
           8.1,
           8.13,
           8.11
          ],
          [
           7.970000000000001,
           7.970000000000001,
           7.91,
           8.09,
           8.11,
           8.11
          ],
          [
           8.04,
           8.08,
           8.05,
           8.25,
           8.28,
           8.27
          ],
          [
           8,
           8.01,
           8,
           8.2,
           8.23,
           8.2
          ],
          [
           7.99,
           7.99,
           7.98,
           8.18,
           8.2,
           8.19
          ],
          [
           7.93,
           7.970000000000001,
           7.970000000000001,
           8.18,
           8.2,
           8.18
          ]
         ]
        }
       ],
       "layout": {
        "template": {
         "data": {
          "bar": [
           {
            "error_x": {
             "color": "#2a3f5f"
            },
            "error_y": {
             "color": "#2a3f5f"
            },
            "marker": {
             "line": {
              "color": "#E5ECF6",
              "width": 0.5
             }
            },
            "type": "bar"
           }
          ],
          "barpolar": [
           {
            "marker": {
             "line": {
              "color": "#E5ECF6",
              "width": 0.5
             }
            },
            "type": "barpolar"
           }
          ],
          "carpet": [
           {
            "aaxis": {
             "endlinecolor": "#2a3f5f",
             "gridcolor": "white",
             "linecolor": "white",
             "minorgridcolor": "white",
             "startlinecolor": "#2a3f5f"
            },
            "baxis": {
             "endlinecolor": "#2a3f5f",
             "gridcolor": "white",
             "linecolor": "white",
             "minorgridcolor": "white",
             "startlinecolor": "#2a3f5f"
            },
            "type": "carpet"
           }
          ],
          "choropleth": [
           {
            "colorbar": {
             "outlinewidth": 0,
             "ticks": ""
            },
            "type": "choropleth"
           }
          ],
          "contour": [
           {
            "colorbar": {
             "outlinewidth": 0,
             "ticks": ""
            },
            "colorscale": [
             [
              0,
              "#0d0887"
             ],
             [
              0.1111111111111111,
              "#46039f"
             ],
             [
              0.2222222222222222,
              "#7201a8"
             ],
             [
              0.3333333333333333,
              "#9c179e"
             ],
             [
              0.4444444444444444,
              "#bd3786"
             ],
             [
              0.5555555555555556,
              "#d8576b"
             ],
             [
              0.6666666666666666,
              "#ed7953"
             ],
             [
              0.7777777777777778,
              "#fb9f3a"
             ],
             [
              0.8888888888888888,
              "#fdca26"
             ],
             [
              1,
              "#f0f921"
             ]
            ],
            "type": "contour"
           }
          ],
          "contourcarpet": [
           {
            "colorbar": {
             "outlinewidth": 0,
             "ticks": ""
            },
            "type": "contourcarpet"
           }
          ],
          "heatmap": [
           {
            "colorbar": {
             "outlinewidth": 0,
             "ticks": ""
            },
            "colorscale": [
             [
              0,
              "#0d0887"
             ],
             [
              0.1111111111111111,
              "#46039f"
             ],
             [
              0.2222222222222222,
              "#7201a8"
             ],
             [
              0.3333333333333333,
              "#9c179e"
             ],
             [
              0.4444444444444444,
              "#bd3786"
             ],
             [
              0.5555555555555556,
              "#d8576b"
             ],
             [
              0.6666666666666666,
              "#ed7953"
             ],
             [
              0.7777777777777778,
              "#fb9f3a"
             ],
             [
              0.8888888888888888,
              "#fdca26"
             ],
             [
              1,
              "#f0f921"
             ]
            ],
            "type": "heatmap"
           }
          ],
          "heatmapgl": [
           {
            "colorbar": {
             "outlinewidth": 0,
             "ticks": ""
            },
            "colorscale": [
             [
              0,
              "#0d0887"
             ],
             [
              0.1111111111111111,
              "#46039f"
             ],
             [
              0.2222222222222222,
              "#7201a8"
             ],
             [
              0.3333333333333333,
              "#9c179e"
             ],
             [
              0.4444444444444444,
              "#bd3786"
             ],
             [
              0.5555555555555556,
              "#d8576b"
             ],
             [
              0.6666666666666666,
              "#ed7953"
             ],
             [
              0.7777777777777778,
              "#fb9f3a"
             ],
             [
              0.8888888888888888,
              "#fdca26"
             ],
             [
              1,
              "#f0f921"
             ]
            ],
            "type": "heatmapgl"
           }
          ],
          "histogram": [
           {
            "marker": {
             "colorbar": {
              "outlinewidth": 0,
              "ticks": ""
             }
            },
            "type": "histogram"
           }
          ],
          "histogram2d": [
           {
            "colorbar": {
             "outlinewidth": 0,
             "ticks": ""
            },
            "colorscale": [
             [
              0,
              "#0d0887"
             ],
             [
              0.1111111111111111,
              "#46039f"
             ],
             [
              0.2222222222222222,
              "#7201a8"
             ],
             [
              0.3333333333333333,
              "#9c179e"
             ],
             [
              0.4444444444444444,
              "#bd3786"
             ],
             [
              0.5555555555555556,
              "#d8576b"
             ],
             [
              0.6666666666666666,
              "#ed7953"
             ],
             [
              0.7777777777777778,
              "#fb9f3a"
             ],
             [
              0.8888888888888888,
              "#fdca26"
             ],
             [
              1,
              "#f0f921"
             ]
            ],
            "type": "histogram2d"
           }
          ],
          "histogram2dcontour": [
           {
            "colorbar": {
             "outlinewidth": 0,
             "ticks": ""
            },
            "colorscale": [
             [
              0,
              "#0d0887"
             ],
             [
              0.1111111111111111,
              "#46039f"
             ],
             [
              0.2222222222222222,
              "#7201a8"
             ],
             [
              0.3333333333333333,
              "#9c179e"
             ],
             [
              0.4444444444444444,
              "#bd3786"
             ],
             [
              0.5555555555555556,
              "#d8576b"
             ],
             [
              0.6666666666666666,
              "#ed7953"
             ],
             [
              0.7777777777777778,
              "#fb9f3a"
             ],
             [
              0.8888888888888888,
              "#fdca26"
             ],
             [
              1,
              "#f0f921"
             ]
            ],
            "type": "histogram2dcontour"
           }
          ],
          "mesh3d": [
           {
            "colorbar": {
             "outlinewidth": 0,
             "ticks": ""
            },
            "type": "mesh3d"
           }
          ],
          "parcoords": [
           {
            "line": {
             "colorbar": {
              "outlinewidth": 0,
              "ticks": ""
             }
            },
            "type": "parcoords"
           }
          ],
          "pie": [
           {
            "automargin": true,
            "type": "pie"
           }
          ],
          "scatter": [
           {
            "marker": {
             "colorbar": {
              "outlinewidth": 0,
              "ticks": ""
             }
            },
            "type": "scatter"
           }
          ],
          "scatter3d": [
           {
            "line": {
             "colorbar": {
              "outlinewidth": 0,
              "ticks": ""
             }
            },
            "marker": {
             "colorbar": {
              "outlinewidth": 0,
              "ticks": ""
             }
            },
            "type": "scatter3d"
           }
          ],
          "scattercarpet": [
           {
            "marker": {
             "colorbar": {
              "outlinewidth": 0,
              "ticks": ""
             }
            },
            "type": "scattercarpet"
           }
          ],
          "scattergeo": [
           {
            "marker": {
             "colorbar": {
              "outlinewidth": 0,
              "ticks": ""
             }
            },
            "type": "scattergeo"
           }
          ],
          "scattergl": [
           {
            "marker": {
             "colorbar": {
              "outlinewidth": 0,
              "ticks": ""
             }
            },
            "type": "scattergl"
           }
          ],
          "scattermapbox": [
           {
            "marker": {
             "colorbar": {
              "outlinewidth": 0,
              "ticks": ""
             }
            },
            "type": "scattermapbox"
           }
          ],
          "scatterpolar": [
           {
            "marker": {
             "colorbar": {
              "outlinewidth": 0,
              "ticks": ""
             }
            },
            "type": "scatterpolar"
           }
          ],
          "scatterpolargl": [
           {
            "marker": {
             "colorbar": {
              "outlinewidth": 0,
              "ticks": ""
             }
            },
            "type": "scatterpolargl"
           }
          ],
          "scatterternary": [
           {
            "marker": {
             "colorbar": {
              "outlinewidth": 0,
              "ticks": ""
             }
            },
            "type": "scatterternary"
           }
          ],
          "surface": [
           {
            "colorbar": {
             "outlinewidth": 0,
             "ticks": ""
            },
            "colorscale": [
             [
              0,
              "#0d0887"
             ],
             [
              0.1111111111111111,
              "#46039f"
             ],
             [
              0.2222222222222222,
              "#7201a8"
             ],
             [
              0.3333333333333333,
              "#9c179e"
             ],
             [
              0.4444444444444444,
              "#bd3786"
             ],
             [
              0.5555555555555556,
              "#d8576b"
             ],
             [
              0.6666666666666666,
              "#ed7953"
             ],
             [
              0.7777777777777778,
              "#fb9f3a"
             ],
             [
              0.8888888888888888,
              "#fdca26"
             ],
             [
              1,
              "#f0f921"
             ]
            ],
            "type": "surface"
           }
          ],
          "table": [
           {
            "cells": {
             "fill": {
              "color": "#EBF0F8"
             },
             "line": {
              "color": "white"
             }
            },
            "header": {
             "fill": {
              "color": "#C8D4E3"
             },
             "line": {
              "color": "white"
             }
            },
            "type": "table"
           }
          ]
         },
         "layout": {
          "annotationdefaults": {
           "arrowcolor": "#2a3f5f",
           "arrowhead": 0,
           "arrowwidth": 1
          },
          "coloraxis": {
           "colorbar": {
            "outlinewidth": 0,
            "ticks": ""
           }
          },
          "colorscale": {
           "diverging": [
            [
             0,
             "#8e0152"
            ],
            [
             0.1,
             "#c51b7d"
            ],
            [
             0.2,
             "#de77ae"
            ],
            [
             0.3,
             "#f1b6da"
            ],
            [
             0.4,
             "#fde0ef"
            ],
            [
             0.5,
             "#f7f7f7"
            ],
            [
             0.6,
             "#e6f5d0"
            ],
            [
             0.7,
             "#b8e186"
            ],
            [
             0.8,
             "#7fbc41"
            ],
            [
             0.9,
             "#4d9221"
            ],
            [
             1,
             "#276419"
            ]
           ],
           "sequential": [
            [
             0,
             "#0d0887"
            ],
            [
             0.1111111111111111,
             "#46039f"
            ],
            [
             0.2222222222222222,
             "#7201a8"
            ],
            [
             0.3333333333333333,
             "#9c179e"
            ],
            [
             0.4444444444444444,
             "#bd3786"
            ],
            [
             0.5555555555555556,
             "#d8576b"
            ],
            [
             0.6666666666666666,
             "#ed7953"
            ],
            [
             0.7777777777777778,
             "#fb9f3a"
            ],
            [
             0.8888888888888888,
             "#fdca26"
            ],
            [
             1,
             "#f0f921"
            ]
           ],
           "sequentialminus": [
            [
             0,
             "#0d0887"
            ],
            [
             0.1111111111111111,
             "#46039f"
            ],
            [
             0.2222222222222222,
             "#7201a8"
            ],
            [
             0.3333333333333333,
             "#9c179e"
            ],
            [
             0.4444444444444444,
             "#bd3786"
            ],
            [
             0.5555555555555556,
             "#d8576b"
            ],
            [
             0.6666666666666666,
             "#ed7953"
            ],
            [
             0.7777777777777778,
             "#fb9f3a"
            ],
            [
             0.8888888888888888,
             "#fdca26"
            ],
            [
             1,
             "#f0f921"
            ]
           ]
          },
          "colorway": [
           "#636efa",
           "#EF553B",
           "#00cc96",
           "#ab63fa",
           "#FFA15A",
           "#19d3f3",
           "#FF6692",
           "#B6E880",
           "#FF97FF",
           "#FECB52"
          ],
          "font": {
           "color": "#2a3f5f"
          },
          "geo": {
           "bgcolor": "white",
           "lakecolor": "white",
           "landcolor": "#E5ECF6",
           "showlakes": true,
           "showland": true,
           "subunitcolor": "white"
          },
          "hoverlabel": {
           "align": "left"
          },
          "hovermode": "closest",
          "mapbox": {
           "style": "light"
          },
          "paper_bgcolor": "white",
          "plot_bgcolor": "#E5ECF6",
          "polar": {
           "angularaxis": {
            "gridcolor": "white",
            "linecolor": "white",
            "ticks": ""
           },
           "bgcolor": "#E5ECF6",
           "radialaxis": {
            "gridcolor": "white",
            "linecolor": "white",
            "ticks": ""
           }
          },
          "scene": {
           "xaxis": {
            "backgroundcolor": "#E5ECF6",
            "gridcolor": "white",
            "gridwidth": 2,
            "linecolor": "white",
            "showbackground": true,
            "ticks": "",
            "zerolinecolor": "white"
           },
           "yaxis": {
            "backgroundcolor": "#E5ECF6",
            "gridcolor": "white",
            "gridwidth": 2,
            "linecolor": "white",
            "showbackground": true,
            "ticks": "",
            "zerolinecolor": "white"
           },
           "zaxis": {
            "backgroundcolor": "#E5ECF6",
            "gridcolor": "white",
            "gridwidth": 2,
            "linecolor": "white",
            "showbackground": true,
            "ticks": "",
            "zerolinecolor": "white"
           }
          },
          "shapedefaults": {
           "line": {
            "color": "#2a3f5f"
           }
          },
          "ternary": {
           "aaxis": {
            "gridcolor": "white",
            "linecolor": "white",
            "ticks": ""
           },
           "baxis": {
            "gridcolor": "white",
            "linecolor": "white",
            "ticks": ""
           },
           "bgcolor": "#E5ECF6",
           "caxis": {
            "gridcolor": "white",
            "linecolor": "white",
            "ticks": ""
           }
          },
          "title": {
           "x": 0.05
          },
          "xaxis": {
           "automargin": true,
           "gridcolor": "white",
           "linecolor": "white",
           "ticks": "",
           "title": {
            "standoff": 15
           },
           "zerolinecolor": "white",
           "zerolinewidth": 2
          },
          "yaxis": {
           "automargin": true,
           "gridcolor": "white",
           "linecolor": "white",
           "ticks": "",
           "title": {
            "standoff": 15
           },
           "zerolinecolor": "white",
           "zerolinewidth": 2
          }
         }
        }
       }
      }
     },
     "metadata": {},
     "output_type": "display_data"
    }
   ],
   "source": [
    "import plotly.graph_objects as go\n",
    "import numpy as np\n",
    "\n",
    "def generate_collatz_set(k, v1, n):\n",
    "    a = []\n",
    "    if n<1 or v1%2==0:\n",
    "        return a\n",
    "    vi = v1\n",
    "    a.append(vi)\n",
    "    for i in range(n-1):\n",
    "        vi = k*vi+1\n",
    "        while vi%2 == 0:\n",
    "            vi /= 2\n",
    "        if vi in a:\n",
    "            return [] if len(a)<n else a\n",
    "        elif vi == 1:\n",
    "            a.append(int(vi))\n",
    "            return [] if len(a)<n else a\n",
    "        else:\n",
    "            a.append(int(vi))\n",
    "    return a\n",
    "\n",
    "def beta(integer_set, k):\n",
    "    l = len(integer_set)\n",
    "    if l == 0:\n",
    "        return 0\n",
    "    prod=1\n",
    "    for index in range(l):\n",
    "        element = integer_set[index]\n",
    "        prod *= (1+1/(k*element))\n",
    "    return prod\n",
    "\n",
    "def engel(k,a1,v1,n):\n",
    "    return v1 if n==1 else (k/2)**(n-2)*((k*v1+1)/2**a1+1/(k-2))-1/(k-2)\n",
    "\n",
    "def engelBeta(k,a1,v1,n):\n",
    "    return 1/((k-2)*v1)*(1+(2**a1-2)/k)-2**(a1-1)/((k-2)*v1)*(2/k)**n+1\n",
    "\n",
    "set1 = generate_collatz_set(5, 67, 7)\n",
    "print(set1)\n",
    "\n",
    "myset=[661,31,47,71]\n",
    "print(beta(myset,3))\n",
    "print(engel(3,6,661,1));\n",
    "print(engel(5,4,67,7));\n",
    "print(engelBeta(3,6,661,4));\n",
    "print(engelBeta(11,2,1,100));\n",
    "\n",
    "\n",
    "z1 = np.array([\n",
    "    [8.83,8.89,8.81,8.87,8.9,8.87],\n",
    "    [8.89,8.94,8.85,8.94,8.96,8.92],\n",
    "    [8.84,8.9,8.82,8.92,8.93,8.91],\n",
    "    [8.79,8.85,8.79,8.9,8.94,8.92],\n",
    "    [8.79,8.88,8.81,8.9,8.95,8.92],\n",
    "    [8.8,8.82,8.78,8.91,8.94,8.92],\n",
    "    [8.75,8.78,8.77,8.91,8.95,8.92],\n",
    "    [8.8,8.8,8.77,8.91,8.95,8.94],\n",
    "    [8.74,8.81,8.76,8.93,8.98,8.99],\n",
    "    [8.89,8.99,8.92,9.1,9.13,9.11],\n",
    "    [8.97,8.97,8.91,9.09,9.11,9.11],\n",
    "    [9.04,9.08,9.05,9.25,9.28,9.27],\n",
    "    [9,9.01,9,9.2,9.23,9.2],\n",
    "    [8.99,8.99,8.98,9.18,9.2,9.19],\n",
    "    [8.93,8.97,8.97,9.18,9.2,9.18]\n",
    "])\n",
    "\n",
    "z2 = z1 + 1\n",
    "z3 = z1 - 1\n",
    "\n",
    "fig = go.Figure(data=[\n",
    "    go.Surface(z=z1),\n",
    "    go.Surface(z=z2, showscale=False, opacity=0.9),\n",
    "    go.Surface(z=z3, showscale=False, opacity=0.9)\n",
    "\n",
    "])\n",
    "\n",
    "fig.show()\n",
    "\n",
    "\n",
    "#for i in range(1, 1000, 2):\n",
    "#    print(\"{0} {1}\".format(i,engel(5,4,i,7)))"
   ]
  },
  {
   "cell_type": "code",
   "execution_count": null,
   "metadata": {},
   "outputs": [],
   "source": []
  }
 ],
 "metadata": {
  "kernelspec": {
   "display_name": "Python 3.7.4 64-bit ('anaconda3': conda)",
   "language": "python",
   "name": "python37464bitanaconda3condafd1ed19ffe5f4d748b8ad28c0e6f9452"
  },
  "language_info": {
   "codemirror_mode": {
    "name": "ipython",
    "version": 3
   },
   "file_extension": ".py",
   "mimetype": "text/x-python",
   "name": "python",
   "nbconvert_exporter": "python",
   "pygments_lexer": "ipython3",
   "version": "3.7.6"
  }
 },
 "nbformat": 4,
 "nbformat_minor": 2
}
