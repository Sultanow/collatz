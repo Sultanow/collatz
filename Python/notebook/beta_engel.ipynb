{
 "cells": [
  {
   "cell_type": "code",
   "execution_count": 1,
   "metadata": {},
   "outputs": [],
   "source": [
    "import math\n",
    "\n",
    "def exact_divisibility_two(x):\n",
    "    d = 0\n",
    "    while x%2 == 0:\n",
    "        x /= 2\n",
    "        d+=1\n",
    "    return d\n",
    "\n",
    "def generate_collatz_set(k, v1, n):\n",
    "    collatz_set = []\n",
    "    if n<1 or v1%2==0:\n",
    "        return collatz_set\n",
    "    vi = v1\n",
    "    collatz_set.append(vi)\n",
    "    for i in range(n-1):\n",
    "        vi = k*vi+1\n",
    "        while vi%2 == 0:\n",
    "            vi /= 2\n",
    "        if vi in collatz_set:\n",
    "            return [] if len(collatz_set)<n else collatz_set\n",
    "        elif vi == 1:\n",
    "            #collatz_set.append(int(vi))\n",
    "            return [] if len(collatz_set)<n else collatz_set\n",
    "        else:\n",
    "            collatz_set.append(int(vi))\n",
    "    return collatz_set\n",
    "\n",
    "def beta(integer_set, k):\n",
    "    l = len(integer_set)\n",
    "    if l == 0:\n",
    "        return 1\n",
    "    prod=1\n",
    "    for i in range(l):\n",
    "        element = integer_set[i]\n",
    "        prod *= (1+1/(k*element))\n",
    "    return prod\n",
    "\n",
    "def engel(k,v1,n):\n",
    "    return v1 if n==1 else (k/2)**(n-2)*(calculate_v2(v1, k)+1/(k-2))-1/(k-2)\n",
    "\n",
    "def engel_beta(k,v1,n):\n",
    "    collatz_set = generate_collatz_set(k, v1, n)\n",
    "    l=len(collatz_set)\n",
    "    if (l < n):\n",
    "        return 1\n",
    "    if (1 == n):\n",
    "        return 1 + 1/(k*v1)\n",
    "    v2 = collatz_set[1]\n",
    "    b = 1 + 1/(k*v1) + (k*v1+1)/(k*(k-2)*v1*v2)*(1-(2/k)**(n-1))\n",
    "    return b\n",
    "\n",
    "def engel_beta_m(k,v1,n,m):\n",
    "    collatz_set = generate_collatz_set(k, v1, n)\n",
    "    l=len(collatz_set)\n",
    "    if (l < n):\n",
    "        return 1\n",
    "    if (1 == n):\n",
    "        return 1 + 1/(k*v1)\n",
    "    alpha1 = m + 1\n",
    "    b = 1 + 1/(k*v1) + 2**(alpha1)/(k*(k-2)*v1)*(1-(2/k)**(n-1))\n",
    "    return b\n",
    "\n",
    "def calculate_alpha(collatz_set, k):\n",
    "    l = len(collatz_set)\n",
    "    if l <= 1:\n",
    "        return 0\n",
    "    a = 0\n",
    "    for i in range(l-1):\n",
    "        vi = collatz_set[i]\n",
    "        a += exact_divisibility_two(k*vi+1)\n",
    "    return a\n",
    "\n",
    "def calculate_v2(v1, k):\n",
    "    temp = k*v1+1\n",
    "    a1 = exact_divisibility_two(temp)\n",
    "    return temp / 2**a1\n",
    "\n",
    "def find_engel_expansions(k, n, start, stop):\n",
    "    result = []\n",
    "    for v1 in range(start, stop):\n",
    "        e = engel(k, v1, n)\n",
    "        if e.is_integer():\n",
    "            col_set = generate_collatz_set(k, v1, n)\n",
    "            if len(col_set) == n:\n",
    "                result.append(col_set)\n",
    "    return result"
   ]
  },
  {
   "cell_type": "code",
   "execution_count": 2,
   "outputs": [
    {
     "name": "stdout",
     "output_type": "stream",
     "text": [
      "[7, 11, 17, 13, 5] 1.203997648442093 7\n",
      "5.938859494415049\n"
     ]
    }
   ],
   "source": [
    "#print(find_engel_expansions(3, 7, 1, 9999))\n",
    "#print(engel_beta(3,7,5))\n",
    "#print(engel_beta(3,9,5))\n",
    "k=3\n",
    "colset = generate_collatz_set(k,7,5)\n",
    "print(\"{0} {1} {2}\".format(colset, beta(colset,k), calculate_alpha(colset, k)))\n",
    "print(engel_beta_m(k,7,5,6))"
   ],
   "metadata": {
    "collapsed": false,
    "pycharm": {
     "name": "#%%\n"
    }
   }
  },
  {
   "cell_type": "code",
   "execution_count": 3,
   "metadata": {
    "tags": []
   },
   "outputs": [
    {
     "name": "stdout",
     "output_type": "stream",
     "text": [
      "1.0232158532713247\n",
      "161.0\n",
      "2082.9999999999995\n"
     ]
    }
   ],
   "source": [
    "import pandas as pd\n",
    "\n",
    "print(engel_beta(3,661,4))\n",
    "print(engel(3,31,5))\n",
    "print(engel(5,67,7))\n",
    "\n",
    "max_iter=20\n",
    "k=3\n",
    "data = []\n",
    "data_engel = []\n",
    "for x in range(max_iter):\n",
    "    for y in range(max_iter):\n",
    "        v1 = 2*x+1\n",
    "        n = y+1\n",
    "        eb = engel_beta(k, v1, n)\n",
    "\n",
    "        colset = generate_collatz_set(k, v1, n)\n",
    "        b = beta(colset, k)\n",
    "        #str_collatz_set = '[' + ' '.join(map(str, collatz_set)) + ']'\n",
    "        data.append([x, y, b])\n",
    "        data_engel.append([x, y, eb])\n",
    "\n",
    "columns = ['v1', 'n', 'engel_beta']\n",
    "df = pd.DataFrame(data_engel, columns=columns)\n",
    "#print(df.iloc[240:280,:])\n",
    "df.to_csv('c:/temp/collatz_engelbeta.csv', index=False)\n",
    "\n",
    "columns = ['v1', 'n', 'beta']\n",
    "df = pd.DataFrame(data, columns=columns)\n",
    "#print(df.iloc[240:280,:])\n",
    "df.to_csv('c:/temp/collatz_beta.csv', index=False)"
   ]
  },
  {
   "cell_type": "code",
   "execution_count": 50,
   "metadata": {
    "pycharm": {
     "name": "#%%\n"
    }
   },
   "outputs": [],
   "source": [
    "import numpy as np\n",
    "\n",
    "x = np.linspace(0, max_iter-1, max_iter)\n",
    "y = np.linspace(0, max_iter-1, max_iter)\n",
    "X, Y = np.meshgrid(x, y)\n",
    "X = X.astype(int)\n",
    "Y = Y.astype(int)\n",
    "Z = np.zeros(shape=(max_iter, max_iter))\n",
    "k = 3\n",
    "\n",
    "def fn_plot_beta(x, y):\n",
    "    v1 = 2*x+1\n",
    "    n = y+1\n",
    "    collatz_set = generate_collatz_set(k, v1, n)\n",
    "    return float(beta(collatz_set, k))\n",
    "\n",
    "def fn_plot_engel_beta(x, y):\n",
    "    v1 = 2*x+1\n",
    "    n = y+1\n",
    "    return float(engel_beta(k,v1,n))\n",
    "\n",
    "fn_vectorized_beta = np.vectorize(fn_plot_beta)\n",
    "Z_beta = fn_vectorized_beta(X, Y)\n",
    "\n",
    "fn_vectorized_engel_beta = np.vectorize(fn_plot_engel_beta)\n",
    "Z_engel_beta = fn_vectorized_engel_beta(X, Y)"
   ]
  },
  {
   "cell_type": "code",
   "execution_count": 51,
   "metadata": {
    "pycharm": {
     "name": "#%%\n"
    }
   },
   "outputs": [
    {
     "data": {
      "application/vnd.plotly.v1+json": {
       "config": {
        "plotlyServerURL": "https://plot.ly"
       },
       "data": [
        {
         "opacity": 0.9,
         "showscale": false,
         "type": "surface",
         "x": [
          [
           0,
           1,
           2,
           3,
           4,
           5,
           6,
           7,
           8,
           9,
           10,
           11,
           12,
           13,
           14,
           15,
           16,
           17,
           18,
           19
          ],
          [
           0,
           1,
           2,
           3,
           4,
           5,
           6,
           7,
           8,
           9,
           10,
           11,
           12,
           13,
           14,
           15,
           16,
           17,
           18,
           19
          ],
          [
           0,
           1,
           2,
           3,
           4,
           5,
           6,
           7,
           8,
           9,
           10,
           11,
           12,
           13,
           14,
           15,
           16,
           17,
           18,
           19
          ],
          [
           0,
           1,
           2,
           3,
           4,
           5,
           6,
           7,
           8,
           9,
           10,
           11,
           12,
           13,
           14,
           15,
           16,
           17,
           18,
           19
          ],
          [
           0,
           1,
           2,
           3,
           4,
           5,
           6,
           7,
           8,
           9,
           10,
           11,
           12,
           13,
           14,
           15,
           16,
           17,
           18,
           19
          ],
          [
           0,
           1,
           2,
           3,
           4,
           5,
           6,
           7,
           8,
           9,
           10,
           11,
           12,
           13,
           14,
           15,
           16,
           17,
           18,
           19
          ],
          [
           0,
           1,
           2,
           3,
           4,
           5,
           6,
           7,
           8,
           9,
           10,
           11,
           12,
           13,
           14,
           15,
           16,
           17,
           18,
           19
          ],
          [
           0,
           1,
           2,
           3,
           4,
           5,
           6,
           7,
           8,
           9,
           10,
           11,
           12,
           13,
           14,
           15,
           16,
           17,
           18,
           19
          ],
          [
           0,
           1,
           2,
           3,
           4,
           5,
           6,
           7,
           8,
           9,
           10,
           11,
           12,
           13,
           14,
           15,
           16,
           17,
           18,
           19
          ],
          [
           0,
           1,
           2,
           3,
           4,
           5,
           6,
           7,
           8,
           9,
           10,
           11,
           12,
           13,
           14,
           15,
           16,
           17,
           18,
           19
          ],
          [
           0,
           1,
           2,
           3,
           4,
           5,
           6,
           7,
           8,
           9,
           10,
           11,
           12,
           13,
           14,
           15,
           16,
           17,
           18,
           19
          ],
          [
           0,
           1,
           2,
           3,
           4,
           5,
           6,
           7,
           8,
           9,
           10,
           11,
           12,
           13,
           14,
           15,
           16,
           17,
           18,
           19
          ],
          [
           0,
           1,
           2,
           3,
           4,
           5,
           6,
           7,
           8,
           9,
           10,
           11,
           12,
           13,
           14,
           15,
           16,
           17,
           18,
           19
          ],
          [
           0,
           1,
           2,
           3,
           4,
           5,
           6,
           7,
           8,
           9,
           10,
           11,
           12,
           13,
           14,
           15,
           16,
           17,
           18,
           19
          ],
          [
           0,
           1,
           2,
           3,
           4,
           5,
           6,
           7,
           8,
           9,
           10,
           11,
           12,
           13,
           14,
           15,
           16,
           17,
           18,
           19
          ],
          [
           0,
           1,
           2,
           3,
           4,
           5,
           6,
           7,
           8,
           9,
           10,
           11,
           12,
           13,
           14,
           15,
           16,
           17,
           18,
           19
          ],
          [
           0,
           1,
           2,
           3,
           4,
           5,
           6,
           7,
           8,
           9,
           10,
           11,
           12,
           13,
           14,
           15,
           16,
           17,
           18,
           19
          ],
          [
           0,
           1,
           2,
           3,
           4,
           5,
           6,
           7,
           8,
           9,
           10,
           11,
           12,
           13,
           14,
           15,
           16,
           17,
           18,
           19
          ],
          [
           0,
           1,
           2,
           3,
           4,
           5,
           6,
           7,
           8,
           9,
           10,
           11,
           12,
           13,
           14,
           15,
           16,
           17,
           18,
           19
          ],
          [
           0,
           1,
           2,
           3,
           4,
           5,
           6,
           7,
           8,
           9,
           10,
           11,
           12,
           13,
           14,
           15,
           16,
           17,
           18,
           19
          ]
         ],
         "y": [
          [
           0,
           0,
           0,
           0,
           0,
           0,
           0,
           0,
           0,
           0,
           0,
           0,
           0,
           0,
           0,
           0,
           0,
           0,
           0,
           0
          ],
          [
           1,
           1,
           1,
           1,
           1,
           1,
           1,
           1,
           1,
           1,
           1,
           1,
           1,
           1,
           1,
           1,
           1,
           1,
           1,
           1
          ],
          [
           2,
           2,
           2,
           2,
           2,
           2,
           2,
           2,
           2,
           2,
           2,
           2,
           2,
           2,
           2,
           2,
           2,
           2,
           2,
           2
          ],
          [
           3,
           3,
           3,
           3,
           3,
           3,
           3,
           3,
           3,
           3,
           3,
           3,
           3,
           3,
           3,
           3,
           3,
           3,
           3,
           3
          ],
          [
           4,
           4,
           4,
           4,
           4,
           4,
           4,
           4,
           4,
           4,
           4,
           4,
           4,
           4,
           4,
           4,
           4,
           4,
           4,
           4
          ],
          [
           5,
           5,
           5,
           5,
           5,
           5,
           5,
           5,
           5,
           5,
           5,
           5,
           5,
           5,
           5,
           5,
           5,
           5,
           5,
           5
          ],
          [
           6,
           6,
           6,
           6,
           6,
           6,
           6,
           6,
           6,
           6,
           6,
           6,
           6,
           6,
           6,
           6,
           6,
           6,
           6,
           6
          ],
          [
           7,
           7,
           7,
           7,
           7,
           7,
           7,
           7,
           7,
           7,
           7,
           7,
           7,
           7,
           7,
           7,
           7,
           7,
           7,
           7
          ],
          [
           8,
           8,
           8,
           8,
           8,
           8,
           8,
           8,
           8,
           8,
           8,
           8,
           8,
           8,
           8,
           8,
           8,
           8,
           8,
           8
          ],
          [
           9,
           9,
           9,
           9,
           9,
           9,
           9,
           9,
           9,
           9,
           9,
           9,
           9,
           9,
           9,
           9,
           9,
           9,
           9,
           9
          ],
          [
           10,
           10,
           10,
           10,
           10,
           10,
           10,
           10,
           10,
           10,
           10,
           10,
           10,
           10,
           10,
           10,
           10,
           10,
           10,
           10
          ],
          [
           11,
           11,
           11,
           11,
           11,
           11,
           11,
           11,
           11,
           11,
           11,
           11,
           11,
           11,
           11,
           11,
           11,
           11,
           11,
           11
          ],
          [
           12,
           12,
           12,
           12,
           12,
           12,
           12,
           12,
           12,
           12,
           12,
           12,
           12,
           12,
           12,
           12,
           12,
           12,
           12,
           12
          ],
          [
           13,
           13,
           13,
           13,
           13,
           13,
           13,
           13,
           13,
           13,
           13,
           13,
           13,
           13,
           13,
           13,
           13,
           13,
           13,
           13
          ],
          [
           14,
           14,
           14,
           14,
           14,
           14,
           14,
           14,
           14,
           14,
           14,
           14,
           14,
           14,
           14,
           14,
           14,
           14,
           14,
           14
          ],
          [
           15,
           15,
           15,
           15,
           15,
           15,
           15,
           15,
           15,
           15,
           15,
           15,
           15,
           15,
           15,
           15,
           15,
           15,
           15,
           15
          ],
          [
           16,
           16,
           16,
           16,
           16,
           16,
           16,
           16,
           16,
           16,
           16,
           16,
           16,
           16,
           16,
           16,
           16,
           16,
           16,
           16
          ],
          [
           17,
           17,
           17,
           17,
           17,
           17,
           17,
           17,
           17,
           17,
           17,
           17,
           17,
           17,
           17,
           17,
           17,
           17,
           17,
           17
          ],
          [
           18,
           18,
           18,
           18,
           18,
           18,
           18,
           18,
           18,
           18,
           18,
           18,
           18,
           18,
           18,
           18,
           18,
           18,
           18,
           18
          ],
          [
           19,
           19,
           19,
           19,
           19,
           19,
           19,
           19,
           19,
           19,
           19,
           19,
           19,
           19,
           19,
           19,
           19,
           19,
           19,
           19
          ]
         ],
         "z": [
          [
           1.3333333333333333,
           1.1111111111111112,
           1.0666666666666667,
           1.0476190476190477,
           1.037037037037037,
           1.0303030303030303,
           1.0256410256410255,
           1.0222222222222221,
           1.0196078431372548,
           1.0175438596491229,
           1.0158730158730158,
           1.0144927536231885,
           1.0133333333333334,
           1.0123456790123457,
           1.0114942528735633,
           1.010752688172043,
           1.0101010101010102,
           1.0095238095238095,
           1.009009009009009,
           1.0085470085470085
          ],
          [
           1.0,
           1.1851851851851853,
           1.0,
           1.0793650793650795,
           1.0864197530864197,
           1.0505050505050504,
           1.094017094017094,
           1.037037037037037,
           1.045751633986928,
           1.0292397660818715,
           1.0,
           1.0241545893719808,
           1.031111111111111,
           1.0205761316872428,
           1.042145593869732,
           1.017921146953405,
           1.0235690235690236,
           1.0158730158730158,
           1.057057057057057,
           1.0142450142450141
          ],
          [
           1.0,
           1.0,
           1.0,
           1.1005291005291005,
           1.1193415637860082,
           1.063973063973064,
           1.0,
           1.0469135802469136,
           1.06318082788671,
           1.0370370370370372,
           1.0,
           1.030595813204509,
           1.042962962962963,
           1.0260631001371743,
           1.0625798212005109,
           1.022700119474313,
           1.0325476992143658,
           1.0201058201058202,
           1.089089089089089,
           1.0180436847103513
          ],
          [
           1.0,
           1.0,
           1.0,
           1.1146384479717812,
           1.1412894375857339,
           1.0729517396184063,
           1.0,
           1.0534979423868311,
           1.0,
           1.0422352176738143,
           1.0,
           1.0348899624261945,
           1.0508641975308644,
           1.0297210791037952,
           1.0762026394210302,
           1.0258861011549183,
           1.0385334829779276,
           1.0,
           1.1104437771104436,
           1.0205761316872428
          ],
          [
           1.0,
           1.0,
           1.0,
           1.1240446796002352,
           1.1559213534522175,
           1.0,
           1.0,
           1.0578875171467763,
           1.0,
           1.0457006714316657,
           1.0,
           1.0,
           1.0561316872427984,
           1.0321597317482092,
           1.08528451823471,
           1.0280100889419885,
           1.0425240054869684,
           1.0,
           1.1246802357913468,
           1.022264429671837
          ],
          [
           1.0,
           1.0,
           1.0,
           1.0,
           1.1656759640298735,
           1.0,
           1.0,
           1.0,
           1.0,
           1.0480109739369,
           1.0,
           1.0,
           1.0596433470507545,
           1.0337855001778185,
           1.0,
           1.0294260808000355,
           1.0451843538263292,
           1.0,
           1.1341712082452822,
           1.0233899616615665
          ],
          [
           1.0,
           1.0,
           1.0,
           1.0,
           1.0,
           1.0,
           1.0,
           1.0,
           1.0,
           1.0,
           1.0,
           1.0,
           1.0619844535893919,
           1.034869345797558,
           1.0,
           1.0303700753720666,
           1.0469579193859029,
           1.0,
           1.0,
           1.0241403163213862
          ],
          [
           1.0,
           1.0,
           1.0,
           1.0,
           1.0,
           1.0,
           1.0,
           1.0,
           1.0,
           1.0,
           1.0,
           1.0,
           1.0,
           1.0355919095440511,
           1.0,
           1.0309994050867541,
           1.0481402964256188,
           1.0,
           1.0,
           1.024640552761266
          ],
          [
           1.0,
           1.0,
           1.0,
           1.0,
           1.0,
           1.0,
           1.0,
           1.0,
           1.0,
           1.0,
           1.0,
           1.0,
           1.0,
           1.0360736187083797,
           1.0,
           1.0314189582298792,
           1.0,
           1.0,
           1.0,
           1.0249740437211858
          ],
          [
           1.0,
           1.0,
           1.0,
           1.0,
           1.0,
           1.0,
           1.0,
           1.0,
           1.0,
           1.0,
           1.0,
           1.0,
           1.0,
           1.0363947581512656,
           1.0,
           1.0316986603252958,
           1.0,
           1.0,
           1.0,
           1.0251963710277991
          ],
          [
           1.0,
           1.0,
           1.0,
           1.0,
           1.0,
           1.0,
           1.0,
           1.0,
           1.0,
           1.0,
           1.0,
           1.0,
           1.0,
           1.0366088511131895,
           1.0,
           1.0318851283889068,
           1.0,
           1.0,
           1.0,
           1.025344589232208
          ],
          [
           1.0,
           1.0,
           1.0,
           1.0,
           1.0,
           1.0,
           1.0,
           1.0,
           1.0,
           1.0,
           1.0,
           1.0,
           1.0,
           1.036751579754472,
           1.0,
           1.0320094404313143,
           1.0,
           1.0,
           1.0,
           1.0
          ],
          [
           1.0,
           1.0,
           1.0,
           1.0,
           1.0,
           1.0,
           1.0,
           1.0,
           1.0,
           1.0,
           1.0,
           1.0,
           1.0,
           1.0368467321819936,
           1.0,
           1.0320923151262524,
           1.0,
           1.0,
           1.0,
           1.0
          ],
          [
           1.0,
           1.0,
           1.0,
           1.0,
           1.0,
           1.0,
           1.0,
           1.0,
           1.0,
           1.0,
           1.0,
           1.0,
           1.0,
           1.036910167133675,
           1.0,
           1.032147564922878,
           1.0,
           1.0,
           1.0,
           1.0
          ],
          [
           1.0,
           1.0,
           1.0,
           1.0,
           1.0,
           1.0,
           1.0,
           1.0,
           1.0,
           1.0,
           1.0,
           1.0,
           1.0,
           1.0369524571014623,
           1.0,
           1.0321843981206282,
           1.0,
           1.0,
           1.0,
           1.0
          ],
          [
           1.0,
           1.0,
           1.0,
           1.0,
           1.0,
           1.0,
           1.0,
           1.0,
           1.0,
           1.0,
           1.0,
           1.0,
           1.0,
           1.0369806504133205,
           1.0,
           1.0322089535857952,
           1.0,
           1.0,
           1.0,
           1.0
          ],
          [
           1.0,
           1.0,
           1.0,
           1.0,
           1.0,
           1.0,
           1.0,
           1.0,
           1.0,
           1.0,
           1.0,
           1.0,
           1.0,
           1.0369994459545593,
           1.0,
           1.0322253238959065,
           1.0,
           1.0,
           1.0,
           1.0
          ],
          [
           1.0,
           1.0,
           1.0,
           1.0,
           1.0,
           1.0,
           1.0,
           1.0,
           1.0,
           1.0,
           1.0,
           1.0,
           1.0,
           1.0370119763153853,
           1.0,
           1.0322362374359806,
           1.0,
           1.0,
           1.0,
           1.0
          ],
          [
           1.0,
           1.0,
           1.0,
           1.0,
           1.0,
           1.0,
           1.0,
           1.0,
           1.0,
           1.0,
           1.0,
           1.0,
           1.0,
           1.0370203298892693,
           1.0,
           1.0322435131293635,
           1.0,
           1.0,
           1.0,
           1.0
          ],
          [
           1.0,
           1.0,
           1.0,
           1.0,
           1.0,
           1.0,
           1.0,
           1.0,
           1.0,
           1.0,
           1.0,
           1.0,
           1.0,
           1.0370258989385253,
           1.0,
           1.0322483635916186,
           1.0,
           1.0,
           1.0,
           1.0
          ]
         ]
        }
       ],
       "layout": {
        "autosize": true,
        "height": 600,
        "margin": {
         "b": 65,
         "l": 65,
         "r": 50,
         "t": 90
        },
        "template": {
         "data": {
          "bar": [
           {
            "error_x": {
             "color": "#2a3f5f"
            },
            "error_y": {
             "color": "#2a3f5f"
            },
            "marker": {
             "line": {
              "color": "#E5ECF6",
              "width": 0.5
             }
            },
            "type": "bar"
           }
          ],
          "barpolar": [
           {
            "marker": {
             "line": {
              "color": "#E5ECF6",
              "width": 0.5
             }
            },
            "type": "barpolar"
           }
          ],
          "carpet": [
           {
            "aaxis": {
             "endlinecolor": "#2a3f5f",
             "gridcolor": "white",
             "linecolor": "white",
             "minorgridcolor": "white",
             "startlinecolor": "#2a3f5f"
            },
            "baxis": {
             "endlinecolor": "#2a3f5f",
             "gridcolor": "white",
             "linecolor": "white",
             "minorgridcolor": "white",
             "startlinecolor": "#2a3f5f"
            },
            "type": "carpet"
           }
          ],
          "choropleth": [
           {
            "colorbar": {
             "outlinewidth": 0,
             "ticks": ""
            },
            "type": "choropleth"
           }
          ],
          "contour": [
           {
            "colorbar": {
             "outlinewidth": 0,
             "ticks": ""
            },
            "colorscale": [
             [
              0.0,
              "#0d0887"
             ],
             [
              0.1111111111111111,
              "#46039f"
             ],
             [
              0.2222222222222222,
              "#7201a8"
             ],
             [
              0.3333333333333333,
              "#9c179e"
             ],
             [
              0.4444444444444444,
              "#bd3786"
             ],
             [
              0.5555555555555556,
              "#d8576b"
             ],
             [
              0.6666666666666666,
              "#ed7953"
             ],
             [
              0.7777777777777778,
              "#fb9f3a"
             ],
             [
              0.8888888888888888,
              "#fdca26"
             ],
             [
              1.0,
              "#f0f921"
             ]
            ],
            "type": "contour"
           }
          ],
          "contourcarpet": [
           {
            "colorbar": {
             "outlinewidth": 0,
             "ticks": ""
            },
            "type": "contourcarpet"
           }
          ],
          "heatmap": [
           {
            "colorbar": {
             "outlinewidth": 0,
             "ticks": ""
            },
            "colorscale": [
             [
              0.0,
              "#0d0887"
             ],
             [
              0.1111111111111111,
              "#46039f"
             ],
             [
              0.2222222222222222,
              "#7201a8"
             ],
             [
              0.3333333333333333,
              "#9c179e"
             ],
             [
              0.4444444444444444,
              "#bd3786"
             ],
             [
              0.5555555555555556,
              "#d8576b"
             ],
             [
              0.6666666666666666,
              "#ed7953"
             ],
             [
              0.7777777777777778,
              "#fb9f3a"
             ],
             [
              0.8888888888888888,
              "#fdca26"
             ],
             [
              1.0,
              "#f0f921"
             ]
            ],
            "type": "heatmap"
           }
          ],
          "heatmapgl": [
           {
            "colorbar": {
             "outlinewidth": 0,
             "ticks": ""
            },
            "colorscale": [
             [
              0.0,
              "#0d0887"
             ],
             [
              0.1111111111111111,
              "#46039f"
             ],
             [
              0.2222222222222222,
              "#7201a8"
             ],
             [
              0.3333333333333333,
              "#9c179e"
             ],
             [
              0.4444444444444444,
              "#bd3786"
             ],
             [
              0.5555555555555556,
              "#d8576b"
             ],
             [
              0.6666666666666666,
              "#ed7953"
             ],
             [
              0.7777777777777778,
              "#fb9f3a"
             ],
             [
              0.8888888888888888,
              "#fdca26"
             ],
             [
              1.0,
              "#f0f921"
             ]
            ],
            "type": "heatmapgl"
           }
          ],
          "histogram": [
           {
            "marker": {
             "colorbar": {
              "outlinewidth": 0,
              "ticks": ""
             }
            },
            "type": "histogram"
           }
          ],
          "histogram2d": [
           {
            "colorbar": {
             "outlinewidth": 0,
             "ticks": ""
            },
            "colorscale": [
             [
              0.0,
              "#0d0887"
             ],
             [
              0.1111111111111111,
              "#46039f"
             ],
             [
              0.2222222222222222,
              "#7201a8"
             ],
             [
              0.3333333333333333,
              "#9c179e"
             ],
             [
              0.4444444444444444,
              "#bd3786"
             ],
             [
              0.5555555555555556,
              "#d8576b"
             ],
             [
              0.6666666666666666,
              "#ed7953"
             ],
             [
              0.7777777777777778,
              "#fb9f3a"
             ],
             [
              0.8888888888888888,
              "#fdca26"
             ],
             [
              1.0,
              "#f0f921"
             ]
            ],
            "type": "histogram2d"
           }
          ],
          "histogram2dcontour": [
           {
            "colorbar": {
             "outlinewidth": 0,
             "ticks": ""
            },
            "colorscale": [
             [
              0.0,
              "#0d0887"
             ],
             [
              0.1111111111111111,
              "#46039f"
             ],
             [
              0.2222222222222222,
              "#7201a8"
             ],
             [
              0.3333333333333333,
              "#9c179e"
             ],
             [
              0.4444444444444444,
              "#bd3786"
             ],
             [
              0.5555555555555556,
              "#d8576b"
             ],
             [
              0.6666666666666666,
              "#ed7953"
             ],
             [
              0.7777777777777778,
              "#fb9f3a"
             ],
             [
              0.8888888888888888,
              "#fdca26"
             ],
             [
              1.0,
              "#f0f921"
             ]
            ],
            "type": "histogram2dcontour"
           }
          ],
          "mesh3d": [
           {
            "colorbar": {
             "outlinewidth": 0,
             "ticks": ""
            },
            "type": "mesh3d"
           }
          ],
          "parcoords": [
           {
            "line": {
             "colorbar": {
              "outlinewidth": 0,
              "ticks": ""
             }
            },
            "type": "parcoords"
           }
          ],
          "pie": [
           {
            "automargin": true,
            "type": "pie"
           }
          ],
          "scatter": [
           {
            "marker": {
             "colorbar": {
              "outlinewidth": 0,
              "ticks": ""
             }
            },
            "type": "scatter"
           }
          ],
          "scatter3d": [
           {
            "line": {
             "colorbar": {
              "outlinewidth": 0,
              "ticks": ""
             }
            },
            "marker": {
             "colorbar": {
              "outlinewidth": 0,
              "ticks": ""
             }
            },
            "type": "scatter3d"
           }
          ],
          "scattercarpet": [
           {
            "marker": {
             "colorbar": {
              "outlinewidth": 0,
              "ticks": ""
             }
            },
            "type": "scattercarpet"
           }
          ],
          "scattergeo": [
           {
            "marker": {
             "colorbar": {
              "outlinewidth": 0,
              "ticks": ""
             }
            },
            "type": "scattergeo"
           }
          ],
          "scattergl": [
           {
            "marker": {
             "colorbar": {
              "outlinewidth": 0,
              "ticks": ""
             }
            },
            "type": "scattergl"
           }
          ],
          "scattermapbox": [
           {
            "marker": {
             "colorbar": {
              "outlinewidth": 0,
              "ticks": ""
             }
            },
            "type": "scattermapbox"
           }
          ],
          "scatterpolar": [
           {
            "marker": {
             "colorbar": {
              "outlinewidth": 0,
              "ticks": ""
             }
            },
            "type": "scatterpolar"
           }
          ],
          "scatterpolargl": [
           {
            "marker": {
             "colorbar": {
              "outlinewidth": 0,
              "ticks": ""
             }
            },
            "type": "scatterpolargl"
           }
          ],
          "scatterternary": [
           {
            "marker": {
             "colorbar": {
              "outlinewidth": 0,
              "ticks": ""
             }
            },
            "type": "scatterternary"
           }
          ],
          "surface": [
           {
            "colorbar": {
             "outlinewidth": 0,
             "ticks": ""
            },
            "colorscale": [
             [
              0.0,
              "#0d0887"
             ],
             [
              0.1111111111111111,
              "#46039f"
             ],
             [
              0.2222222222222222,
              "#7201a8"
             ],
             [
              0.3333333333333333,
              "#9c179e"
             ],
             [
              0.4444444444444444,
              "#bd3786"
             ],
             [
              0.5555555555555556,
              "#d8576b"
             ],
             [
              0.6666666666666666,
              "#ed7953"
             ],
             [
              0.7777777777777778,
              "#fb9f3a"
             ],
             [
              0.8888888888888888,
              "#fdca26"
             ],
             [
              1.0,
              "#f0f921"
             ]
            ],
            "type": "surface"
           }
          ],
          "table": [
           {
            "cells": {
             "fill": {
              "color": "#EBF0F8"
             },
             "line": {
              "color": "white"
             }
            },
            "header": {
             "fill": {
              "color": "#C8D4E3"
             },
             "line": {
              "color": "white"
             }
            },
            "type": "table"
           }
          ]
         },
         "layout": {
          "annotationdefaults": {
           "arrowcolor": "#2a3f5f",
           "arrowhead": 0,
           "arrowwidth": 1
          },
          "coloraxis": {
           "colorbar": {
            "outlinewidth": 0,
            "ticks": ""
           }
          },
          "colorscale": {
           "diverging": [
            [
             0,
             "#8e0152"
            ],
            [
             0.1,
             "#c51b7d"
            ],
            [
             0.2,
             "#de77ae"
            ],
            [
             0.3,
             "#f1b6da"
            ],
            [
             0.4,
             "#fde0ef"
            ],
            [
             0.5,
             "#f7f7f7"
            ],
            [
             0.6,
             "#e6f5d0"
            ],
            [
             0.7,
             "#b8e186"
            ],
            [
             0.8,
             "#7fbc41"
            ],
            [
             0.9,
             "#4d9221"
            ],
            [
             1,
             "#276419"
            ]
           ],
           "sequential": [
            [
             0.0,
             "#0d0887"
            ],
            [
             0.1111111111111111,
             "#46039f"
            ],
            [
             0.2222222222222222,
             "#7201a8"
            ],
            [
             0.3333333333333333,
             "#9c179e"
            ],
            [
             0.4444444444444444,
             "#bd3786"
            ],
            [
             0.5555555555555556,
             "#d8576b"
            ],
            [
             0.6666666666666666,
             "#ed7953"
            ],
            [
             0.7777777777777778,
             "#fb9f3a"
            ],
            [
             0.8888888888888888,
             "#fdca26"
            ],
            [
             1.0,
             "#f0f921"
            ]
           ],
           "sequentialminus": [
            [
             0.0,
             "#0d0887"
            ],
            [
             0.1111111111111111,
             "#46039f"
            ],
            [
             0.2222222222222222,
             "#7201a8"
            ],
            [
             0.3333333333333333,
             "#9c179e"
            ],
            [
             0.4444444444444444,
             "#bd3786"
            ],
            [
             0.5555555555555556,
             "#d8576b"
            ],
            [
             0.6666666666666666,
             "#ed7953"
            ],
            [
             0.7777777777777778,
             "#fb9f3a"
            ],
            [
             0.8888888888888888,
             "#fdca26"
            ],
            [
             1.0,
             "#f0f921"
            ]
           ]
          },
          "colorway": [
           "#636efa",
           "#EF553B",
           "#00cc96",
           "#ab63fa",
           "#FFA15A",
           "#19d3f3",
           "#FF6692",
           "#B6E880",
           "#FF97FF",
           "#FECB52"
          ],
          "font": {
           "color": "#2a3f5f"
          },
          "geo": {
           "bgcolor": "white",
           "lakecolor": "white",
           "landcolor": "#E5ECF6",
           "showlakes": true,
           "showland": true,
           "subunitcolor": "white"
          },
          "hoverlabel": {
           "align": "left"
          },
          "hovermode": "closest",
          "mapbox": {
           "style": "light"
          },
          "paper_bgcolor": "white",
          "plot_bgcolor": "#E5ECF6",
          "polar": {
           "angularaxis": {
            "gridcolor": "white",
            "linecolor": "white",
            "ticks": ""
           },
           "bgcolor": "#E5ECF6",
           "radialaxis": {
            "gridcolor": "white",
            "linecolor": "white",
            "ticks": ""
           }
          },
          "scene": {
           "xaxis": {
            "backgroundcolor": "#E5ECF6",
            "gridcolor": "white",
            "gridwidth": 2,
            "linecolor": "white",
            "showbackground": true,
            "ticks": "",
            "zerolinecolor": "white"
           },
           "yaxis": {
            "backgroundcolor": "#E5ECF6",
            "gridcolor": "white",
            "gridwidth": 2,
            "linecolor": "white",
            "showbackground": true,
            "ticks": "",
            "zerolinecolor": "white"
           },
           "zaxis": {
            "backgroundcolor": "#E5ECF6",
            "gridcolor": "white",
            "gridwidth": 2,
            "linecolor": "white",
            "showbackground": true,
            "ticks": "",
            "zerolinecolor": "white"
           }
          },
          "shapedefaults": {
           "line": {
            "color": "#2a3f5f"
           }
          },
          "ternary": {
           "aaxis": {
            "gridcolor": "white",
            "linecolor": "white",
            "ticks": ""
           },
           "baxis": {
            "gridcolor": "white",
            "linecolor": "white",
            "ticks": ""
           },
           "bgcolor": "#E5ECF6",
           "caxis": {
            "gridcolor": "white",
            "linecolor": "white",
            "ticks": ""
           }
          },
          "title": {
           "x": 0.05
          },
          "xaxis": {
           "automargin": true,
           "gridcolor": "white",
           "linecolor": "white",
           "ticks": "",
           "title": {
            "standoff": 15
           },
           "zerolinecolor": "white",
           "zerolinewidth": 2
          },
          "yaxis": {
           "automargin": true,
           "gridcolor": "white",
           "linecolor": "white",
           "ticks": "",
           "title": {
            "standoff": 15
           },
           "zerolinecolor": "white",
           "zerolinewidth": 2
          }
         }
        },
        "title": {
         "text": "Engel Beta"
        },
        "width": 600
       }
      },
      "text/html": "<div>\n        \n        \n            <div id=\"521b9d3d-f0a8-446e-98fe-6add5144b4c5\" class=\"plotly-graph-div\" style=\"height:600px; width:600px;\"></div>\n            <script type=\"text/javascript\">\n                require([\"plotly\"], function(Plotly) {\n                    window.PLOTLYENV=window.PLOTLYENV || {};\n                    \n                if (document.getElementById(\"521b9d3d-f0a8-446e-98fe-6add5144b4c5\")) {\n                    Plotly.newPlot(\n                        '521b9d3d-f0a8-446e-98fe-6add5144b4c5',\n                        [{\"opacity\": 0.9, \"showscale\": false, \"type\": \"surface\", \"x\": [[0, 1, 2, 3, 4, 5, 6, 7, 8, 9, 10, 11, 12, 13, 14, 15, 16, 17, 18, 19], [0, 1, 2, 3, 4, 5, 6, 7, 8, 9, 10, 11, 12, 13, 14, 15, 16, 17, 18, 19], [0, 1, 2, 3, 4, 5, 6, 7, 8, 9, 10, 11, 12, 13, 14, 15, 16, 17, 18, 19], [0, 1, 2, 3, 4, 5, 6, 7, 8, 9, 10, 11, 12, 13, 14, 15, 16, 17, 18, 19], [0, 1, 2, 3, 4, 5, 6, 7, 8, 9, 10, 11, 12, 13, 14, 15, 16, 17, 18, 19], [0, 1, 2, 3, 4, 5, 6, 7, 8, 9, 10, 11, 12, 13, 14, 15, 16, 17, 18, 19], [0, 1, 2, 3, 4, 5, 6, 7, 8, 9, 10, 11, 12, 13, 14, 15, 16, 17, 18, 19], [0, 1, 2, 3, 4, 5, 6, 7, 8, 9, 10, 11, 12, 13, 14, 15, 16, 17, 18, 19], [0, 1, 2, 3, 4, 5, 6, 7, 8, 9, 10, 11, 12, 13, 14, 15, 16, 17, 18, 19], [0, 1, 2, 3, 4, 5, 6, 7, 8, 9, 10, 11, 12, 13, 14, 15, 16, 17, 18, 19], [0, 1, 2, 3, 4, 5, 6, 7, 8, 9, 10, 11, 12, 13, 14, 15, 16, 17, 18, 19], [0, 1, 2, 3, 4, 5, 6, 7, 8, 9, 10, 11, 12, 13, 14, 15, 16, 17, 18, 19], [0, 1, 2, 3, 4, 5, 6, 7, 8, 9, 10, 11, 12, 13, 14, 15, 16, 17, 18, 19], [0, 1, 2, 3, 4, 5, 6, 7, 8, 9, 10, 11, 12, 13, 14, 15, 16, 17, 18, 19], [0, 1, 2, 3, 4, 5, 6, 7, 8, 9, 10, 11, 12, 13, 14, 15, 16, 17, 18, 19], [0, 1, 2, 3, 4, 5, 6, 7, 8, 9, 10, 11, 12, 13, 14, 15, 16, 17, 18, 19], [0, 1, 2, 3, 4, 5, 6, 7, 8, 9, 10, 11, 12, 13, 14, 15, 16, 17, 18, 19], [0, 1, 2, 3, 4, 5, 6, 7, 8, 9, 10, 11, 12, 13, 14, 15, 16, 17, 18, 19], [0, 1, 2, 3, 4, 5, 6, 7, 8, 9, 10, 11, 12, 13, 14, 15, 16, 17, 18, 19], [0, 1, 2, 3, 4, 5, 6, 7, 8, 9, 10, 11, 12, 13, 14, 15, 16, 17, 18, 19]], \"y\": [[0, 0, 0, 0, 0, 0, 0, 0, 0, 0, 0, 0, 0, 0, 0, 0, 0, 0, 0, 0], [1, 1, 1, 1, 1, 1, 1, 1, 1, 1, 1, 1, 1, 1, 1, 1, 1, 1, 1, 1], [2, 2, 2, 2, 2, 2, 2, 2, 2, 2, 2, 2, 2, 2, 2, 2, 2, 2, 2, 2], [3, 3, 3, 3, 3, 3, 3, 3, 3, 3, 3, 3, 3, 3, 3, 3, 3, 3, 3, 3], [4, 4, 4, 4, 4, 4, 4, 4, 4, 4, 4, 4, 4, 4, 4, 4, 4, 4, 4, 4], [5, 5, 5, 5, 5, 5, 5, 5, 5, 5, 5, 5, 5, 5, 5, 5, 5, 5, 5, 5], [6, 6, 6, 6, 6, 6, 6, 6, 6, 6, 6, 6, 6, 6, 6, 6, 6, 6, 6, 6], [7, 7, 7, 7, 7, 7, 7, 7, 7, 7, 7, 7, 7, 7, 7, 7, 7, 7, 7, 7], [8, 8, 8, 8, 8, 8, 8, 8, 8, 8, 8, 8, 8, 8, 8, 8, 8, 8, 8, 8], [9, 9, 9, 9, 9, 9, 9, 9, 9, 9, 9, 9, 9, 9, 9, 9, 9, 9, 9, 9], [10, 10, 10, 10, 10, 10, 10, 10, 10, 10, 10, 10, 10, 10, 10, 10, 10, 10, 10, 10], [11, 11, 11, 11, 11, 11, 11, 11, 11, 11, 11, 11, 11, 11, 11, 11, 11, 11, 11, 11], [12, 12, 12, 12, 12, 12, 12, 12, 12, 12, 12, 12, 12, 12, 12, 12, 12, 12, 12, 12], [13, 13, 13, 13, 13, 13, 13, 13, 13, 13, 13, 13, 13, 13, 13, 13, 13, 13, 13, 13], [14, 14, 14, 14, 14, 14, 14, 14, 14, 14, 14, 14, 14, 14, 14, 14, 14, 14, 14, 14], [15, 15, 15, 15, 15, 15, 15, 15, 15, 15, 15, 15, 15, 15, 15, 15, 15, 15, 15, 15], [16, 16, 16, 16, 16, 16, 16, 16, 16, 16, 16, 16, 16, 16, 16, 16, 16, 16, 16, 16], [17, 17, 17, 17, 17, 17, 17, 17, 17, 17, 17, 17, 17, 17, 17, 17, 17, 17, 17, 17], [18, 18, 18, 18, 18, 18, 18, 18, 18, 18, 18, 18, 18, 18, 18, 18, 18, 18, 18, 18], [19, 19, 19, 19, 19, 19, 19, 19, 19, 19, 19, 19, 19, 19, 19, 19, 19, 19, 19, 19]], \"z\": [[1.3333333333333333, 1.1111111111111112, 1.0666666666666667, 1.0476190476190477, 1.037037037037037, 1.0303030303030303, 1.0256410256410255, 1.0222222222222221, 1.0196078431372548, 1.0175438596491229, 1.0158730158730158, 1.0144927536231885, 1.0133333333333334, 1.0123456790123457, 1.0114942528735633, 1.010752688172043, 1.0101010101010102, 1.0095238095238095, 1.009009009009009, 1.0085470085470085], [1.0, 1.1851851851851853, 1.0, 1.0793650793650795, 1.0864197530864197, 1.0505050505050504, 1.094017094017094, 1.037037037037037, 1.045751633986928, 1.0292397660818715, 1.0, 1.0241545893719808, 1.031111111111111, 1.0205761316872428, 1.042145593869732, 1.017921146953405, 1.0235690235690236, 1.0158730158730158, 1.057057057057057, 1.0142450142450141], [1.0, 1.0, 1.0, 1.1005291005291005, 1.1193415637860082, 1.063973063973064, 1.0, 1.0469135802469136, 1.06318082788671, 1.0370370370370372, 1.0, 1.030595813204509, 1.042962962962963, 1.0260631001371743, 1.0625798212005109, 1.022700119474313, 1.0325476992143658, 1.0201058201058202, 1.089089089089089, 1.0180436847103513], [1.0, 1.0, 1.0, 1.1146384479717812, 1.1412894375857339, 1.0729517396184063, 1.0, 1.0534979423868311, 1.0, 1.0422352176738143, 1.0, 1.0348899624261945, 1.0508641975308644, 1.0297210791037952, 1.0762026394210302, 1.0258861011549183, 1.0385334829779276, 1.0, 1.1104437771104436, 1.0205761316872428], [1.0, 1.0, 1.0, 1.1240446796002352, 1.1559213534522175, 1.0, 1.0, 1.0578875171467763, 1.0, 1.0457006714316657, 1.0, 1.0, 1.0561316872427984, 1.0321597317482092, 1.08528451823471, 1.0280100889419885, 1.0425240054869684, 1.0, 1.1246802357913468, 1.022264429671837], [1.0, 1.0, 1.0, 1.0, 1.1656759640298735, 1.0, 1.0, 1.0, 1.0, 1.0480109739369, 1.0, 1.0, 1.0596433470507545, 1.0337855001778185, 1.0, 1.0294260808000355, 1.0451843538263292, 1.0, 1.1341712082452822, 1.0233899616615665], [1.0, 1.0, 1.0, 1.0, 1.0, 1.0, 1.0, 1.0, 1.0, 1.0, 1.0, 1.0, 1.0619844535893919, 1.034869345797558, 1.0, 1.0303700753720666, 1.0469579193859029, 1.0, 1.0, 1.0241403163213862], [1.0, 1.0, 1.0, 1.0, 1.0, 1.0, 1.0, 1.0, 1.0, 1.0, 1.0, 1.0, 1.0, 1.0355919095440511, 1.0, 1.0309994050867541, 1.0481402964256188, 1.0, 1.0, 1.024640552761266], [1.0, 1.0, 1.0, 1.0, 1.0, 1.0, 1.0, 1.0, 1.0, 1.0, 1.0, 1.0, 1.0, 1.0360736187083797, 1.0, 1.0314189582298792, 1.0, 1.0, 1.0, 1.0249740437211858], [1.0, 1.0, 1.0, 1.0, 1.0, 1.0, 1.0, 1.0, 1.0, 1.0, 1.0, 1.0, 1.0, 1.0363947581512656, 1.0, 1.0316986603252958, 1.0, 1.0, 1.0, 1.0251963710277991], [1.0, 1.0, 1.0, 1.0, 1.0, 1.0, 1.0, 1.0, 1.0, 1.0, 1.0, 1.0, 1.0, 1.0366088511131895, 1.0, 1.0318851283889068, 1.0, 1.0, 1.0, 1.025344589232208], [1.0, 1.0, 1.0, 1.0, 1.0, 1.0, 1.0, 1.0, 1.0, 1.0, 1.0, 1.0, 1.0, 1.036751579754472, 1.0, 1.0320094404313143, 1.0, 1.0, 1.0, 1.0], [1.0, 1.0, 1.0, 1.0, 1.0, 1.0, 1.0, 1.0, 1.0, 1.0, 1.0, 1.0, 1.0, 1.0368467321819936, 1.0, 1.0320923151262524, 1.0, 1.0, 1.0, 1.0], [1.0, 1.0, 1.0, 1.0, 1.0, 1.0, 1.0, 1.0, 1.0, 1.0, 1.0, 1.0, 1.0, 1.036910167133675, 1.0, 1.032147564922878, 1.0, 1.0, 1.0, 1.0], [1.0, 1.0, 1.0, 1.0, 1.0, 1.0, 1.0, 1.0, 1.0, 1.0, 1.0, 1.0, 1.0, 1.0369524571014623, 1.0, 1.0321843981206282, 1.0, 1.0, 1.0, 1.0], [1.0, 1.0, 1.0, 1.0, 1.0, 1.0, 1.0, 1.0, 1.0, 1.0, 1.0, 1.0, 1.0, 1.0369806504133205, 1.0, 1.0322089535857952, 1.0, 1.0, 1.0, 1.0], [1.0, 1.0, 1.0, 1.0, 1.0, 1.0, 1.0, 1.0, 1.0, 1.0, 1.0, 1.0, 1.0, 1.0369994459545593, 1.0, 1.0322253238959065, 1.0, 1.0, 1.0, 1.0], [1.0, 1.0, 1.0, 1.0, 1.0, 1.0, 1.0, 1.0, 1.0, 1.0, 1.0, 1.0, 1.0, 1.0370119763153853, 1.0, 1.0322362374359806, 1.0, 1.0, 1.0, 1.0], [1.0, 1.0, 1.0, 1.0, 1.0, 1.0, 1.0, 1.0, 1.0, 1.0, 1.0, 1.0, 1.0, 1.0370203298892693, 1.0, 1.0322435131293635, 1.0, 1.0, 1.0, 1.0], [1.0, 1.0, 1.0, 1.0, 1.0, 1.0, 1.0, 1.0, 1.0, 1.0, 1.0, 1.0, 1.0, 1.0370258989385253, 1.0, 1.0322483635916186, 1.0, 1.0, 1.0, 1.0]]}],\n                        {\"autosize\": true, \"height\": 600, \"margin\": {\"b\": 65, \"l\": 65, \"r\": 50, \"t\": 90}, \"template\": {\"data\": {\"bar\": [{\"error_x\": {\"color\": \"#2a3f5f\"}, \"error_y\": {\"color\": \"#2a3f5f\"}, \"marker\": {\"line\": {\"color\": \"#E5ECF6\", \"width\": 0.5}}, \"type\": \"bar\"}], \"barpolar\": [{\"marker\": {\"line\": {\"color\": \"#E5ECF6\", \"width\": 0.5}}, \"type\": \"barpolar\"}], \"carpet\": [{\"aaxis\": {\"endlinecolor\": \"#2a3f5f\", \"gridcolor\": \"white\", \"linecolor\": \"white\", \"minorgridcolor\": \"white\", \"startlinecolor\": \"#2a3f5f\"}, \"baxis\": {\"endlinecolor\": \"#2a3f5f\", \"gridcolor\": \"white\", \"linecolor\": \"white\", \"minorgridcolor\": \"white\", \"startlinecolor\": \"#2a3f5f\"}, \"type\": \"carpet\"}], \"choropleth\": [{\"colorbar\": {\"outlinewidth\": 0, \"ticks\": \"\"}, \"type\": \"choropleth\"}], \"contour\": [{\"colorbar\": {\"outlinewidth\": 0, \"ticks\": \"\"}, \"colorscale\": [[0.0, \"#0d0887\"], [0.1111111111111111, \"#46039f\"], [0.2222222222222222, \"#7201a8\"], [0.3333333333333333, \"#9c179e\"], [0.4444444444444444, \"#bd3786\"], [0.5555555555555556, \"#d8576b\"], [0.6666666666666666, \"#ed7953\"], [0.7777777777777778, \"#fb9f3a\"], [0.8888888888888888, \"#fdca26\"], [1.0, \"#f0f921\"]], \"type\": \"contour\"}], \"contourcarpet\": [{\"colorbar\": {\"outlinewidth\": 0, \"ticks\": \"\"}, \"type\": \"contourcarpet\"}], \"heatmap\": [{\"colorbar\": {\"outlinewidth\": 0, \"ticks\": \"\"}, \"colorscale\": [[0.0, \"#0d0887\"], [0.1111111111111111, \"#46039f\"], [0.2222222222222222, \"#7201a8\"], [0.3333333333333333, \"#9c179e\"], [0.4444444444444444, \"#bd3786\"], [0.5555555555555556, \"#d8576b\"], [0.6666666666666666, \"#ed7953\"], [0.7777777777777778, \"#fb9f3a\"], [0.8888888888888888, \"#fdca26\"], [1.0, \"#f0f921\"]], \"type\": \"heatmap\"}], \"heatmapgl\": [{\"colorbar\": {\"outlinewidth\": 0, \"ticks\": \"\"}, \"colorscale\": [[0.0, \"#0d0887\"], [0.1111111111111111, \"#46039f\"], [0.2222222222222222, \"#7201a8\"], [0.3333333333333333, \"#9c179e\"], [0.4444444444444444, \"#bd3786\"], [0.5555555555555556, \"#d8576b\"], [0.6666666666666666, \"#ed7953\"], [0.7777777777777778, \"#fb9f3a\"], [0.8888888888888888, \"#fdca26\"], [1.0, \"#f0f921\"]], \"type\": \"heatmapgl\"}], \"histogram\": [{\"marker\": {\"colorbar\": {\"outlinewidth\": 0, \"ticks\": \"\"}}, \"type\": \"histogram\"}], \"histogram2d\": [{\"colorbar\": {\"outlinewidth\": 0, \"ticks\": \"\"}, \"colorscale\": [[0.0, \"#0d0887\"], [0.1111111111111111, \"#46039f\"], [0.2222222222222222, \"#7201a8\"], [0.3333333333333333, \"#9c179e\"], [0.4444444444444444, \"#bd3786\"], [0.5555555555555556, \"#d8576b\"], [0.6666666666666666, \"#ed7953\"], [0.7777777777777778, \"#fb9f3a\"], [0.8888888888888888, \"#fdca26\"], [1.0, \"#f0f921\"]], \"type\": \"histogram2d\"}], \"histogram2dcontour\": [{\"colorbar\": {\"outlinewidth\": 0, \"ticks\": \"\"}, \"colorscale\": [[0.0, \"#0d0887\"], [0.1111111111111111, \"#46039f\"], [0.2222222222222222, \"#7201a8\"], [0.3333333333333333, \"#9c179e\"], [0.4444444444444444, \"#bd3786\"], [0.5555555555555556, \"#d8576b\"], [0.6666666666666666, \"#ed7953\"], [0.7777777777777778, \"#fb9f3a\"], [0.8888888888888888, \"#fdca26\"], [1.0, \"#f0f921\"]], \"type\": \"histogram2dcontour\"}], \"mesh3d\": [{\"colorbar\": {\"outlinewidth\": 0, \"ticks\": \"\"}, \"type\": \"mesh3d\"}], \"parcoords\": [{\"line\": {\"colorbar\": {\"outlinewidth\": 0, \"ticks\": \"\"}}, \"type\": \"parcoords\"}], \"pie\": [{\"automargin\": true, \"type\": \"pie\"}], \"scatter\": [{\"marker\": {\"colorbar\": {\"outlinewidth\": 0, \"ticks\": \"\"}}, \"type\": \"scatter\"}], \"scatter3d\": [{\"line\": {\"colorbar\": {\"outlinewidth\": 0, \"ticks\": \"\"}}, \"marker\": {\"colorbar\": {\"outlinewidth\": 0, \"ticks\": \"\"}}, \"type\": \"scatter3d\"}], \"scattercarpet\": [{\"marker\": {\"colorbar\": {\"outlinewidth\": 0, \"ticks\": \"\"}}, \"type\": \"scattercarpet\"}], \"scattergeo\": [{\"marker\": {\"colorbar\": {\"outlinewidth\": 0, \"ticks\": \"\"}}, \"type\": \"scattergeo\"}], \"scattergl\": [{\"marker\": {\"colorbar\": {\"outlinewidth\": 0, \"ticks\": \"\"}}, \"type\": \"scattergl\"}], \"scattermapbox\": [{\"marker\": {\"colorbar\": {\"outlinewidth\": 0, \"ticks\": \"\"}}, \"type\": \"scattermapbox\"}], \"scatterpolar\": [{\"marker\": {\"colorbar\": {\"outlinewidth\": 0, \"ticks\": \"\"}}, \"type\": \"scatterpolar\"}], \"scatterpolargl\": [{\"marker\": {\"colorbar\": {\"outlinewidth\": 0, \"ticks\": \"\"}}, \"type\": \"scatterpolargl\"}], \"scatterternary\": [{\"marker\": {\"colorbar\": {\"outlinewidth\": 0, \"ticks\": \"\"}}, \"type\": \"scatterternary\"}], \"surface\": [{\"colorbar\": {\"outlinewidth\": 0, \"ticks\": \"\"}, \"colorscale\": [[0.0, \"#0d0887\"], [0.1111111111111111, \"#46039f\"], [0.2222222222222222, \"#7201a8\"], [0.3333333333333333, \"#9c179e\"], [0.4444444444444444, \"#bd3786\"], [0.5555555555555556, \"#d8576b\"], [0.6666666666666666, \"#ed7953\"], [0.7777777777777778, \"#fb9f3a\"], [0.8888888888888888, \"#fdca26\"], [1.0, \"#f0f921\"]], \"type\": \"surface\"}], \"table\": [{\"cells\": {\"fill\": {\"color\": \"#EBF0F8\"}, \"line\": {\"color\": \"white\"}}, \"header\": {\"fill\": {\"color\": \"#C8D4E3\"}, \"line\": {\"color\": \"white\"}}, \"type\": \"table\"}]}, \"layout\": {\"annotationdefaults\": {\"arrowcolor\": \"#2a3f5f\", \"arrowhead\": 0, \"arrowwidth\": 1}, \"coloraxis\": {\"colorbar\": {\"outlinewidth\": 0, \"ticks\": \"\"}}, \"colorscale\": {\"diverging\": [[0, \"#8e0152\"], [0.1, \"#c51b7d\"], [0.2, \"#de77ae\"], [0.3, \"#f1b6da\"], [0.4, \"#fde0ef\"], [0.5, \"#f7f7f7\"], [0.6, \"#e6f5d0\"], [0.7, \"#b8e186\"], [0.8, \"#7fbc41\"], [0.9, \"#4d9221\"], [1, \"#276419\"]], \"sequential\": [[0.0, \"#0d0887\"], [0.1111111111111111, \"#46039f\"], [0.2222222222222222, \"#7201a8\"], [0.3333333333333333, \"#9c179e\"], [0.4444444444444444, \"#bd3786\"], [0.5555555555555556, \"#d8576b\"], [0.6666666666666666, \"#ed7953\"], [0.7777777777777778, \"#fb9f3a\"], [0.8888888888888888, \"#fdca26\"], [1.0, \"#f0f921\"]], \"sequentialminus\": [[0.0, \"#0d0887\"], [0.1111111111111111, \"#46039f\"], [0.2222222222222222, \"#7201a8\"], [0.3333333333333333, \"#9c179e\"], [0.4444444444444444, \"#bd3786\"], [0.5555555555555556, \"#d8576b\"], [0.6666666666666666, \"#ed7953\"], [0.7777777777777778, \"#fb9f3a\"], [0.8888888888888888, \"#fdca26\"], [1.0, \"#f0f921\"]]}, \"colorway\": [\"#636efa\", \"#EF553B\", \"#00cc96\", \"#ab63fa\", \"#FFA15A\", \"#19d3f3\", \"#FF6692\", \"#B6E880\", \"#FF97FF\", \"#FECB52\"], \"font\": {\"color\": \"#2a3f5f\"}, \"geo\": {\"bgcolor\": \"white\", \"lakecolor\": \"white\", \"landcolor\": \"#E5ECF6\", \"showlakes\": true, \"showland\": true, \"subunitcolor\": \"white\"}, \"hoverlabel\": {\"align\": \"left\"}, \"hovermode\": \"closest\", \"mapbox\": {\"style\": \"light\"}, \"paper_bgcolor\": \"white\", \"plot_bgcolor\": \"#E5ECF6\", \"polar\": {\"angularaxis\": {\"gridcolor\": \"white\", \"linecolor\": \"white\", \"ticks\": \"\"}, \"bgcolor\": \"#E5ECF6\", \"radialaxis\": {\"gridcolor\": \"white\", \"linecolor\": \"white\", \"ticks\": \"\"}}, \"scene\": {\"xaxis\": {\"backgroundcolor\": \"#E5ECF6\", \"gridcolor\": \"white\", \"gridwidth\": 2, \"linecolor\": \"white\", \"showbackground\": true, \"ticks\": \"\", \"zerolinecolor\": \"white\"}, \"yaxis\": {\"backgroundcolor\": \"#E5ECF6\", \"gridcolor\": \"white\", \"gridwidth\": 2, \"linecolor\": \"white\", \"showbackground\": true, \"ticks\": \"\", \"zerolinecolor\": \"white\"}, \"zaxis\": {\"backgroundcolor\": \"#E5ECF6\", \"gridcolor\": \"white\", \"gridwidth\": 2, \"linecolor\": \"white\", \"showbackground\": true, \"ticks\": \"\", \"zerolinecolor\": \"white\"}}, \"shapedefaults\": {\"line\": {\"color\": \"#2a3f5f\"}}, \"ternary\": {\"aaxis\": {\"gridcolor\": \"white\", \"linecolor\": \"white\", \"ticks\": \"\"}, \"baxis\": {\"gridcolor\": \"white\", \"linecolor\": \"white\", \"ticks\": \"\"}, \"bgcolor\": \"#E5ECF6\", \"caxis\": {\"gridcolor\": \"white\", \"linecolor\": \"white\", \"ticks\": \"\"}}, \"title\": {\"x\": 0.05}, \"xaxis\": {\"automargin\": true, \"gridcolor\": \"white\", \"linecolor\": \"white\", \"ticks\": \"\", \"title\": {\"standoff\": 15}, \"zerolinecolor\": \"white\", \"zerolinewidth\": 2}, \"yaxis\": {\"automargin\": true, \"gridcolor\": \"white\", \"linecolor\": \"white\", \"ticks\": \"\", \"title\": {\"standoff\": 15}, \"zerolinecolor\": \"white\", \"zerolinewidth\": 2}}}, \"title\": {\"text\": \"Engel Beta\"}, \"width\": 600},\n                        {\"responsive\": true}\n                    ).then(function(){\n                            \nvar gd = document.getElementById('521b9d3d-f0a8-446e-98fe-6add5144b4c5');\nvar x = new MutationObserver(function (mutations, observer) {{\n        var display = window.getComputedStyle(gd).display;\n        if (!display || display === 'none') {{\n            console.log([gd, 'removed!']);\n            Plotly.purge(gd);\n            observer.disconnect();\n        }}\n}});\n\n// Listen for the removal of the full notebook cells\nvar notebookContainer = gd.closest('#notebook-container');\nif (notebookContainer) {{\n    x.observe(notebookContainer, {childList: true});\n}}\n\n// Listen for the clearing of the current output cell\nvar outputEl = gd.closest('.output');\nif (outputEl) {{\n    x.observe(outputEl, {childList: true});\n}}\n\n                        })\n                };\n                });\n            </script>\n        </div>"
     },
     "metadata": {},
     "output_type": "display_data"
    }
   ],
   "source": [
    "import plotly.graph_objects as go\n",
    "\n",
    "fig = go.Figure(data=[\n",
    "    go.Surface(z=Z_engel_beta, x=X, y=Y, showscale=False, opacity=0.9)\n",
    "])\n",
    "\n",
    "fig.update_layout(title='Engel Beta', autosize=True,\n",
    "                  width=600, height=600,\n",
    "                  margin=dict(l=65, r=50, b=65, t=90))\n",
    "fig.show()"
   ]
  },
  {
   "cell_type": "code",
   "execution_count": 52,
   "metadata": {
    "pycharm": {
     "name": "#%%\n"
    }
   },
   "outputs": [],
   "source": [
    "import csv\n",
    "\n",
    "arr_csv = [[]]\n",
    "for y in range(Z_engel_beta.shape[1]):\n",
    "    for x in range(Z_engel_beta.shape[0]):\n",
    "        arr_csv.append([2*x+1, y+1, Z_beta[y,x], Z_engel_beta[y,x], Z_engel_beta[y,x]-Z_beta[y,x]])\n",
    "#print(arr_csv)\n",
    "\n",
    "\n",
    "with open(\"c:/temp/collatz_beta.csv\", \"w\", newline='') as my_csv:\n",
    "    csvWriter = csv.writer(my_csv, delimiter=',')\n",
    "    csvWriter.writerow([\"v1\", \"n\", \"beta(v1,n,k={})\".format(k), \"engel_beta(v1,n,k={})\".format(k), \"diff_beta_engel_beta\"])\n",
    "    csvWriter.writerows(arr_csv)"
   ]
  },
  {
   "cell_type": "code",
   "execution_count": 53,
   "metadata": {
    "pycharm": {
     "name": "#%%\n"
    }
   },
   "outputs": [
    {
     "data": {
      "text/plain": "<Figure size 432x288 with 1 Axes>",
      "image/png": "[encoded data removed]"
     },
     "metadata": {
      "needs_background": "light"
     },
     "output_type": "display_data"
    }
   ],
   "source": [
    "import matplotlib.pyplot as plt\n",
    "from mpl_toolkits.mplot3d import Axes3D\n",
    "\n",
    "fig = plt.figure()\n",
    "ax = plt.axes(projection=\"3d\")\n",
    "ax.plot_wireframe(X, Y, Z_engel_beta)\n",
    "ax.set_xlabel('v1')\n",
    "ax.set_ylabel('n')\n",
    "ax.set_zlabel('beta(v1,n)')\n",
    "plt.show()"
   ]
  }
 ],
 "metadata": {
  "kernelspec": {
   "name": "python3",
   "language": "python",
   "display_name": "Python 3"
  },
  "language_info": {
   "codemirror_mode": {
    "name": "ipython",
    "version": 3
   },
   "file_extension": ".py",
   "mimetype": "text/x-python",
   "name": "python",
   "nbconvert_exporter": "python",
   "pygments_lexer": "ipython3",
   "version": "3.8.3"
  }
 },
 "nbformat": 4,
 "nbformat_minor": 2
}