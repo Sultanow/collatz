{
 "cells": [
  {
   "cell_type": "markdown",
   "metadata": {
    "collapsed": true
   },
   "source": [
    "# Defining the Beta-Function\n",
    "Let $A=\\{a_1,a_2,\\ldots,a_m\\}$ and $B=\\{b_1,b_2,\\ldots,b_n\\}$ be two sets of positive integers. We define the function $F_{\\beta}$ as follows:\n",
    "\\begin{equation}\n",
    "F_{\\beta}(A)=\\sum_{S_A\\in2^A}\\prod_{a\\in S_A}\\frac{1}{a}=\\frac{1}{a_1}+\\frac{1}{a_2}+\\ldots+\\frac{1}{a_m}+\\frac{1}{a_1a_2}+\\ldots+\\frac{1}{a_1a_m}+\\ldots+\\frac{1}{a_1a_2\\ldots a_m}\n",
    "\\end{equation}\n",
    "The power set of $A$, denoted with $S^A$ is the set of all possible subsets of $A$, see for example Mazur (2010, p. 5).\n",
    "We define a relation $\\sim_{\\beta}$ between two sets such that two sets $A\\sim_{\\beta}B$ relate to each other when $F_{\\beta}(A)=F_{\\beta}(B)$. \n",
    "# References\n",
    "David R. Mazur (2010). Combinatorics: A Guided Tour. Washington, DC: The Mathematical Association of America."
   ]
  },
  {
   "cell_type": "code",
   "execution_count": 7,
   "metadata": {},
   "outputs": [
    {
     "name": "stdout",
     "output_type": "stream",
     "text": [
      "0.22926829268292684\n",
      "0.0\n"
     ]
    }
   ],
   "source": [
    "from itertools import chain, combinations\n",
    "def powerset(iterable):\n",
    "    s = list(iterable)\n",
    "    return chain.from_iterable(combinations(s, r) for r in range(1, len(s)+1))\n",
    "\n",
    "def F_Beta(integerSet):\n",
    "    powset = list(powerset(integerSet))\n",
    "    F=0\n",
    "    for subset in powset:\n",
    "        prod=1\n",
    "        for element in subset:\n",
    "            prod=prod/element\n",
    "        F+=prod\n",
    "    return F\n",
    "\n",
    "def distance(setA, setB):\n",
    "    return abs(F_Beta(setA) - F_Beta(setB))\n",
    "\n",
    "A=[135,85,215]\n",
    "B=[65,165,415]\n",
    "C=[41,5]\n",
    "print(F_Beta(C))\n",
    "print(distance(A,B))"
   ]
  },
  {
   "cell_type": "code",
   "execution_count": 2,
   "metadata": {},
   "outputs": [],
   "source": []
  }
 ],
 "metadata": {
  "kernelspec": {
   "name": "python37464bitanaconda3condafd1ed19ffe5f4d748b8ad28c0e6f9452",
   "language": "python",
   "display_name": "Python 3.7.4 64-bit ('anaconda3': conda)"
  },
  "language_info": {
   "codemirror_mode": {
    "name": "ipython",
    "version": 3
   },
   "file_extension": ".py",
   "mimetype": "text/x-python",
   "name": "python",
   "nbconvert_exporter": "python",
   "pygments_lexer": "ipython3",
   "version": "3.6.6"
  }
 },
 "nbformat": 4,
 "nbformat_minor": 2
}