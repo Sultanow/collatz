{
 "cells": [
  {
   "cell_type": "markdown",
   "metadata": {
    "collapsed": true
   },
   "source": [
    "# Defining the Beta-Function\n",
    "Let $A=\\{a_1,a_2,\\ldots,a_m\\}$ and $B=\\{b_1,b_2,\\ldots,b_n\\}$ be two sets of positive integers. We define the function $F_{\\beta}$ as follows:\n",
    "\\begin{equation}\n",
    "F_{\\beta}(A)=\\sum_{S_A\\in2^A}\\prod_{a\\in S_A}\\frac{1}{a}=\\frac{1}{a_1}+\\frac{1}{a_2}+\\ldots+\\frac{1}{a_m}+\\frac{1}{a_1a_2}+\\ldots+\\frac{1}{a_1a_m}+\\ldots+\\frac{1}{a_1a_2\\ldots a_m}\n",
    "\\end{equation}\n",
    "The power set of $A$, denoted with $2^A$ is the set of all possible subsets of $A$, see for example Mazur (2010, p. 5).\n",
    "We define a relation $\\sim_{\\beta}$ between two sets such that two sets $A\\sim_{\\beta}B$ relate to each other when $F_{\\beta}(A)=F_{\\beta}(B)$. \n",
    "# References\n",
    "David R. Mazur (2010). Combinatorics: A Guided Tour. Washington, DC: The Mathematical Association of America."
   ]
  },
  {
   "cell_type": "code",
   "execution_count": 62,
   "metadata": {
    "pycharm": {
     "name": "#%%\n"
    }
   },
   "outputs": [
    {
     "name": "stdout",
     "output_type": "stream",
     "text": [
      "0.00021366869143188546\n",
      "1.0002136686914318\n",
      "0.0\n",
      "[17, 43, 27]\n"
     ]
    }
   ],
   "source": [
    "from itertools import chain, combinations\n",
    "def powerset(iterable):\n",
    "    s = list(iterable)\n",
    "    return chain.from_iterable(combinations(s, r) for r in range(1, len(s)+1))\n",
    "\n",
    "def F_Beta(integer_set):\n",
    "    powset = list(powerset(integer_set))\n",
    "    F=0\n",
    "    for subset in powset:\n",
    "        prod=1\n",
    "        for element in subset:\n",
    "            prod=prod/element\n",
    "        F+=prod\n",
    "    return F\n",
    "\n",
    "# Beta(A,1) - F_Beta(A) = 1\n",
    "def Beta(integer_set, k):\n",
    "    if len(integer_set) == 0:\n",
    "        return 0\n",
    "    beta=1\n",
    "    for element in integer_set:\n",
    "        beta *= (1+1/(k*element))\n",
    "    return beta\n",
    "\n",
    "def distance(set_a, set_b):\n",
    "    return abs(F_Beta(set_a) - F_Beta(set_b))\n",
    "\n",
    "def generate_collatz_set(v1, n, k):\n",
    "    a = []\n",
    "    if n<1 or v1%2==0:\n",
    "        return a\n",
    "    vi = v1\n",
    "    a.append(vi)\n",
    "    for i in range(n-1):\n",
    "        vi = k*vi+1\n",
    "        while vi%2 == 0:\n",
    "            vi /= 2\n",
    "        if vi in a:\n",
    "            return a\n",
    "        elif vi == 1:\n",
    "            a.append(int(vi))\n",
    "            return a\n",
    "        else:\n",
    "            a.append(int(vi))\n",
    "    return a\n",
    "\n",
    "#print(generate_collatz_set(1, 2, 3))\n",
    "A=[135,85,215]\n",
    "B=[65,165,415]\n",
    "C=[6335,17919]\n",
    "D=[4887,110591]\n",
    "\n",
    "print(F_Beta(C))\n",
    "print(Beta(D,1))\n",
    "print(distance(A,B))\n",
    "print(generate_collatz_set(17,30,5))"
   ]
  },
  {
   "cell_type": "code",
   "execution_count": 64,
   "outputs": [
    {
     "data": {
      "text/plain": "<Figure size 432x288 with 1 Axes>",
      "image/png": "[encoded data removed]"
     },
     "metadata": {
      "needs_background": "light"
     },
     "output_type": "display_data"
    }
   ],
   "source": [
    "import numpy as np\n",
    "import matplotlib.pyplot as plt\n",
    "import csv\n",
    "\n",
    "max=500\n",
    "x = np.linspace(0, max-1, max)\n",
    "y = np.linspace(0, max-1, max)\n",
    "X, Y = np.meshgrid(x, y)\n",
    "X = X.astype(int)\n",
    "Y = Y.astype(int)\n",
    "Z = np.zeros(shape=(max,max))\n",
    "arr_csv = [[]]\n",
    "k=3\n",
    "\n",
    "def func(x, y):\n",
    "    v1 = 2*x+1\n",
    "    n = y+1\n",
    "    collatz_set = generate_collatz_set(v1,n,k)\n",
    "    beta = float(Beta(collatz_set, k))\n",
    "    #print(\"{} {} {}\".format(n, beta, collatz_set))\n",
    "    return beta\n",
    "\n",
    "fn_vectorized = np.vectorize(func)\n",
    "Z = fn_vectorized(X, Y)\n",
    "#print(Z)\n",
    "\n",
    "for i in range(Z.shape[0]):\n",
    "    for j in range(Z.shape[1]):\n",
    "        arr_csv.append([i,j,Z[i,j]])\n",
    "\n",
    "with open(\"c:/temp/collatz_beta.csv\", \"w\", newline='') as my_csv:\n",
    "    csvWriter = csv.writer(my_csv, delimiter=',')\n",
    "    csvWriter.writerow([\"v1\", \"n\", \"beta(v1,n,k={})\".format(k)])\n",
    "    csvWriter.writerows(arr_csv)\n",
    "\n",
    "fig = plt.figure()\n",
    "ax = plt.axes(projection=\"3d\")\n",
    "ax.plot_wireframe(X, Y, Z)\n",
    "ax.set_xlabel('v1')\n",
    "ax.set_ylabel('n')\n",
    "ax.set_zlabel('beta(v1,n)')\n",
    "plt.show()"
   ],
   "metadata": {
    "collapsed": false,
    "pycharm": {
     "name": "#%%\n"
    }
   }
  }
 ],
 "metadata": {
  "kernelspec": {
   "name": "python37464bitanaconda3condafd1ed19ffe5f4d748b8ad28c0e6f9452",
   "language": "python",
   "display_name": "Python 3.7.4 64-bit ('anaconda3': conda)"
  },
  "language_info": {
   "codemirror_mode": {
    "name": "ipython",
    "version": 3
   },
   "file_extension": ".py",
   "mimetype": "text/x-python",
   "name": "python",
   "nbconvert_exporter": "python",
   "pygments_lexer": "ipython3",
   "version": "3.6.6"
  }
 },
 "nbformat": 4,
 "nbformat_minor": 2
}