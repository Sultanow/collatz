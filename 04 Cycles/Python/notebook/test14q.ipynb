{
 "nbformat": 4,
 "nbformat_minor": 0,
 "metadata": {
  "colab": {
   "name": "graphwizz-tree.ipynb",
   "provenance": [],
   "collapsed_sections": [],
   "toc_visible": true
  },
  "kernelspec": {
   "name": "python3",
   "display_name": "Python 3.9.0 64-bit",
   "metadata": {
    "interpreter": {
     "hash": "17eeadac136e514c1cd200c4671c14559be4652da2455ac006b5fafd8663a890"
    }
   }
  }
 },
 "cells": [
  {
   "cell_type": "code",
   "metadata": {
    "id": "a42M43IPu1cD",
    "tags": []
   },
   "source": [
    "# \n",
    "# This program finds a rotation of the floor function parity vector that matches the ceiling function parity vector\n",
    "#\n",
    "import math\n",
    "l=17\n",
    "n=7\n",
    "sv=[0 for i in range(10000)]\n",
    "pv=[0 for i in range(10000)]\n",
    "r=[0 for i in range(10000)]\n",
    "ws=0\n",
    "wp=0\n",
    "for j in range(1,l+1):\n",
    "   a=j*n\n",
    "   a=math.ceil(a/l)\n",
    "   b=(j-1)*n\n",
    "   b=math.ceil(b/l)\n",
    "   c=j*n\n",
    "   c=math.floor(c/l)\n",
    "   d=(j-1)*n\n",
    "   d=math.floor(d/l)\n",
    "   sv[j-1]=c-d\n",
    "   pv[j-1]=a-b\n",
    "   ws=ws*2+c-d\n",
    "   wp=wp*2+a-b\n",
    "   print(sv[j-1],pv[j-1])\n",
    "print(\"floor ceiling\",ws,wp)\n",
    "mask=(2<<(l-1))-1\n",
    "a=ws\n",
    "r[0]=a\n",
    "for j in range(1,l+1):\n",
    "   b=a>>(l-1)\n",
    "   if (b==0):\n",
    "      a=(a*2)&mask\n",
    "   else:\n",
    "      a=((a*2)&mask)+1\n",
    "   r[j]=a\n",
    "   print(r[j])\n",
    "for j in range(1,l+1):\n",
    "   if (r[j]==wp):\n",
    "      print(\"match\",j)\n",
    "      break\n",
    "\n",
    "\n",
    "\n",
    "       \n",
    "\n",
    "\n",
    "\n"
   ],
   "execution_count": 17,
   "outputs": [
    {
     "output_type": "stream",
     "name": "stdout",
     "text": [
      "0 1\n0 0\n1 1\n0 0\n1 1\n0 0\n0 0\n1 1\n0 0\n1 1\n0 0\n0 0\n1 1\n0 0\n1 1\n0 0\n1 0\nfloor ceiling 21141 86676\n42282\n84564\n38057\n76114\n21157\n42314\n84628\n38185\n76370\n21669\n43338\n86676\n42281\n84562\n38053\n76106\n21141\nmatch 12\n"
     ]
    }
   ]
  },
  {
   "cell_type": "code",
   "execution_count": null,
   "metadata": {},
   "outputs": [],
   "source": []
  }
 ]
}