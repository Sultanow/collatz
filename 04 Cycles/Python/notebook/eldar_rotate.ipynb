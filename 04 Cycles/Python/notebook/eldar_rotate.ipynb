{
 "nbformat": 4,
 "nbformat_minor": 0,
 "metadata": {
  "colab": {
   "name": "graphwizz-tree.ipynb",
   "provenance": [],
   "collapsed_sections": [],
   "toc_visible": true
  },
  "kernelspec": {
   "name": "python3",
   "display_name": "Python 3.8.3 64-bit (conda)",
   "metadata": {
    "interpreter": {
     "hash": "524e93b8e0226315aee682eacc6843c81ddb16bd5c2ad8dc8495f33ccc2f5477"
    }
   }
  }
 },
 "cells": [
  {
   "cell_type": "code",
   "execution_count": 18,
   "metadata": {},
   "outputs": [
    {
     "output_type": "stream",
     "name": "stdout",
     "text": [
      "130\n21141\n21141\n86676\n"
     ]
    },
    {
     "output_type": "execute_result",
     "data": {
      "text/plain": [
       "                               vec L (len) N (1s)        min         max  \\\n",
       "0                10101001010010100      17      7      21141       86676   \n",
       "1                            10100       5      2          5          20   \n",
       "2                         11111000       8      5         31         248   \n",
       "3                     110101101010      12      7       1387        3434   \n",
       "4  0101101010110101101010110101011      31     18  727102827  1800844650   \n",
       "\n",
       "                           vec_min                          vec_max rot_left  \\\n",
       "0                00101001010010101                10101001010010100       12   \n",
       "1                            00101                            10100        2   \n",
       "2                         00011111                         11111000        3   \n",
       "3                     010101101011                     110101101010        5   \n",
       "4  0101011010101101011010101101011  1101011010101101011010101101010       12   \n",
       "\n",
       "   quot=(N*rot+1)/L  \n",
       "0               5.0  \n",
       "1               1.0  \n",
       "2               2.0  \n",
       "3               3.0  \n",
       "4               7.0  "
      ],
      "text/html": "<div>\n<style scoped>\n    .dataframe tbody tr th:only-of-type {\n        vertical-align: middle;\n    }\n\n    .dataframe tbody tr th {\n        vertical-align: top;\n    }\n\n    .dataframe thead th {\n        text-align: right;\n    }\n</style>\n<table border=\"1\" class=\"dataframe\">\n  <thead>\n    <tr style=\"text-align: right;\">\n      <th></th>\n      <th>vec</th>\n      <th>L (len)</th>\n      <th>N (1s)</th>\n      <th>min</th>\n      <th>max</th>\n      <th>vec_min</th>\n      <th>vec_max</th>\n      <th>rot_left</th>\n      <th>quot=(N*rot+1)/L</th>\n    </tr>\n  </thead>\n  <tbody>\n    <tr>\n      <th>0</th>\n      <td>10101001010010100</td>\n      <td>17</td>\n      <td>7</td>\n      <td>21141</td>\n      <td>86676</td>\n      <td>00101001010010101</td>\n      <td>10101001010010100</td>\n      <td>12</td>\n      <td>5.0</td>\n    </tr>\n    <tr>\n      <th>1</th>\n      <td>10100</td>\n      <td>5</td>\n      <td>2</td>\n      <td>5</td>\n      <td>20</td>\n      <td>00101</td>\n      <td>10100</td>\n      <td>2</td>\n      <td>1.0</td>\n    </tr>\n    <tr>\n      <th>2</th>\n      <td>11111000</td>\n      <td>8</td>\n      <td>5</td>\n      <td>31</td>\n      <td>248</td>\n      <td>00011111</td>\n      <td>11111000</td>\n      <td>3</td>\n      <td>2.0</td>\n    </tr>\n    <tr>\n      <th>3</th>\n      <td>110101101010</td>\n      <td>12</td>\n      <td>7</td>\n      <td>1387</td>\n      <td>3434</td>\n      <td>010101101011</td>\n      <td>110101101010</td>\n      <td>5</td>\n      <td>3.0</td>\n    </tr>\n    <tr>\n      <th>4</th>\n      <td>0101101010110101101010110101011</td>\n      <td>31</td>\n      <td>18</td>\n      <td>727102827</td>\n      <td>1800844650</td>\n      <td>0101011010101101011010101101011</td>\n      <td>1101011010101101011010101101010</td>\n      <td>12</td>\n      <td>7.0</td>\n    </tr>\n  </tbody>\n</table>\n</div>"
     },
     "metadata": {},
     "execution_count": 18
    }
   ],
   "source": [
    "import math\n",
    "import scipy.special\n",
    "import pandas as pd\n",
    "import numpy as np\n",
    "from collections import deque\n",
    "from itertools import combinations\n",
    "from typing import Union\n",
    "\n",
    "def toStr(vec) -> str:\n",
    "    return ''.join(map(str, vec))\n",
    "\n",
    "def countOnes(vec) -> int:\n",
    "    return vec.count(1)\n",
    "\n",
    "def toInt(vec) -> int:\n",
    "    return int(\"\".join(str(i) for i in vec), 2)\n",
    "\n",
    "def rotate_left(x, r, l) -> int:\n",
    "    return (x*2**r) % (2**l-1)\n",
    "\n",
    "def rotate_right(x, r, l) -> int:\n",
    "    return rotate_left(x, l-(r % l), l)\n",
    "\n",
    "def find_min_max(vec) -> Union[int,int,list,list]:\n",
    "    L = len(vec)\n",
    "    vecToInt = toInt(vec)\n",
    "    min = vecToInt\n",
    "    max = 0\n",
    "    vec_min = vec\n",
    "    vec_max = vec\n",
    "    shifted = vec.copy()\n",
    "    for i in range(L):\n",
    "        if vecToInt < min:\n",
    "            min = vecToInt\n",
    "            vec_min = shifted\n",
    "        if vecToInt > max:\n",
    "            max = vecToInt\n",
    "            vec_max = shifted\n",
    "        temp = deque(shifted)\n",
    "        temp.rotate(-1)\n",
    "        shifted = list(temp)\n",
    "        vecToInt = toInt(shifted)\n",
    "    return min, max, vec_min, vec_max\n",
    "\n",
    "def find_rotational_distance(vec1, vec2) -> Union[int,int]:\n",
    "    L = len(vec1)\n",
    "    vec1ToInt = toInt(vec1)\n",
    "    vec2ToInt = toInt(vec2)\n",
    "    left_shifts = 0\n",
    "    shifted = vec1.copy()\n",
    "    for i in range(L):\n",
    "        if toInt(shifted) == vec2ToInt:\n",
    "            left_shifts = i\n",
    "            break\n",
    "        temp = deque(shifted)\n",
    "        temp.rotate(-1)\n",
    "        shifted = list(temp)\n",
    "    return left_shifts, L-left_shifts\n",
    "\n",
    "def generate_df(vecs: [[]]) -> pd.DataFrame:\n",
    "    df = pd.DataFrame(columns = ['vec', 'L (len)', 'N (1s)', 'min', 'max', 'vec_min', 'vec_max', 'rot_left', 'quot=(N*rot+1)/L'])\n",
    "    for i in range(len(vecs)):\n",
    "        vec = vecs[i]\n",
    "        L = len(vec)\n",
    "        min, max, vec_min, vec_max = find_min_max(vec)\n",
    "        rot_dist_left, rot_dist_right = find_rotational_distance(vec_min, vec_max)\n",
    "        quot = (countOnes(vec)*rot_dist_left+1)/L\n",
    "        df.loc[i] = [toStr(vec), L, countOnes(vec), min, max, toStr(vec_min), toStr(vec_max), rot_dist_left, quot]\n",
    "    return df\n",
    "\n",
    "#should bring 130\n",
    "print(rotate_left(5,7,8))\n",
    "#should bring 21141\n",
    "print(rotate_left(86676,5,17))\n",
    "print(rotate_right(86676,12,17))\n",
    "#should bring 86676\n",
    "print(rotate_left(21141,12,17))\n",
    "\n",
    "vecs=[\n",
    "    [1,0,1,0,1,0,0,1,0,1,0,0,1,0,1,0,0],\n",
    "    [1,0,1,0,0],\n",
    "    [1,1,1,1,1,0,0,0],\n",
    "    [1,1,0,1,0,1,1,0,1,0,1,0],\n",
    "    [0,1,0,1,1,0,1,0,1,0,1,1,0,1,0,1,1,0,1,0,1,0,1,1,0,1,0,1,0,1,1]\n",
    "    ]\n",
    "\n",
    "df = generate_df(vecs)\n",
    "df.head()"
   ]
  },
  {
   "cell_type": "code",
   "execution_count": null,
   "metadata": {},
   "outputs": [],
   "source": []
  }
 ]
}