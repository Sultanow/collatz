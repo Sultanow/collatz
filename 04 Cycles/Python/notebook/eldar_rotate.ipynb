{
 "nbformat": 4,
 "nbformat_minor": 0,
 "metadata": {
  "colab": {
   "name": "graphwizz-tree.ipynb",
   "provenance": [],
   "collapsed_sections": [],
   "toc_visible": true
  },
  "kernelspec": {
   "name": "python3",
   "display_name": "Python 3.8.3 64-bit (conda)",
   "metadata": {
    "interpreter": {
     "hash": "524e93b8e0226315aee682eacc6843c81ddb16bd5c2ad8dc8495f33ccc2f5477"
    }
   }
  }
 },
 "cells": [
  {
   "cell_type": "code",
   "execution_count": 39,
   "metadata": {},
   "outputs": [
    {
     "output_type": "stream",
     "name": "stdout",
     "text": [
      "130\n21141\n21141\n86676\nmin=21141 max=86676 vec_min=00101001010010101 vec_max=10101001010010100 rot_left=12 quot=5.0\nmin=5 max=20 vec_min=00101 vec_max=10100 rot_left=2 quot=1.0\nmin=31 max=248 vec_min=00011111 vec_max=11111000 rot_left=3 quot=2.0\n"
     ]
    }
   ],
   "source": [
    "import math\n",
    "import scipy.special\n",
    "import pandas as pd\n",
    "import numpy as np\n",
    "from collections import deque\n",
    "from itertools import combinations\n",
    "from typing import Union\n",
    "\n",
    "def toStr(vec) -> str:\n",
    "    return ''.join(map(str, vec))\n",
    "\n",
    "def countOnes(vec) -> int:\n",
    "    return vec.count(1)\n",
    "\n",
    "def toInt(vec) -> int:\n",
    "    return int(\"\".join(str(i) for i in vec), 2)\n",
    "\n",
    "def rotate_left(x, r, l) -> int:\n",
    "    return (x*2**r) % (2**l-1)\n",
    "\n",
    "def rotate_right(x, r, l) -> int:\n",
    "    return rotate_left(x, l-(r % l), l)\n",
    "\n",
    "def find_min_max(vec) -> Union[int,int,list,list]:\n",
    "    L = len(vec)\n",
    "    vecToInt = toInt(vec)\n",
    "    min = vecToInt\n",
    "    max = 0\n",
    "    vec_min = vec\n",
    "    vec_max = vec\n",
    "    shifted = vec.copy()\n",
    "    for i in range(L):\n",
    "        if vecToInt < min:\n",
    "            min = vecToInt\n",
    "            vec_min = shifted\n",
    "        if vecToInt > max:\n",
    "            max = vecToInt\n",
    "            vec_max = shifted\n",
    "        temp = deque(shifted)\n",
    "        temp.rotate(-1)\n",
    "        shifted = list(temp)\n",
    "        vecToInt = toInt(shifted)\n",
    "    return min, max, vec_min, vec_max\n",
    "\n",
    "def find_rotational_distance(vec1, vec2) -> Union[int,int]:\n",
    "    L = len(vec1)\n",
    "    vec1ToInt = toInt(vec1)\n",
    "    vec2ToInt = toInt(vec2)\n",
    "    left_shifts = 0\n",
    "    shifted = vec1.copy()\n",
    "    for i in range(L):\n",
    "        if toInt(shifted) == vec2ToInt:\n",
    "            left_shifts = i\n",
    "            break\n",
    "        temp = deque(shifted)\n",
    "        temp.rotate(-1)\n",
    "        shifted = list(temp)\n",
    "    return left_shifts, L-left_shifts\n",
    "\n",
    "#should bring 130\n",
    "print(rotate_left(5,7,8))\n",
    "\n",
    "#should bring 21141\n",
    "print(rotate_left(86676,5,17))\n",
    "print(rotate_right(86676,12,17))\n",
    "\n",
    "print(rotate_left(21141,12,17))\n",
    "\n",
    "vec = [1,0,1,0,1,0,0,1,0,1,0,0,1,0,1,0,0]\n",
    "min, max, vec_min, vec_max = find_min_max(vec)\n",
    "rot_dist_left, rot_dist_right = find_rotational_distance(vec_min, vec_max)\n",
    "quot = (countOnes(vec)*rot_dist_left+1)/len(vec)\n",
    "print(\"min={0} max={1} vec_min={2} vec_max={3} rot_left={4} quot={5}\".format(min, max, toStr(vec_min), toStr(vec_max), rot_dist_left, quot))\n",
    "\n",
    "vec = [1,0,1,0,0]\n",
    "min, max, vec_min, vec_max = find_min_max(vec)\n",
    "rot_dist_left, rot_dist_right = find_rotational_distance(vec_min, vec_max)\n",
    "quot = (countOnes(vec)*rot_dist_left+1)/len(vec)\n",
    "print(\"min={0} max={1} vec_min={2} vec_max={3} rot_left={4} quot={5}\".format(min, max, toStr(vec_min), toStr(vec_max), rot_dist_left, quot))\n",
    "\n",
    "vec = [1,1,1,1,1,0,0,0]\n",
    "min, max, vec_min, vec_max = find_min_max(vec)\n",
    "rot_dist_left, rot_dist_right = find_rotational_distance(vec_min, vec_max)\n",
    "quot = (countOnes(vec)*rot_dist_left+1)/len(vec)\n",
    "print(\"min={0} max={1} vec_min={2} vec_max={3} rot_left={4} quot={5}\".format(min, max, toStr(vec_min), toStr(vec_max), rot_dist_left, quot))"
   ]
  },
  {
   "cell_type": "code",
   "execution_count": null,
   "metadata": {},
   "outputs": [],
   "source": []
  }
 ]
}