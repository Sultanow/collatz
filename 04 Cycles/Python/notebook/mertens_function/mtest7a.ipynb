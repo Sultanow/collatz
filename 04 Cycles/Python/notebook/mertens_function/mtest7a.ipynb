{
 "nbformat": 4,
 "nbformat_minor": 0,
 "metadata": {
  "colab": {
   "name": "graphwizz-tree.ipynb",
   "provenance": [],
   "collapsed_sections": [],
   "toc_visible": true
  },
  "kernelspec": {
   "name": "python3",
   "display_name": "Python 3.9.0 64-bit",
   "metadata": {
    "interpreter": {
     "hash": "17eeadac136e514c1cd200c4671c14559be4652da2455ac006b5fafd8663a890"
    }
   }
  }
 },
 "cells": [
  {
   "cell_type": "code",
   "metadata": {
    "id": "a42M43IPu1cD",
    "tags": []
   },
   "source": [
    "# \n",
    "# Compute Mertens function, signs of Mertens function\n",
    "#\n",
    "import math\n",
    "f=open(\"junk.txt\",'w')\n",
    "max=100  # maximum x value\n",
    "out=2   # 0 for M(x)\n",
    "        # 1 for sum of absolute values of sign(M(x))\n",
    "        # 2 for sum of sign(M[x/i])i\n",
    "        # 3 for [x/n]([x/n]+1)/2\n",
    "j=1     # natural numbers in the range 1 to max\n",
    "m=[0 for i in range(500000)]\n",
    "# compute Mertens function\n",
    "m[0]=1\n",
    "if (out==0):\n",
    "   print(m[0])\n",
    "   f.write(\" %d \\n\" % m[0])\n",
    "for index in range(2,max+1):\n",
    "   sum=0\n",
    "   for i in range(2,math.floor(index/3)+1):\n",
    "      sum=sum+m[math.floor(index/i)-1]\n",
    "   sum=sum+math.floor((index+1)/2)\n",
    "   m[index-1]=1-sum\n",
    "   if (out==0):\n",
    "      print(m[index-1])\n",
    "      f.write(\" %d \\n\" % m[index-1])\n",
    "# compute sum of absolute values of sign(M(x))\n",
    "msum=0\n",
    "for i in range(1,j+1):\n",
    "   if (m[i-1]<0):\n",
    "      msum=msum+1\n",
    "   if (m[i-1]>0):\n",
    "      msum=msum+1\n",
    "   if (out==1):\n",
    "      f.write(\" %d \\n\" % msum)\n",
    "# compute sum of sign(M[x/i]))i\n",
    "for index in range(2,max+1):\n",
    "   sum=0\n",
    "   stop=math.floor(index/(j+1))\n",
    "   for i in range(1,stop+1):\n",
    "      if (m[math.floor(index/i)-1]<0):\n",
    "         sum=sum-i\n",
    "      if (m[math.floor(index/i)-1]>0):\n",
    "         sum=sum+i\n",
    "   if (out==2):\n",
    "      f.write(\" %d \\n\" % sum)\n",
    "# compute [x/n]([x/n]+1)/2\n",
    "msum=msum+2\n",
    "for index in range(2,max+1):\n",
    "   temp=math.floor(index/msum)\n",
    "   temp=temp*(temp+1)\n",
    "   temp=math.floor(temp/2)\n",
    "   if (out==3):\n",
    "      f.write(\" %d \\n\" % temp)\n",
    "f.close()\n",
    "\n"
   ],
   "execution_count": 33,
   "outputs": []
  },
  {
   "cell_type": "code",
   "execution_count": null,
   "metadata": {},
   "outputs": [],
   "source": []
  }
 ]
}