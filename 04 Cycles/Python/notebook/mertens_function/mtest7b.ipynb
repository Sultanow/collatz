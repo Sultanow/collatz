{
 "nbformat": 4,
 "nbformat_minor": 0,
 "metadata": {
  "colab": {
   "name": "graphwizz-tree.ipynb",
   "provenance": [],
   "collapsed_sections": [],
   "toc_visible": true
  },
  "kernelspec": {
   "name": "python3",
   "display_name": "Python 3.8.3 64-bit (conda)",
   "metadata": {
    "interpreter": {
     "hash": "524e93b8e0226315aee682eacc6843c81ddb16bd5c2ad8dc8495f33ccc2f5477"
    }
   }
  }
 },
 "cells": [
  {
   "cell_type": "code",
   "metadata": {
    "id": "a42M43IPu1cD",
    "tags": []
   },
   "source": [
    "# \n",
    "# Compute Mertens function, signs of Mertens function\n",
    "# Darrell Cox, 01/28/2021\n",
    "#\n",
    "import math\n",
    "f=open(\"junk.txt\",'w')\n",
    "max=20  # maximum x value\n",
    "out=2   # 0 for M(x)\n",
    "        # 1 for sum of absolute values of sign(M(x))\n",
    "        # 2 for sum of sign(M[x/i])sigma(i) and [x/n]([x/n]+1)/2+1\n",
    "j=1     # natural numbers in the range 1 to max\n",
    "noclip=0 # 0 for partial sum\n",
    "         # 1 for complete sum\n",
    "m=[0 for i in range(500000)]\n",
    "t=[0 for i in range(500000)]\n",
    "# compute Mertens function\n",
    "m[0]=1\n",
    "if (out==0):\n",
    "   print(m[0])\n",
    "   f.write(\" %d \\n\" % m[0])\n",
    "for index in range(2,max+1):\n",
    "   sum=0\n",
    "   for i in range(2,index//3+1):\n",
    "      sum=sum+m[index//i-1]\n",
    "   sum=sum+(index+1)//2\n",
    "   m[index-1]=1-sum\n",
    "   if (out==0):\n",
    "      print(m[index-1])\n",
    "      f.write(\" %d \\n\" % m[index-1])\n",
    "# compute sum of absolute values of sign(M(x))\n",
    "msum=0\n",
    "for i in range(1,j+1):\n",
    "   if (m[i-1]<0):\n",
    "      msum=msum+1\n",
    "   if (m[i-1]>0):\n",
    "      msum=msum+1\n",
    "   if (out==1):\n",
    "      f.write(\" %d \\n\" % msum)\n",
    "# compute sum of sign(M[x/i]))sigma(i)\n",
    "for index in range(2,max+1):\n",
    "   sum=0\n",
    "   if (noclip==0):\n",
    "      stop=index//(j+1)\n",
    "   else:\n",
    "      stop=index\n",
    "   for i in range(1,stop+1):\n",
    "      sum1=0\n",
    "      for j in range(1,i+1):\n",
    "         if (i//j*j==i):\n",
    "            sum1=sum1+j\n",
    "      if (m[(index//i)-1]<0):\n",
    "         sum=sum-sum1\n",
    "      if (m[(index//i)-1]>0):\n",
    "         sum=sum+sum1\n",
    "   if (out==2):\n",
    "      t[index-1]=-sum\n",
    "# compute [x/n]([x/n]+1)/2 variant\n",
    "k=msum\n",
    "r=(k-1)-(k-1)//4*4\n",
    "if (r==0):\n",
    "   d=2\n",
    "if (r==1):\n",
    "   d=3\n",
    "if (r==2):\n",
    "   d=3\n",
    "if (r==3):\n",
    "   d=4\n",
    "n=3*(k-1)//4+d\n",
    "for index in range(2,max+1):\n",
    "   temp=index//n\n",
    "   temp=temp*(temp+1)\n",
    "   temp=temp//2+1\n",
    "   temp1=t[index-1]\n",
    "   if (out==2):\n",
    "      print(temp1,temp)\n",
    "      f.write(\" %d \" % temp1)\n",
    "      f.write(\" %d \\n\" % temp)\n",
    "f.close()\n",
    "\n"
   ],
   "execution_count": 3,
   "outputs": [
    {
     "output_type": "stream",
     "name": "stdout",
     "text": [
      "0 2\n1 2\n1 4\n1 4\n4 7\n1 7\n4 11\n1 11\n8 16\n1 16\n15 22\n1 22\n15 29\n1 29\n21 37\n1 37\n33 46\n1 46\n33 56\n"
     ]
    }
   ]
  },
  {
   "cell_type": "code",
   "execution_count": null,
   "metadata": {},
   "outputs": [],
   "source": []
  }
 ]
}