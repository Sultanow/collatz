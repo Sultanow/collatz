{
 "nbformat": 4,
 "nbformat_minor": 0,
 "metadata": {
  "colab": {
   "name": "graphwizz-tree.ipynb",
   "provenance": [],
   "collapsed_sections": [],
   "toc_visible": true
  },
  "kernelspec": {
   "name": "python3",
   "display_name": "Python 3.9.0 64-bit",
   "metadata": {
    "interpreter": {
     "hash": "17eeadac136e514c1cd200c4671c14559be4652da2455ac006b5fafd8663a890"
    }
   }
  }
 },
 "cells": [
  {
   "cell_type": "code",
   "metadata": {
    "id": "a42M43IPu1cD",
    "tags": []
   },
   "source": [
    "# \n",
    "# Compute sequence of Mertens function values (for z-transform)\n",
    "# Darrell Cox, 01/27/2021\n",
    "#\n",
    "import math\n",
    "f=open(\"junk.txt\",'w')\n",
    "max=100000  # maximum x value\n",
    "m=[0 for i in range(500000)]\n",
    "hist=[0 for i in range(1000)]\n",
    "# compute Mertens function\n",
    "m[0]=1\n",
    "for index in range(2,max+1):\n",
    "   sum=0\n",
    "   for i in range(2,math.floor(index/3)+1):\n",
    "      sum=sum+m[math.floor(index/i)-1]\n",
    "   sum=sum+math.floor((index+1)/2)\n",
    "   m[index-1]=1-sum\n",
    "# compute sequence\n",
    "for index in range(1,max+1):\n",
    "   temp=m[math.floor(max/index)-1]\n",
    "   f.write(\" %d \\n\" % temp)\n",
    "   hist[temp+40]=hist[temp+40]+1\n",
    "for index in range(1,80):\n",
    "   print(index-40,hist[index-1])\n",
    "f.close()\n",
    "\n"
   ],
   "execution_count": 8,
   "outputs": [
    {
     "output_type": "stream",
     "name": "stdout",
     "text": [
      "-39 0\n-38 0\n-37 0\n-36 0\n-35 0\n-34 0\n-33 0\n-32 0\n-31 0\n-30 0\n-29 0\n-28 0\n-27 0\n-26 0\n-25 0\n-24 0\n-23 0\n-22 2\n-21 0\n-20 2\n-19 0\n-18 0\n-17 1\n-16 0\n-15 2\n-14 1\n-13 1\n-12 1\n-11 6\n-10 3\n-9 4\n-8 9\n-7 14\n-6 27\n-5 40\n-4 80\n-3 379\n-2 1919\n-1 11636\n0 18705\n1 16944\n2 50102\n3 45\n4 24\n5 19\n6 10\n7 7\n8 2\n9 2\n10 2\n11 3\n12 0\n13 1\n14 0\n15 0\n16 0\n17 1\n18 1\n19 1\n20 0\n21 0\n22 0\n23 0\n24 1\n25 1\n26 0\n27 1\n28 0\n29 0\n30 0\n31 0\n32 0\n33 0\n34 0\n35 0\n36 0\n37 0\n38 0\n39 0\n"
     ]
    }
   ]
  },
  {
   "cell_type": "code",
   "execution_count": null,
   "metadata": {},
   "outputs": [],
   "source": []
  }
 ]
}