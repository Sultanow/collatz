{
 "cells": [
  {
   "cell_type": "code",
   "execution_count": 1,
   "metadata": {},
   "outputs": [
    {
     "name": "stdout",
     "output_type": "stream",
     "text": [
      "[13, 33, 83, 13, 33, 83]\n",
      "[27, 17, 43, 27, 17, 43]\n",
      "[27, 611, 27, 611, 27, 611]\n",
      "[35, 99, 35, 99, 35, 99]\n"
     ]
    }
   ],
   "source": [
    "def exact_divisibility_two(x):\n",
    "    d = 0\n",
    "    while x%2 == 0:\n",
    "        x //= 2\n",
    "        d+=1\n",
    "    return d\n",
    "\n",
    "def generate_collatz_set(q, v1, n):\n",
    "    collatz_set = []\n",
    "    if n<1 or v1%2==0:\n",
    "        return collatz_set\n",
    "    vi = v1\n",
    "    collatz_set.append(vi)\n",
    "    for i in range(n-1):\n",
    "        vi = q*vi+1\n",
    "        while vi%2 == 0:\n",
    "            vi //= 2**(exact_divisibility_two(vi))\n",
    "            collatz_set.append(int(vi))\n",
    "    return collatz_set\n",
    "\n",
    "print(generate_collatz_set(5,13,6))\n",
    "print(generate_collatz_set(5,27,6))\n",
    "\n",
    "print(generate_collatz_set(181,27,6))\n",
    "print(generate_collatz_set(181,35,6))"
   ]
  }
 ],
 "metadata": {
  "colab": {
   "collapsed_sections": [],
   "name": "graphwizz-tree.ipynb",
   "provenance": [],
   "toc_visible": true
  },
  "kernelspec": {
   "display_name": "Python 3.8.3 64-bit (conda)",
   "metadata": {
    "interpreter": {
     "hash": "524e93b8e0226315aee682eacc6843c81ddb16bd5c2ad8dc8495f33ccc2f5477"
    }
   },
   "name": "python3"
  },
  "language_info": {
   "codemirror_mode": {
    "name": "ipython",
    "version": 3
   },
   "file_extension": ".py",
   "mimetype": "text/x-python",
   "name": "python",
   "nbconvert_exporter": "python",
   "pygments_lexer": "ipython3",
   "version": "3.9.7"
  }
 },
 "nbformat": 4,
 "nbformat_minor": 0
}
