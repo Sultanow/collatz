{
 "nbformat": 4,
 "nbformat_minor": 0,
 "metadata": {
  "colab": {
   "name": "graphwizz-tree.ipynb",
   "provenance": [],
   "collapsed_sections": [],
   "toc_visible": true
  },
  "kernelspec": {
   "name": "python3",
   "display_name": "Python 3.8.3 64-bit (conda)",
   "metadata": {
    "interpreter": {
     "hash": "524e93b8e0226315aee682eacc6843c81ddb16bd5c2ad8dc8495f33ccc2f5477"
    }
   }
  }
 },
 "cells": [
  {
   "cell_type": "code",
   "execution_count": 1,
   "metadata": {},
   "outputs": [],
   "source": [
    "#all imports\n",
    "import numpy as np\n",
    "import pandas as pd\n",
    "import matplotlib.pyplot as plt"
   ]
  },
  {
   "source": [
    "Adapted from Darrel Cox (test14o.c)\n",
    "\n",
    "COMPUTE THE MINIMUM AND MAXIMUM ODD ELEMENTS IN A CYCLE (M(l,n) and N(l,n))\n",
    "07/21/10 (dkc)\n",
    "\n",
    "This C program computes the minimum and maximum odd elements in a cycle.\n",
    "\"l\" is the number of elements in a cycle (where the element following the\n",
    "odd element i is (3i+c)/2) and \"n\" is the number of odd elements in the\n",
    "cycle."
   ],
   "cell_type": "markdown",
   "metadata": {}
  },
  {
   "cell_type": "code",
   "metadata": {
    "id": "a42M43IPu1cD"
   },
   "source": [
    "# \n",
    "# This program finds a 3n+c cycle having a given length (denoted by l) and number of odd elements (denoted by\n",
    "# n).  The element after the natural number n is defined to be (3n+c)/2 (the standard definition).  c is an odd\n",
    "# integer not divisible by 3.  The c value is unspecified (3n+c is not computed anywhere in the code) and is an\n",
    "# output of the program.\n",
    "#\n",
    "import math\n",
    "#number of odds and evens\n",
    "l=11\n",
    "#number of odds\n",
    "n=7\n",
    "#number of words (hard-coded to 6)\n",
    "m=6\n",
    "#check if value divides 2^l-3^n\n",
    "divisor=139\n",
    "\n",
    "#compute rotated parity vector using ceiling function\n",
    "O=[0 for i in range(100)]\n",
    "count=0;\n",
    "S=0\n",
    "A=0\n",
    "B=0\n",
    "M=0\n",
    "L=999999999\n",
    "temp=0\n",
    "a=0\n",
    "b=0\n",
    "sv=[0 for i in range(158)]\n",
    "for offset in range(l):\n",
    "    for j in range(1, l + 1):\n",
    "         a=j*n\n",
    " #        if a == ((a/l) * l):\n",
    " #           a = a/l\n",
    " #        else:\n",
    " #           a = (a/l)+1\n",
    "         a=math.ceil(a/l)\n",
    "\n",
    "         b = (j-1) * n\n",
    " #        if b == ((b/l) * l):\n",
    " #           b = b/l\n",
    " #        else:\n",
    " #           b = (b/l)+1\n",
    "         b=math.ceil(b/l)\n",
    "\n",
    "         temp = j + offset\n",
    "         if temp > l:\n",
    "            temp = temp-l\n",
    "\n",
    "         sv[temp - 1] = a - b\n",
    "\n",
    "         if (offset == 0):\n",
    "            print(sv[temp-1])\n",
    "\t \n",
    "    if (offset==0):\n",
    "\t    print(\"\\n\")\n",
    "\n",
    "    if (sv[0]==0):\n",
    "\t    continue\n",
    "# compute odd element\n",
    "    S=0\n",
    "    temp=0\n",
    "    for j in range(1,l+1):\n",
    "       if (sv[j-1]!=0):\n",
    "          A=sv[j-1]\n",
    "          for h in range(1,n-temp):\n",
    "             B=A\n",
    "             A=A+A\n",
    "             A=B+A\n",
    "          B=A<<(j-1)\n",
    "          S=S+B\n",
    "       temp=temp+sv[j]\n",
    "# compute maximum odd element\n",
    "    if (S>M):\n",
    "       M=S\n",
    "    if (offset==0):\n",
    "       L=S\n",
    "    O[count]=S\n",
    "    count=count+1;\n",
    "    print(S,L,M)\n",
    "if (count!=n):\n",
    "      print(count,n)\n",
    "#"
   ],
   "execution_count": 2,
   "outputs": [
    {
     "output_type": "stream",
     "name": "stdout",
     "text": [
      "1\n1\n0\n1\n1\n0\n1\n1\n0\n1\n0\n\n\n3767 3767 3767\n5069 3767 5069\n6805 3767 6805\n4583 3767 6805\n6157 3767 6805\n4151 3767 6805\n5581 3767 6805\n"
     ]
    }
   ]
  }
 ]
}