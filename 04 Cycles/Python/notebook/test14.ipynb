{
 "nbformat": 4,
 "nbformat_minor": 0,
 "metadata": {
  "colab": {
   "name": "graphwizz-tree.ipynb",
   "provenance": [],
   "collapsed_sections": [],
   "toc_visible": true
  },
  "kernelspec": {
   "name": "python3",
   "display_name": "Python 3.8.3 64-bit (conda)",
   "metadata": {
    "interpreter": {
     "hash": "524e93b8e0226315aee682eacc6843c81ddb16bd5c2ad8dc8495f33ccc2f5477"
    }
   }
  }
 },
 "cells": [
  {
   "cell_type": "code",
   "execution_count": 3,
   "metadata": {},
   "outputs": [],
   "source": [
    "#all imports\n",
    "import numpy as np\n",
    "import pandas as pd\n",
    "import matplotlib.pyplot as plt"
   ]
  },
  {
   "source": [
    "Adapted from Darrel Cox (test14o.c)\n",
    "\n",
    "COMPUTE THE MINIMUM AND MAXIMUM ODD ELEMENTS IN A CYCLE (M(l,n) and N(l,n))\n",
    "07/21/10 (dkc)\n",
    "\n",
    "This C program computes the minimum and maximum odd elements in a cycle.\n",
    "\"l\" is the number of elements in a cycle (where the element following the\n",
    "odd element i is (3i+c)/2) and \"n\" is the number of odd elements in the\n",
    "cycle."
   ],
   "cell_type": "markdown",
   "metadata": {}
  },
  {
   "cell_type": "code",
   "metadata": {
    "id": "a42M43IPu1cD"
   },
   "source": [
    "#number of odds and evens\n",
    "l=11\n",
    "#number of odds\n",
    "n=7\n",
    "#number of words (hard-coded to 6)\n",
    "m=6\n",
    "#check if value divides 2^l-3^n\n",
    "divisor=139\n",
    "\n",
    "#compute rotated parity vector using ceiling function\n",
    "temp=0\n",
    "a=0\n",
    "b=0\n",
    "sv=[0 for i in range(158)]\n",
    "for offset in range(l):\n",
    "    for j in range(1, l + 1):\n",
    "         a=j*n\n",
    "         c=a//l\n",
    "         if a == (c * l):\n",
    "            a = c\n",
    "         else:\n",
    "            a = c+1\n",
    "\n",
    "         b = (j-1) * n\n",
    "         d=b//l\n",
    "         if b == (d * l):\n",
    "            b = d\n",
    "         else:\n",
    "            b = d+1\n",
    "\n",
    "         temp = j + offset\n",
    "         if temp > l:\n",
    "            temp = temp-l\n",
    "\n",
    "         sv[temp - 1] = a - b\n",
    "\n",
    "         if (offset == 0):\n",
    "            print(sv[temp-1])\n",
    "\t \n",
    "    if (offset==0):\n",
    "\t    print(\"\\n\")\n",
    "\n",
    "    if (sv[0]==0):\n",
    "\t    continue\n",
    "\n",
    "print(sv)\n",
    "#compute odd element"
   ],
   "execution_count": 4,
   "outputs": [
    {
     "output_type": "stream",
     "name": "stdout",
     "text": [
      "1\n1\n0\n1\n1\n0\n1\n1\n0\n1\n0\n\n\n[1, 0, 1, 1, 0, 1, 1, 0, 1, 0, 1, 0, 0, 0, 0, 0, 0, 0, 0, 0, 0, 0, 0, 0, 0, 0, 0, 0, 0, 0, 0, 0, 0, 0, 0, 0, 0, 0, 0, 0, 0, 0, 0, 0, 0, 0, 0, 0, 0, 0, 0, 0, 0, 0, 0, 0, 0, 0, 0, 0, 0, 0, 0, 0, 0, 0, 0, 0, 0, 0, 0, 0, 0, 0, 0, 0, 0, 0, 0, 0, 0, 0, 0, 0, 0, 0, 0, 0, 0, 0, 0, 0, 0, 0, 0, 0, 0, 0, 0, 0, 0, 0, 0, 0, 0, 0, 0, 0, 0, 0, 0, 0, 0, 0, 0, 0, 0, 0, 0, 0, 0, 0, 0, 0, 0, 0, 0, 0, 0, 0, 0, 0, 0, 0, 0, 0, 0, 0, 0, 0, 0, 0, 0, 0, 0, 0, 0, 0, 0, 0, 0, 0, 0, 0, 0, 0, 0, 0]\n"
     ]
    }
   ]
  }
 ]
}