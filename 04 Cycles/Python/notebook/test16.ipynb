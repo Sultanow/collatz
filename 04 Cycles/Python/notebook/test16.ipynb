{
 "nbformat": 4,
 "nbformat_minor": 0,
 "metadata": {
  "colab": {
   "name": "graphwizz-tree.ipynb",
   "provenance": [],
   "collapsed_sections": [],
   "toc_visible": true
  },
  "kernelspec": {
   "name": "python3",
   "display_name": "Python 3.9.0 64-bit",
   "metadata": {
    "interpreter": {
     "hash": "17eeadac136e514c1cd200c4671c14559be4652da2455ac006b5fafd8663a890"
    }
   }
  }
 },
 "cells": [
  {
   "cell_type": "code",
   "metadata": {
    "id": "a42M43IPu1cD",
    "tags": []
   },
   "source": [
    "# \n",
    "# This program computes the odd elements of a cycle by rotating the parity vector.\n",
    "#\n",
    "l=14\n",
    "n=8\n",
    "sv=[0 for i in range(10000)]\n",
    "sv[0]=1\n",
    "sv[1]=1\n",
    "sv[2]=1\n",
    "sv[3]=0\n",
    "sv[4]=1\n",
    "sv[5]=0\n",
    "sv[6]=1\n",
    "sv[7]=1\n",
    "sv[8]=1\n",
    "sv[9]=0\n",
    "sv[10]=0\n",
    "sv[11]=1\n",
    "sv[12]=0\n",
    "sv[13]=0\n",
    "for offset in range(n):\n",
    "# compute odd element\n",
    "    S=0\n",
    "    temp=0\n",
    "    for j in range(1,l+1):\n",
    "       if (sv[j-1]!=0):\n",
    "          A=sv[j-1]\n",
    "          for h in range(1,n-temp):\n",
    "             B=A\n",
    "             A=A+A\n",
    "             A=B+A\n",
    "          B=A<<(j-1)\n",
    "          S=S+B\n",
    "       temp=temp+sv[j]\n",
    "    print(S)\n",
    "# rotate parity vector\n",
    "    a=sv[0]\n",
    "    for j in range (1,l):\n",
    "       sv[j-1]=sv[j]\n",
    "    sv[l-1]=a\n",
    "    while (sv[0]==0):\n",
    "       a=sv[0]\n",
    "       for j in range (1,l):\n",
    "          sv[j-1]=sv[j]\n",
    "       sv[l-1]=a\n",
    "\n",
    "\n",
    "       \n",
    "\n",
    "\n",
    "\n"
   ],
   "execution_count": 20,
   "outputs": [
    {
     "output_type": "stream",
     "name": "stdout",
     "text": [
      "11609\n22325\n38399\n31255\n25897\n43757\n70547\n27683\n"
     ]
    }
   ]
  },
  {
   "cell_type": "code",
   "execution_count": null,
   "metadata": {},
   "outputs": [],
   "source": []
  }
 ]
}