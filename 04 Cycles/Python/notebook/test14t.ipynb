{
 "nbformat": 4,
 "nbformat_minor": 0,
 "metadata": {
  "colab": {
   "name": "graphwizz-tree.ipynb",
   "provenance": [],
   "collapsed_sections": [],
   "toc_visible": true
  },
  "kernelspec": {
   "name": "python3",
   "display_name": "Python 3.9.0 64-bit",
   "metadata": {
    "interpreter": {
     "hash": "17eeadac136e514c1cd200c4671c14559be4652da2455ac006b5fafd8663a890"
    }
   }
  }
 },
 "cells": [
  {
   "cell_type": "code",
   "metadata": {
    "id": "a42M43IPu1cD",
    "tags": []
   },
   "source": [
    "# \n",
    "# Prime Number Theorem\n",
    "#\n",
    "# This program finds a rotation of the floor function parity vector that matches the ceiling function parity vector\n",
    "# The basis is computed.  L must be prime and less than 1000.  Added a counter.\n",
    "# @ Darrell Cox, 12/16/20\n",
    "#\n",
    "import math\n",
    "l=313\n",
    "index=[0 for i in range(1000)]\n",
    "mat=[0 for i in range(1000*1000)]\n",
    "sav=[0 for i in range(1000*1000)]\n",
    "for n in range(1,l):\n",
    "   sv=[0 for i in range(10000)]\n",
    "   pv=[0 for i in range(10000)]\n",
    "   r=[0 for i in range(10000)]\n",
    "   ws=0\n",
    "   wp=0\n",
    "   for j in range(1,l+1):\n",
    "      a=j*n\n",
    "      a=math.ceil(a/l)\n",
    "      b=(j-1)*n\n",
    "      b=math.ceil(b/l)\n",
    "      c=j*n\n",
    "      c=math.floor(c/l)\n",
    "      d=(j-1)*n\n",
    "      d=math.floor(d/l)\n",
    "      sv[j-1]=c-d\n",
    "      pv[j-1]=a-b\n",
    "      ws=ws*2+c-d\n",
    "      wp=wp*2+a-b\n",
    "   mask=(2<<(l-1))-1\n",
    "   a=ws\n",
    "   r[0]=a\n",
    "   for j in range(1,l+1):\n",
    "      b=a>>(l-1)\n",
    "      if (b==0):\n",
    "         a=(a*2)&mask\n",
    "      else:\n",
    "         a=((a*2)&mask)+1\n",
    "      r[j]=a\n",
    "   for j in range(1,l+1):\n",
    "      if (r[j]==wp):\n",
    "         temp=math.floor((j*n+1)/l)\n",
    "         for k in range(1,1000):\n",
    "            if (k==temp):\n",
    "               mat[1000*(k-1)+index[k-1]]=temp\n",
    "               sav[1000*(k-1)+index[k-1]]=j\n",
    "               index[k-1]=index[k-1]+1\n",
    "               break\n",
    "         break\n",
    "count=0\n",
    "for i in range(1,1000):\n",
    "   flag=0\n",
    "   for j in range(1,1000):\n",
    "      if (mat[1000*(i-1)+j-1]!=0):\n",
    "         flag=1\n",
    "         print(mat[1000*(i-1)+j-1],sav[1000*(i-1)+j-1])\n",
    "      else:\n",
    "         if (flag!=0):\n",
    "            count=count+1\n",
    "         break\n",
    "print(\"count\",count) \n",
    "      \n",
    "  \n",
    "  \n",
    "\n",
    "\n",
    "\n",
    "       \n",
    "\n",
    "\n",
    "\n"
   ],
   "execution_count": 1,
   "outputs": [
    {
     "output_type": "stream",
     "name": "stdout",
     "text": [
      "1 312\n1 156\n1 104\n1 78\n1 52\n1 39\n1 26\n1 24\n1 13\n1 12\n1 8\n1 6\n1 4\n1 3\n1 2\n1 1\n2 125\n2 25\n2 5\n3 134\n3 67\n3 14\n3 7\n4 139\n4 9\n5 92\n5 68\n5 46\n5 34\n5 23\n5 17\n7 219\n7 146\n7 73\n7 30\n7 15\n7 10\n9 256\n9 176\n9 128\n9 88\n9 64\n9 44\n9 32\n9 22\n9 16\n9 11\n10 149\n10 21\n13 226\n13 113\n13 36\n13 18\n17 280\n17 266\n17 190\n17 152\n17 140\n17 133\n17 95\n17 76\n17 70\n17 56\n17 40\n17 38\n17 35\n17 28\n17 20\n17 19\n18 131\n18 43\n21 212\n21 124\n21 106\n21 62\n21 53\n21 31\n22 255\n22 153\n22 135\n22 85\n22 81\n22 51\n22 45\n22 27\n23 122\n23 118\n23 61\n23 59\n24 259\n24 203\n24 37\n24 29\n25 163\n25 48\n26 103\n26 79\n27 169\n27 130\n27 65\n27 50\n28 127\n28 69\n30 229\n30 41\n31 294\n31 231\n31 198\n31 154\n31 147\n31 126\n31 99\n31 98\n31 77\n31 66\n31 63\n31 49\n31 42\n31 33\n37 193\n37 60\n40 117\n40 107\n42 239\n42 55\n44 293\n44 47\n48 181\n48 83\n49 284\n49 216\n49 213\n49 142\n49 108\n49 72\n49 71\n49 54\n52 217\n52 175\n52 155\n52 105\n52 93\n52 75\n53 286\n53 143\n53 116\n53 58\n55 302\n55 151\n55 114\n55 57\n57 223\n57 80\n60 211\n60 89\n61 258\n61 222\n61 172\n61 148\n61 129\n61 111\n61 86\n61 74\n66 227\n66 91\n67 233\n67 90\n70 201\n70 109\n71 271\n71 82\n73 272\n73 238\n73 224\n73 204\n73 192\n73 168\n73 136\n73 119\n73 112\n73 102\n73 96\n73 84\n75 242\n75 194\n75 121\n75 97\n77 241\n77 100\n82 295\n82 177\n82 145\n82 87\n91 303\n91 282\n91 202\n91 141\n91 101\n91 94\n97 276\n97 264\n97 253\n97 230\n97 220\n97 184\n97 165\n97 138\n97 132\n97 120\n97 115\n97 110\n103 199\n103 162\n105 208\n105 158\n107 197\n107 170\n112 285\n112 205\n112 171\n112 123\n121 263\n121 144\n127 265\n127 250\n127 159\n127 150\n129 206\n129 196\n130 297\n130 137\n131 247\n131 166\n137 268\n137 160\n141 236\n141 187\n143 278\n143 161\n145 248\n145 244\n145 186\n145 183\n147 215\n147 214\n149 262\n149 178\n152 275\n152 173\n153 292\n153 164\n155 254\n155 191\n156 311\n156 157\n157 273\n157 270\n157 260\n157 252\n157 234\n157 210\n157 195\n157 189\n157 182\n157 180\n159 298\n159 167\n166 251\n166 207\n169 304\n169 232\n169 228\n169 174\n172 291\n172 185\n175 306\n175 179\n177 277\n177 200\n179 257\n179 218\n184 243\n184 237\n185 308\n185 188\n202 281\n202 225\n207 310\n207 209\n209 296\n209 221\n214 269\n214 249\n217 283\n217 240\n227 290\n227 245\n232 309\n232 235\n235 299\n235 246\n238 279\n238 267\n256 307\n256 261\n265 288\n267 305\n267 274\n276 301\n276 287\n277 300\n277 289\ncount 86\n"
     ]
    }
   ]
  },
  {
   "cell_type": "code",
   "execution_count": null,
   "metadata": {},
   "outputs": [],
   "source": []
  }
 ]
}