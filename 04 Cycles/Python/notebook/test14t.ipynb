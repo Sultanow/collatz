{
 "nbformat": 4,
 "nbformat_minor": 0,
 "metadata": {
  "colab": {
   "name": "graphwizz-tree.ipynb",
   "provenance": [],
   "collapsed_sections": [],
   "toc_visible": true
  },
  "kernelspec": {
   "name": "python3",
   "display_name": "Python 3.9.0 64-bit",
   "metadata": {
    "interpreter": {
     "hash": "17eeadac136e514c1cd200c4671c14559be4652da2455ac006b5fafd8663a890"
    }
   }
  }
 },
 "cells": [
  {
   "cell_type": "code",
   "metadata": {
    "id": "a42M43IPu1cD",
    "tags": []
   },
   "source": [
    "# \n",
    "# Prime Number Theorem\n",
    "#\n",
    "# This program finds a rotation of the floor function parity vector that matches the ceiling function parity vector\n",
    "# The basis is computed.  L must be prime and less than 1000.  Added a counter.\n",
    "# @ Darrell Cox, 12/16/20\n",
    "#\n",
    "import math\n",
    "l=101\n",
    "index=[0 for i in range(1000)]\n",
    "mat=[0 for i in range(1000*1000)]\n",
    "sav=[0 for i in range(1000*1000)]\n",
    "for n in range(1,l):\n",
    "   sv=[0 for i in range(10000)]\n",
    "   pv=[0 for i in range(10000)]\n",
    "   r=[0 for i in range(10000)]\n",
    "   ws=0\n",
    "   wp=0\n",
    "   for j in range(1,l+1):\n",
    "      a=j*n\n",
    "      a=math.ceil(a/l)\n",
    "      b=(j-1)*n\n",
    "      b=math.ceil(b/l)\n",
    "      c=j*n\n",
    "      c=math.floor(c/l)\n",
    "      d=(j-1)*n\n",
    "      d=math.floor(d/l)\n",
    "      sv[j-1]=c-d\n",
    "      pv[j-1]=a-b\n",
    "      ws=ws*2+c-d\n",
    "      wp=wp*2+a-b\n",
    "   mask=(2<<(l-1))-1\n",
    "   a=ws\n",
    "   r[0]=a\n",
    "   for j in range(1,l+1):\n",
    "      b=a>>(l-1)\n",
    "      if (b==0):\n",
    "         a=(a*2)&mask\n",
    "      else:\n",
    "         a=((a*2)&mask)+1\n",
    "      r[j]=a\n",
    "   for j in range(1,l+1):\n",
    "      if (r[j]==wp):\n",
    "         temp=math.floor((j*n+1)/l)\n",
    "         for k in range(1,1000):\n",
    "            if (k==temp):\n",
    "               mat[1000*(k-1)+index[k-1]]=temp\n",
    "               sav[1000*(k-1)+index[k-1]]=j\n",
    "               index[k-1]=index[k-1]+1\n",
    "               break\n",
    "         break\n",
    "count=0\n",
    "for i in range(1,1000):\n",
    "   flag=0\n",
    "   for j in range(1,1000):\n",
    "      if (mat[1000*(i-1)+j-1]!=0):\n",
    "         flag=1\n",
    "         print(mat[1000*(i-1)+j-1],sav[1000*(i-1)+j-1])\n",
    "      else:\n",
    "         if (flag!=0):\n",
    "            count=count+1\n",
    "         break\n",
    "print(\"count\",count) \n",
    "      \n",
    "  \n",
    "  \n",
    "\n",
    "\n",
    "\n",
    "       \n",
    "\n",
    "\n",
    "\n"
   ],
   "execution_count": 34,
   "outputs": [
    {
     "output_type": "stream",
     "name": "stdout",
     "text": [
      "1 100\n1 50\n1 25\n1 20\n1 10\n1 5\n1 4\n1 2\n1 1\n2 67\n2 3\n4 31\n4 13\n5 84\n5 72\n5 63\n5 56\n5 42\n5 36\n5 28\n5 24\n5 21\n5 18\n5 14\n5 12\n5 9\n5 8\n5 7\n5 6\n6 55\n6 11\n11 74\n11 37\n11 30\n11 15\n13 82\n13 41\n13 32\n13 16\n16 95\n16 85\n16 19\n16 17\n17 78\n17 66\n17 52\n17 44\n17 39\n17 33\n17 26\n17 22\n18 79\n18 23\n21 53\n21 40\n23 86\n23 54\n23 43\n23 27\n26 75\n26 35\n27 94\n27 58\n27 47\n27 29\n29 61\n29 48\n33 98\n33 68\n33 49\n33 34\n35 93\n35 62\n35 57\n35 38\n41 92\n41 90\n41 69\n41 60\n41 46\n41 45\n45 71\n45 64\n50 99\n50 51\n52 89\n52 59\n56 87\n56 65\n60 83\n60 73\n61 88\n61 80\n61 77\n61 70\n73 97\n73 76\n77 96\n77 81\n82 91\ncount 27\n"
     ]
    }
   ]
  },
  {
   "cell_type": "code",
   "execution_count": null,
   "metadata": {},
   "outputs": [],
   "source": []
  }
 ]
}