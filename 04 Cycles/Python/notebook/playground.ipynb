{
 "nbformat": 4,
 "nbformat_minor": 0,
 "metadata": {
  "colab": {
   "name": "graphwizz-tree.ipynb",
   "provenance": [],
   "collapsed_sections": [],
   "toc_visible": true
  },
  "kernelspec": {
   "name": "python3",
   "display_name": "Python 3.8.3 64-bit (conda)",
   "metadata": {
    "interpreter": {
     "hash": "524e93b8e0226315aee682eacc6843c81ddb16bd5c2ad8dc8495f33ccc2f5477"
    }
   }
  }
 },
 "cells": [
  {
   "cell_type": "code",
   "execution_count": 7,
   "metadata": {},
   "outputs": [],
   "source": [
    "#all imports\n",
    "import numpy as np\n",
    "import pandas as pd\n",
    "import matplotlib.pyplot as plt"
   ]
  },
  {
   "source": [
    "Code from Anant Gupta to calculate kx+1 series"
   ],
   "cell_type": "markdown",
   "metadata": {}
  },
  {
   "cell_type": "code",
   "execution_count": 8,
   "metadata": {},
   "outputs": [
    {
     "output_type": "execute_result",
     "data": {
      "text/plain": [
       "   k     sequence\n",
       "1  1          [1]\n",
       "3  3          [1]\n",
       "5  5  [1, 13, 17]"
      ],
      "text/html": "<div>\n<style scoped>\n    .dataframe tbody tr th:only-of-type {\n        vertical-align: middle;\n    }\n\n    .dataframe tbody tr th {\n        vertical-align: top;\n    }\n\n    .dataframe thead th {\n        text-align: right;\n    }\n</style>\n<table border=\"1\" class=\"dataframe\">\n  <thead>\n    <tr style=\"text-align: right;\">\n      <th></th>\n      <th>k</th>\n      <th>sequence</th>\n    </tr>\n  </thead>\n  <tbody>\n    <tr>\n      <th>1</th>\n      <td>1</td>\n      <td>[1]</td>\n    </tr>\n    <tr>\n      <th>3</th>\n      <td>3</td>\n      <td>[1]</td>\n    </tr>\n    <tr>\n      <th>5</th>\n      <td>5</td>\n      <td>[1, 13, 17]</td>\n    </tr>\n  </tbody>\n</table>\n</div>"
     },
     "metadata": {},
     "execution_count": 8
    }
   ],
   "source": [
    "def coll_conj(a,k):\n",
    "    lst=[]\n",
    "    ctr=0\n",
    "    while ctr<main_counter+1:\n",
    "        if a in glob_lst:\n",
    "            return(a)\n",
    "        if a in lst:\n",
    "            b=lst.index(a)\n",
    "            min_el=min(lst[b:])\n",
    "            glob_lst.append(min_el)\n",
    "            return(min_el)\n",
    "        elif a%2==0:\n",
    "            lst.append(a)\n",
    "            a=a//2\n",
    "        else:\n",
    "            lst.append(a)\n",
    "            a=(k*a+1)//2\n",
    "        ctr+=1\n",
    "\n",
    "global glob_lst\n",
    "global main_counter\n",
    "\n",
    "main_counter=100\n",
    "start=1\n",
    "end=5\n",
    "iterations=1000\n",
    "\n",
    "df = pd.DataFrame(columns = ['k', 'sequence'])\n",
    "\n",
    "for k in range(start,end+1,2):\n",
    "    glob_lst=[]\n",
    "    for a in range(1,iterations+1,2):\n",
    "        coll_out=coll_conj(a,k)\n",
    "    df.loc[k] = [k, glob_lst]\n",
    "    \n",
    "df.head(10)"
   ]
  },
  {
   "cell_type": "code",
   "execution_count": null,
   "metadata": {},
   "outputs": [],
   "source": []
  }
 ]
}