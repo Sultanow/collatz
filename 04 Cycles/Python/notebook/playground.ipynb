{
 "nbformat": 4,
 "nbformat_minor": 0,
 "metadata": {
  "colab": {
   "name": "graphwizz-tree.ipynb",
   "provenance": [],
   "collapsed_sections": [],
   "toc_visible": true
  },
  "kernelspec": {
   "name": "python3",
   "display_name": "Python 3.8.3 64-bit (conda)",
   "metadata": {
    "interpreter": {
     "hash": "524e93b8e0226315aee682eacc6843c81ddb16bd5c2ad8dc8495f33ccc2f5477"
    }
   }
  }
 },
 "cells": [
  {
   "cell_type": "code",
   "execution_count": 5,
   "metadata": {},
   "outputs": [],
   "source": [
    "#all imports\n",
    "import numpy as np\n",
    "import pandas as pd\n",
    "import matplotlib.pyplot as plt"
   ]
  },
  {
   "source": [
    "Code from Anant Gupta to calculate kx+1 series"
   ],
   "cell_type": "markdown",
   "metadata": {}
  },
  {
   "cell_type": "code",
   "execution_count": 6,
   "metadata": {},
   "outputs": [
    {
     "output_type": "execute_result",
     "data": {
      "text/plain": [
       "   k     sequence\n",
       "1  1          [1]\n",
       "3  3          [1]\n",
       "5  5  [1, 13, 17]"
      ],
      "text/html": "<div>\n<style scoped>\n    .dataframe tbody tr th:only-of-type {\n        vertical-align: middle;\n    }\n\n    .dataframe tbody tr th {\n        vertical-align: top;\n    }\n\n    .dataframe thead th {\n        text-align: right;\n    }\n</style>\n<table border=\"1\" class=\"dataframe\">\n  <thead>\n    <tr style=\"text-align: right;\">\n      <th></th>\n      <th>k</th>\n      <th>sequence</th>\n    </tr>\n  </thead>\n  <tbody>\n    <tr>\n      <th>1</th>\n      <td>1</td>\n      <td>[1]</td>\n    </tr>\n    <tr>\n      <th>3</th>\n      <td>3</td>\n      <td>[1]</td>\n    </tr>\n    <tr>\n      <th>5</th>\n      <td>5</td>\n      <td>[1, 13, 17]</td>\n    </tr>\n  </tbody>\n</table>\n</div>"
     },
     "metadata": {},
     "execution_count": 6
    }
   ],
   "source": [
    "def coll_conj(a,k):\n",
    "    lst=[]\n",
    "    ctr=0\n",
    "    while ctr<main_counter+1:\n",
    "        if a in glob_lst:\n",
    "            return(a)\n",
    "        if a in lst:\n",
    "            b=lst.index(a)\n",
    "            min_el=min(lst[b:])\n",
    "            glob_lst.append(min_el)\n",
    "            return(min_el)\n",
    "        elif a%2==0:\n",
    "            lst.append(a)\n",
    "            a=a//2\n",
    "        else:\n",
    "            lst.append(a)\n",
    "            a=(k*a+1)//2\n",
    "        ctr+=1\n",
    "\n",
    "global glob_lst\n",
    "global main_counter\n",
    "\n",
    "main_counter=100\n",
    "start=1\n",
    "end=5\n",
    "iterations=1000\n",
    "\n",
    "df = pd.DataFrame(columns = ['k', 'sequence'])\n",
    "\n",
    "for k in range(start,end+1,2):\n",
    "    glob_lst=[]\n",
    "    for a in range(1,iterations+1,2):\n",
    "        coll_out=coll_conj(a,k)\n",
    "    df.loc[k] = [k, glob_lst]\n",
    "    \n",
    "df.head(10)"
   ]
  },
  {
   "cell_type": "code",
   "execution_count": 7,
   "metadata": {},
   "outputs": [
    {
     "output_type": "stream",
     "name": "stdout",
     "text": [
      "5x+1 is the first expression with the first cycle with these up and downs and 1 is the first element of the cycle\n"
     ]
    }
   ],
   "source": [
    "import random as r\n",
    "\n",
    "def prime(n):\n",
    "        n=int(n)+2\n",
    "        k=list(range(3,n+1,2))\n",
    "        if n%2==0:\n",
    "            len_k=(n-4)/2\n",
    "        else:\n",
    "            len_k=(n-3)/2\n",
    "        i=0\n",
    "        try:\n",
    "                while True:\n",
    "                    if k[i]==0:\n",
    "                        pass\n",
    "                    else:\n",
    "                        j=3\n",
    "                        while True:\n",
    "                            a=k[i]*j\n",
    "                            try:\n",
    "                                k[(a-3)//2]=0\n",
    "                            except:\n",
    "                                break\n",
    "                            j+=2\n",
    "                    i+=1\n",
    "                    if i==len_k:\n",
    "                        break\n",
    "                prime_lst=[2]\n",
    "                for i in k:\n",
    "                    if i==0:\n",
    "                        continue\n",
    "                    else:\n",
    "                        prime_lst+=[i]\n",
    "                return(prime_lst)\n",
    "        except:\n",
    "                return([2])\n",
    "def coprime(a,b):\n",
    "        low=min(a,b)\n",
    "        j=prime(low**(1/2))\n",
    "        for i in j:\n",
    "                if a%i==0 and b%i==0:\n",
    "                        return(False)\n",
    "        else:\n",
    "                return(True)\n",
    "\n",
    "def factor(a,j=[]):\n",
    "        if j==[]:\n",
    "                j=prime(a**(1/2))\n",
    "        fact_lst=[]\n",
    "        for i in j:\n",
    "                if a%i==0:\n",
    "                        fact_lst.append(i)\n",
    "                        new=a//i\n",
    "                        fact_lst=fact_lst+factor(new,j)\n",
    "                        break\n",
    "        if fact_lst==[]:\n",
    "                fact_lst=[a]\n",
    "        return(fact_lst)\n",
    "\n",
    "def coll_num(up,dn,k):\n",
    "    if len(up)!=len(dn):\n",
    "        raise Exception ('U and D must have same length')\n",
    "    tot_sum=0\n",
    "    pow_2=1\n",
    "    pow_k=k**(sum(up))\n",
    "    for i in range(len(up)):\n",
    "        pow_k//=k**(up[i])\n",
    "        iter_sum=pow_2*pow_k*(k**up[i]-2**up[i])\n",
    "        pow_2*=2**(up[i]+dn[i])\n",
    "        tot_sum+=iter_sum\n",
    "    return(tot_sum)\n",
    "def fact_coll(up,dn,k):\n",
    "    c=coll_num(up,dn,k)\n",
    "    c2=2**sum(up+dn)-k**sum(up)\n",
    "    c2=c2*(k-2)\n",
    "    if c2<0:\n",
    "        raise Exception('No Cycle Exists')\n",
    "    return(c,factor(c),c2,factor(c2))\n",
    "def first_cycle(up,dn,k):\n",
    "    c=fact_coll(up,dn,k)\n",
    "    lst=[]\n",
    "    prod=1\n",
    "    for i in c[3]:\n",
    "        if i not in c[1]:\n",
    "            lst+=[i]\n",
    "            prod*=i\n",
    "    t0=c[0]*prod//c[2]\n",
    "    return (prod,lst,t0)\n",
    "\n",
    "def ran_cycle(k):\n",
    "    rand=r.randrange(1,15)\n",
    "    u=[]\n",
    "    d=[]\n",
    "    for i in range(rand):\n",
    "        u+=[r.randrange(1,4)]\n",
    "        d+=[r.randrange(1,4)]\n",
    "    sum_u=sum(u)\n",
    "    sum_d=sum(d)\n",
    "    if 2**(sum_u+sum_d)-k**sum_u <0:\n",
    "        return(ran_cycle())\n",
    "    c=first_cycle(u,d)\n",
    "    return(rand,u,d,c[2],c[0])\n",
    "def first_cycle_output(up,dn,k):\n",
    "    a=first_cycle(up,dn,k)\n",
    "    print(k,'x+',a[0],' is the first expression with the first cycle with these up and downs and '\n",
    "          ,a[2],' is the first element of the cycle',sep='')\n",
    "\n",
    "\n",
    "first_cycle_output([2],[3],5)"
   ]
  },
  {
   "cell_type": "code",
   "execution_count": null,
   "metadata": {},
   "outputs": [],
   "source": []
  }
 ]
}