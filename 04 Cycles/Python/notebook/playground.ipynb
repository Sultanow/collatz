{
 "nbformat": 4,
 "nbformat_minor": 0,
 "metadata": {
  "colab": {
   "name": "graphwizz-tree.ipynb",
   "provenance": [],
   "collapsed_sections": [],
   "toc_visible": true
  },
  "kernelspec": {
   "name": "python3",
   "display_name": "Python 3.8.3 64-bit ('Development': virtualenv)",
   "metadata": {
    "interpreter": {
     "hash": "524e93b8e0226315aee682eacc6843c81ddb16bd5c2ad8dc8495f33ccc2f5477"
    }
   }
  }
 },
 "cells": [
  {
   "cell_type": "code",
   "execution_count": 4,
   "metadata": {},
   "outputs": [],
   "source": [
    "#all imports\n",
    "import numpy as np\n",
    "import pandas as pd\n",
    "import matplotlib.pyplot as plt"
   ]
  },
  {
   "source": [
    "Code from Anant Gupta to calculate kx+1 series"
   ],
   "cell_type": "markdown",
   "metadata": {}
  },
  {
   "cell_type": "code",
   "execution_count": 5,
   "metadata": {},
   "outputs": [
    {
     "output_type": "execute_result",
     "data": {
      "text/plain": [
       "   k     sequence\n",
       "1  1          [1]\n",
       "3  3          [1]\n",
       "5  5  [1, 13, 17]"
      ],
      "text/html": "<div>\n<style scoped>\n    .dataframe tbody tr th:only-of-type {\n        vertical-align: middle;\n    }\n\n    .dataframe tbody tr th {\n        vertical-align: top;\n    }\n\n    .dataframe thead th {\n        text-align: right;\n    }\n</style>\n<table border=\"1\" class=\"dataframe\">\n  <thead>\n    <tr style=\"text-align: right;\">\n      <th></th>\n      <th>k</th>\n      <th>sequence</th>\n    </tr>\n  </thead>\n  <tbody>\n    <tr>\n      <th>1</th>\n      <td>1</td>\n      <td>[1]</td>\n    </tr>\n    <tr>\n      <th>3</th>\n      <td>3</td>\n      <td>[1]</td>\n    </tr>\n    <tr>\n      <th>5</th>\n      <td>5</td>\n      <td>[1, 13, 17]</td>\n    </tr>\n  </tbody>\n</table>\n</div>"
     },
     "metadata": {},
     "execution_count": 5
    }
   ],
   "source": [
    "def coll_conj(a,k):\n",
    "    lst=[]\n",
    "    ctr=0\n",
    "    while ctr<main_counter+1:\n",
    "        if a in glob_lst:\n",
    "            return(a)\n",
    "        if a in lst:\n",
    "            b=lst.index(a)\n",
    "            min_el=min(lst[b:])\n",
    "            glob_lst.append(min_el)\n",
    "            return(min_el)\n",
    "        elif a%2==0:\n",
    "            lst.append(a)\n",
    "            a=a//2\n",
    "        else:\n",
    "            lst.append(a)\n",
    "            a=(k*a+1)//2\n",
    "        ctr+=1\n",
    "\n",
    "global glob_lst\n",
    "global main_counter\n",
    "\n",
    "main_counter=100\n",
    "start=1\n",
    "end=5\n",
    "iterations=1000\n",
    "\n",
    "df = pd.DataFrame(columns = ['k', 'sequence'])\n",
    "\n",
    "for k in range(start,end+1,2):\n",
    "    glob_lst=[]\n",
    "    for a in range(1,iterations+1,2):\n",
    "        coll_out=coll_conj(a,k)\n",
    "    df.loc[k] = [k, glob_lst]\n",
    "    \n",
    "df.head(10)"
   ]
  },
  {
   "source": [
    "Adapted from Darrel Cox (test14o.c)\n",
    "\n",
    "COMPUTE THE MINIMUM AND MAXIMUM ODD ELEMENTS IN A CYCLE (M(l,n) and N(l,n))\n",
    "07/21/10 (dkc)\n",
    "\n",
    "This C program computes the minimum and maximum odd elements in a cycle.\n",
    "\"l\" is the number of elements in a cycle (where the element following the\n",
    "odd element i is (3i+c)/2) and \"n\" is the number of odd elements in the\n",
    "cycle."
   ],
   "cell_type": "markdown",
   "metadata": {}
  },
  {
   "cell_type": "code",
   "metadata": {
    "id": "a42M43IPu1cD"
   },
   "source": [
    "#number of odds and evens\n",
    "l=11\n",
    "#number of odds\n",
    "n=7\n",
    "#number of words (hard-coded to 6)\n",
    "m=6\n",
    "#check if value divides 2^l-3^n\n",
    "divisor=139\n",
    "\n",
    "#compute rotated parity vector using ceiling function\n",
    "temp=0\n",
    "a=0\n",
    "b=0\n",
    "sv=[0 for i in range(158)]\n",
    "for offset in range(l):\n",
    "    for j in range(1, l + 1):\n",
    "         a=j*n\n",
    "         if a == ((a/l) * l):\n",
    "            a = a/l\n",
    "         else:\n",
    "            a = (a/l)+1\n",
    "\n",
    "         b = (j-1) * n\n",
    "         if b == ((b/l) * l):\n",
    "            b = b/l\n",
    "         else:\n",
    "            b = (b/l)+1\n",
    "\n",
    "         temp = j + offset\n",
    "         if temp > l:\n",
    "            temp = temp-l\n",
    "\n",
    "         sv[temp - 1] = a - b\n",
    "\n",
    "         if (offset == 0):\n",
    "            print(sv[temp-1])\n",
    "\t \n",
    "    if (offset==0):\n",
    "\t    print(\"\\n\")\n",
    "\n",
    "    if (sv[0]==0):\n",
    "\t    continue\n",
    "\n",
    "#compute odd element"
   ],
   "execution_count": 6,
   "outputs": [
    {
     "output_type": "stream",
     "name": "stdout",
     "text": [
      "0.6363636363636364\n0.6363636363636364\n0.6363636363636365\n0.6363636363636362\n0.6363636363636362\n0.6363636363636367\n1.6363636363636358\n-0.3636363636363633\n0.6363636363636367\n0.6363636363636358\n0.6363636363636367\n\n\n"
     ]
    }
   ]
  }
 ]
}