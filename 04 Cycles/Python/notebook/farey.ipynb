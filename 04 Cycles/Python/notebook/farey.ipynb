{
 "nbformat": 4,
 "nbformat_minor": 0,
 "metadata": {
  "colab": {
   "name": "graphwizz-tree.ipynb",
   "provenance": [],
   "collapsed_sections": [],
   "toc_visible": true
  },
  "kernelspec": {
   "name": "python383jvsc74a57bd0524e93b8e0226315aee682eacc6843c81ddb16bd5c2ad8dc8495f33ccc2f5477",
   "display_name": "Python 3.8.3 64-bit (conda)"
  },
  "metadata": {
   "interpreter": {
    "hash": "524e93b8e0226315aee682eacc6843c81ddb16bd5c2ad8dc8495f33ccc2f5477"
   }
  }
 },
 "cells": [
  {
   "cell_type": "code",
   "execution_count": 1,
   "metadata": {},
   "outputs": [],
   "source": [
    "#all imports\n",
    "import numpy as np\n",
    "import pandas as pd\n",
    "import matplotlib.pyplot as plt\n",
    "from sympy import sieve"
   ]
  },
  {
   "cell_type": "code",
   "execution_count": 21,
   "metadata": {},
   "outputs": [
    {
     "output_type": "execute_result",
     "data": {
      "text/plain": [
       "     n    t\n",
       "0    8    5\n",
       "1   12   12\n",
       "2   16   22\n",
       "3   20   35\n",
       "4   24   51\n",
       "5   28   70\n",
       "6   32   92\n",
       "7   36  117\n",
       "8   40  145\n",
       "9   44  176\n",
       "10  48  210\n",
       "11  52  247\n",
       "12  56  287\n",
       "13  60  330\n",
       "14  64  376\n",
       "15  68  425\n",
       "16  72  477\n",
       "17  76  532\n",
       "18  80  590\n",
       "19  84  651"
      ],
      "text/html": "<div>\n<style scoped>\n    .dataframe tbody tr th:only-of-type {\n        vertical-align: middle;\n    }\n\n    .dataframe tbody tr th {\n        vertical-align: top;\n    }\n\n    .dataframe thead th {\n        text-align: right;\n    }\n</style>\n<table border=\"1\" class=\"dataframe\">\n  <thead>\n    <tr style=\"text-align: right;\">\n      <th></th>\n      <th>n</th>\n      <th>t</th>\n    </tr>\n  </thead>\n  <tbody>\n    <tr>\n      <th>0</th>\n      <td>8</td>\n      <td>5</td>\n    </tr>\n    <tr>\n      <th>1</th>\n      <td>12</td>\n      <td>12</td>\n    </tr>\n    <tr>\n      <th>2</th>\n      <td>16</td>\n      <td>22</td>\n    </tr>\n    <tr>\n      <th>3</th>\n      <td>20</td>\n      <td>35</td>\n    </tr>\n    <tr>\n      <th>4</th>\n      <td>24</td>\n      <td>51</td>\n    </tr>\n    <tr>\n      <th>5</th>\n      <td>28</td>\n      <td>70</td>\n    </tr>\n    <tr>\n      <th>6</th>\n      <td>32</td>\n      <td>92</td>\n    </tr>\n    <tr>\n      <th>7</th>\n      <td>36</td>\n      <td>117</td>\n    </tr>\n    <tr>\n      <th>8</th>\n      <td>40</td>\n      <td>145</td>\n    </tr>\n    <tr>\n      <th>9</th>\n      <td>44</td>\n      <td>176</td>\n    </tr>\n    <tr>\n      <th>10</th>\n      <td>48</td>\n      <td>210</td>\n    </tr>\n    <tr>\n      <th>11</th>\n      <td>52</td>\n      <td>247</td>\n    </tr>\n    <tr>\n      <th>12</th>\n      <td>56</td>\n      <td>287</td>\n    </tr>\n    <tr>\n      <th>13</th>\n      <td>60</td>\n      <td>330</td>\n    </tr>\n    <tr>\n      <th>14</th>\n      <td>64</td>\n      <td>376</td>\n    </tr>\n    <tr>\n      <th>15</th>\n      <td>68</td>\n      <td>425</td>\n    </tr>\n    <tr>\n      <th>16</th>\n      <td>72</td>\n      <td>477</td>\n    </tr>\n    <tr>\n      <th>17</th>\n      <td>76</td>\n      <td>532</td>\n    </tr>\n    <tr>\n      <th>18</th>\n      <td>80</td>\n      <td>590</td>\n    </tr>\n    <tr>\n      <th>19</th>\n      <td>84</td>\n      <td>651</td>\n    </tr>\n  </tbody>\n</table>\n</div>"
     },
     "metadata": {},
     "execution_count": 21
    }
   ],
   "source": [
    "def mobius(n: int):\n",
    "    return list(sieve.mobiusrange(n, n+1))[0]\n",
    "\n",
    "#n must be divisible by 4\n",
    "def search_t(d_max: int, n: int):\n",
    "    t=0\n",
    "    for d in range(1, d_max+1):\n",
    "        mu = mobius(d)\n",
    "        j_sum = 0\n",
    "        limit = 3*n//(4*d)\n",
    "        for j in range(1, limit+1):\n",
    "            j_sum += min(n//(4*d), j//3)\n",
    "        t += mu*j_sum\n",
    "    return t\n",
    "\n",
    "#n must be divisible by 4\n",
    "def search_t2(d_max: int, n: int):\n",
    "    t=0\n",
    "    m=n//4\n",
    "    for d in range(1, d_max+1):\n",
    "        mu = mobius(d)\n",
    "        j_sum = 0\n",
    "        limit = (n-m)//d\n",
    "        for j in range(1, limit+1):\n",
    "            j_sum += int(min(m/d, j/3))\n",
    "        t += mu*j_sum\n",
    "    return t\n",
    "\n",
    "arr = []\n",
    "for i in range(2, 22):\n",
    "    arr.append([i*4, search_t2(1, i*4)])\n",
    "\n",
    "df = pd.DataFrame(arr, columns=['n', 't'])\n",
    "df.head(20)"
   ]
  },
  {
   "cell_type": "code",
   "execution_count": null,
   "metadata": {},
   "outputs": [],
   "source": []
  }
 ]
}