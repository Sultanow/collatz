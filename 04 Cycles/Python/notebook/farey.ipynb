{
 "nbformat": 4,
 "nbformat_minor": 0,
 "metadata": {
  "colab": {
   "name": "graphwizz-tree.ipynb",
   "provenance": [],
   "collapsed_sections": [],
   "toc_visible": true
  },
  "kernelspec": {
   "name": "python383jvsc74a57bd0524e93b8e0226315aee682eacc6843c81ddb16bd5c2ad8dc8495f33ccc2f5477",
   "display_name": "Python 3.8.3 64-bit (conda)"
  },
  "metadata": {
   "interpreter": {
    "hash": "524e93b8e0226315aee682eacc6843c81ddb16bd5c2ad8dc8495f33ccc2f5477"
   }
  }
 },
 "cells": [
  {
   "cell_type": "code",
   "execution_count": 15,
   "metadata": {},
   "outputs": [],
   "source": [
    "#all imports\n",
    "import numpy as np\n",
    "import pandas as pd\n",
    "import matplotlib.pyplot as plt\n",
    "from sympy import sieve"
   ]
  },
  {
   "cell_type": "code",
   "execution_count": 16,
   "metadata": {},
   "outputs": [
    {
     "output_type": "execute_result",
     "data": {
      "text/plain": [
       "     n    t\n",
       "0    8    4\n",
       "1   12    9\n",
       "2   16   15\n",
       "3   20   24\n",
       "4   24   34\n",
       "5   28   46\n",
       "6   32   60\n",
       "7   36   77\n",
       "8   40   92\n",
       "9   44  114\n",
       "10  48  132\n",
       "11  52  158\n",
       "12  56  181\n",
       "13  60  209\n",
       "14  64  237\n",
       "15  68  268\n",
       "16  72  299\n",
       "17  76  333\n",
       "18  80  368\n",
       "19  84  410"
      ],
      "text/html": "<div>\n<style scoped>\n    .dataframe tbody tr th:only-of-type {\n        vertical-align: middle;\n    }\n\n    .dataframe tbody tr th {\n        vertical-align: top;\n    }\n\n    .dataframe thead th {\n        text-align: right;\n    }\n</style>\n<table border=\"1\" class=\"dataframe\">\n  <thead>\n    <tr style=\"text-align: right;\">\n      <th></th>\n      <th>n</th>\n      <th>t</th>\n    </tr>\n  </thead>\n  <tbody>\n    <tr>\n      <th>0</th>\n      <td>8</td>\n      <td>4</td>\n    </tr>\n    <tr>\n      <th>1</th>\n      <td>12</td>\n      <td>9</td>\n    </tr>\n    <tr>\n      <th>2</th>\n      <td>16</td>\n      <td>15</td>\n    </tr>\n    <tr>\n      <th>3</th>\n      <td>20</td>\n      <td>24</td>\n    </tr>\n    <tr>\n      <th>4</th>\n      <td>24</td>\n      <td>34</td>\n    </tr>\n    <tr>\n      <th>5</th>\n      <td>28</td>\n      <td>46</td>\n    </tr>\n    <tr>\n      <th>6</th>\n      <td>32</td>\n      <td>60</td>\n    </tr>\n    <tr>\n      <th>7</th>\n      <td>36</td>\n      <td>77</td>\n    </tr>\n    <tr>\n      <th>8</th>\n      <td>40</td>\n      <td>92</td>\n    </tr>\n    <tr>\n      <th>9</th>\n      <td>44</td>\n      <td>114</td>\n    </tr>\n    <tr>\n      <th>10</th>\n      <td>48</td>\n      <td>132</td>\n    </tr>\n    <tr>\n      <th>11</th>\n      <td>52</td>\n      <td>158</td>\n    </tr>\n    <tr>\n      <th>12</th>\n      <td>56</td>\n      <td>181</td>\n    </tr>\n    <tr>\n      <th>13</th>\n      <td>60</td>\n      <td>209</td>\n    </tr>\n    <tr>\n      <th>14</th>\n      <td>64</td>\n      <td>237</td>\n    </tr>\n    <tr>\n      <th>15</th>\n      <td>68</td>\n      <td>268</td>\n    </tr>\n    <tr>\n      <th>16</th>\n      <td>72</td>\n      <td>299</td>\n    </tr>\n    <tr>\n      <th>17</th>\n      <td>76</td>\n      <td>333</td>\n    </tr>\n    <tr>\n      <th>18</th>\n      <td>80</td>\n      <td>368</td>\n    </tr>\n    <tr>\n      <th>19</th>\n      <td>84</td>\n      <td>410</td>\n    </tr>\n  </tbody>\n</table>\n</div>"
     },
     "metadata": {},
     "execution_count": 16
    }
   ],
   "source": [
    "def mobius(n: int):\n",
    "    return list(sieve.mobiusrange(n, n+1))[0]\n",
    "\n",
    "#n must be divisible by 4\n",
    "def search_t(d_max: int, n: int):\n",
    "    t=0\n",
    "    for d in range(1, d_max):\n",
    "        mu = mobius(d)\n",
    "        sum = 0\n",
    "        limit = 3*n//(4*d)\n",
    "        for j in range(1, limit+1):\n",
    "            sum += min(n//(4*d), j//3)\n",
    "        t += mu*sum\n",
    "    return t\n",
    "\n",
    "arr = []\n",
    "for i in range(2, 22):\n",
    "    arr.append([i*4, search_t(100, i*4)])\n",
    "\n",
    "df = pd.DataFrame(arr, columns=['n', 't'])\n",
    "df.head(20)"
   ]
  },
  {
   "cell_type": "code",
   "execution_count": null,
   "metadata": {},
   "outputs": [],
   "source": []
  }
 ]
}