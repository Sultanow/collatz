{
 "nbformat": 4,
 "nbformat_minor": 0,
 "metadata": {
  "colab": {
   "name": "graphwizz-tree.ipynb",
   "provenance": [],
   "collapsed_sections": [],
   "toc_visible": true
  },
  "kernelspec": {
   "name": "python3",
   "display_name": "Python 3.8.3 64-bit (conda)",
   "metadata": {
    "interpreter": {
     "hash": "524e93b8e0226315aee682eacc6843c81ddb16bd5c2ad8dc8495f33ccc2f5477"
    }
   }
  }
 },
 "cells": [
  {
   "cell_type": "code",
   "metadata": {
    "id": "a42M43IPu1cD",
    "tags": []
   },
   "source": [
    "# \n",
    "# This program finds a rotation of the floor function parity vector that matches the ceiling function parity vector\n",
    "#\n",
    "import math\n",
    "l=12\n",
    "n=7\n",
    "sv=[0 for i in range(10000)]\n",
    "pv=[0 for i in range(10000)]\n",
    "r=[0 for i in range(10000)]\n",
    "ws=0\n",
    "wp=0\n",
    "vec_ceil=[]\n",
    "vec_floor=[]\n",
    "for j in range(1,l+1):\n",
    "   a=j*n\n",
    "   a=math.ceil(a/l)\n",
    "   b=(j-1)*n\n",
    "   b=math.ceil(b/l)\n",
    "   c=j*n\n",
    "   c=math.floor(c/l)\n",
    "   d=(j-1)*n\n",
    "   d=math.floor(d/l)\n",
    "   sv[j-1]=c-d\n",
    "   pv[j-1]=a-b\n",
    "   ws=ws*2+c-d\n",
    "   wp=wp*2+a-b\n",
    "   vec_floor.append(sv[j-1])\n",
    "   vec_ceil.append(pv[j-1])\n",
    "   print(sv[j-1],pv[j-1])\n",
    "print(\"floor ceiling\",ws,wp)\n",
    "print(vec_floor)\n",
    "print(vec_ceil)\n",
    "mask=(2<<(l-1))-1\n",
    "a=ws\n",
    "r[0]=a\n",
    "for j in range(1,l+1):\n",
    "   b=a>>(l-1)\n",
    "   if (b==0):\n",
    "      a=(a*2)&mask\n",
    "   else:\n",
    "      a=((a*2)&mask)+1\n",
    "   r[j]=a\n",
    "   print(r[j])\n",
    "for j in range(1,l+1):\n",
    "   if (r[j]==wp):\n",
    "      print(\"match\",j)\n",
    "      break\n",
    "\n",
    "\n",
    "\n",
    "       \n",
    "\n",
    "\n",
    "\n"
   ],
   "execution_count": 5,
   "outputs": [
    {
     "output_type": "stream",
     "name": "stdout",
     "text": [
      "0 1\n1 1\n0 0\n1 1\n0 0\n1 1\n1 1\n0 0\n1 1\n0 0\n1 1\n1 0\nfloor ceiling 1387 3434\n[0, 1, 0, 1, 0, 1, 1, 0, 1, 0, 1, 1]\n[1, 1, 0, 1, 0, 1, 1, 0, 1, 0, 1, 0]\n2774\n1453\n2906\n1717\n3434\n2773\n1451\n2902\n1709\n3418\n2741\n1387\nmatch 5\n"
     ]
    }
   ]
  },
  {
   "cell_type": "code",
   "execution_count": null,
   "metadata": {},
   "outputs": [],
   "source": []
  }
 ]
}