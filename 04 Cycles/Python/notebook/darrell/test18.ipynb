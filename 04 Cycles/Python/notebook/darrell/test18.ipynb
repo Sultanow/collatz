{
 "nbformat": 4,
 "nbformat_minor": 0,
 "metadata": {
  "colab": {
   "name": "graphwizz-tree.ipynb",
   "provenance": [],
   "collapsed_sections": [],
   "toc_visible": true
  },
  "kernelspec": {
   "name": "python3",
   "display_name": "Python 3.9.0 64-bit",
   "metadata": {
    "interpreter": {
     "hash": "17eeadac136e514c1cd200c4671c14559be4652da2455ac006b5fafd8663a890"
    }
   }
  }
 },
 "cells": [
  {
   "cell_type": "code",
   "metadata": {
    "id": "a42M43IPu1cD",
    "tags": []
   },
   "source": [
    "#\n",
    "# This program computes r(N-x)-(L-r)x=-1 mod L where L is prime\n",
    "# Darrell Cox, 12/22/20, Note: N-x and x are switched relative to C code\n",
    "#   \n",
    "import math\n",
    "l=79\n",
    "out=2\n",
    "f=open(\"junk.txt\",'w')\n",
    "sc=[0 for i in range(10000)]\n",
    "sf=[0 for i in range(10000)]\n",
    "r=[0 for i in range (10000)]\n",
    "mask=(2<<(l-1))-1\n",
    "for i in range(1,l):\n",
    "   n=i\n",
    "   sumc=0\n",
    "   sumf=0\n",
    "   pc=0\n",
    "   pf=0\n",
    "   for j in range(1,l+1):\n",
    "      a=j*n\n",
    "      a=math.ceil(a/l)\n",
    "      b=(j-1)*n\n",
    "      b=math.ceil(b/l)\n",
    "      sumc=sumc+a-b\n",
    "      sc[j-1]=sumc\n",
    "      pc=pc*2+a-b\n",
    "      a=j*n\n",
    "      a=math.floor(a/l)\n",
    "      b=(j-1)*n\n",
    "      b=math.floor(b/l)\n",
    "      sumf=sumf+a-b\n",
    "      sf[j-1]=sumf\n",
    "      pf=pf*2+a-b\n",
    "   pf=pf*2\n",
    " #  print(pc,pf)\n",
    "   a=pf\n",
    "   r[0]=a\n",
    "   for j in range(1,l):\n",
    "      b=a>>(l-1)\n",
    "      if (b==0):\n",
    "         a=(a*2)&(mask)\n",
    "      else:\n",
    "         a=((a*2)&mask)+1\n",
    "      r[j]=a\n",
    " # print(r[0],r[1],r[2],r[3],r[4],r[5],r[6])\n",
    "   rot=0\n",
    "   for j in range(1,l):\n",
    "      if (r[j-1]==pc):\n",
    "         rot=j\n",
    " #       print(\"rotation=\",rot)\n",
    "         break\n",
    "   for j in range(1,rot+1):\n",
    "      temp=sf[0]\n",
    "      for k in range(1,l):\n",
    "         sf[k-1]=sf[k]\n",
    "      sf[l-1]=temp\n",
    "   if (out==0):\n",
    "      for j in range(1,l+1):\n",
    "         print(sf[j-1],sc[j-1],sf[j-1]-sc[j-1])\n",
    "      print(\"\\n\")\n",
    "   else:\n",
    "      if (out==1):\n",
    "         print(i,\" \",sf[0],sc[0],sf[0]-sc[0],\" \",sf[l-1],sc[l-1],sf[l-1]-sc[l-1],\" \",rot)\n",
    "      else:\n",
    "         print(i,\" \",sf[0]-sc[0],sc[l-1]-sf[l-1],\" \",rot)\n",
    "         tempa=sf[0]-sc[0]\n",
    "         tempb=sc[l-1]-sf[l-1]\n",
    "         temp=rot*tempa-(l-rot)*tempb+1\n",
    "         if (temp!=math.floor(temp/l)*l):\n",
    "            print(\"error\")\n",
    "            break\n",
    "         f.write(\" %d\" % i)\n",
    "         f.write(\" %d\" % tempa)\n",
    "         f.write(\" %d\" % tempb)\n",
    "         f.write(\" %d \\n\"  % rot)\n",
    "f.close()\n",
    "\n",
    "\n",
    "\n",
    "\n"
   ],
   "execution_count": 12,
   "outputs": [
    {
     "output_type": "stream",
     "name": "stdout",
     "text": [
      "1   0 1   78\n2   0 2   39\n3   0 3   26\n4   2 2   59\n5   3 2   63\n6   0 6   13\n7   3 4   45\n8   6 2   69\n9   3 6   35\n10   8 2   71\n11   5 6   43\n12   6 6   46\n13   0 13   6\n14   10 4   62\n15   3 12   21\n16   14 2   74\n17   13 4   65\n18   12 6   57\n19   12 7   54\n20   18 2   75\n21   3 18   15\n22   16 6   61\n23   6 17   24\n24   6 18   23\n25   18 7   60\n26   0 26   3\n27   12 15   38\n28   10 18   31\n29   17 12   49\n30   18 12   50\n31   10 21   28\n32   14 18   37\n33   27 6   67\n34   30 4   72\n35   3 32   9\n36   30 6   68\n37   14 23   32\n38   12 26   27\n39   0 39   2\n40   38 2   77\n41   26 15   52\n42   24 18   47\n43   5 38   11\n44   38 6   70\n45   3 42   7\n46   6 40   12\n47   24 23   42\n48   30 18   51\n49   17 32   29\n50   18 32   30\n51   30 21   48\n52   26 26   41\n53   50 3   76\n54   12 42   19\n55   38 17   56\n56   38 18   55\n57   12 45   18\n58   46 12   64\n59   2 57   4\n60   18 42   25\n61   16 45   22\n62   10 52   14\n63   3 60   5\n64   46 18   58\n65   13 52   17\n66   60 6   73\n67   27 40   33\n68   30 38   36\n69   6 63   8\n70   38 32   44\n71   8 63   10\n72   30 42   34\n73   60 13   66\n74   14 60   16\n75   18 57   20\n76   50 26   53\n77   38 39   40\n78   0 78   1\n"
     ]
    }
   ]
  },
  {
   "cell_type": "code",
   "execution_count": null,
   "metadata": {},
   "outputs": [],
   "source": []
  }
 ]
}