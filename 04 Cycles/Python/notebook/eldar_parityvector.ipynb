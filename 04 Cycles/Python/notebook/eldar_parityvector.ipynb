{
 "nbformat": 4,
 "nbformat_minor": 0,
 "metadata": {
  "colab": {
   "name": "graphwizz-tree.ipynb",
   "provenance": [],
   "collapsed_sections": [],
   "toc_visible": true
  },
  "kernelspec": {
   "name": "python3",
   "display_name": "Python 3.8.3 64-bit (conda)",
   "metadata": {
    "interpreter": {
     "hash": "524e93b8e0226315aee682eacc6843c81ddb16bd5c2ad8dc8495f33ccc2f5477"
    }
   }
  }
 },
 "cells": [
  {
   "cell_type": "code",
   "execution_count": 23,
   "metadata": {},
   "outputs": [
    {
     "output_type": "stream",
     "name": "stdout",
     "text": [
      "M(8,3)=53\nN(8,3)=97.0\n"
     ]
    },
    {
     "output_type": "execute_result",
     "data": {
      "text/plain": [
       "  parity_vector                                     shifted orbits  \\\n",
       "0      11100000  [11100000, 11000001, 10000011, 00000111, 00001...   \n",
       "1      11010000  [11010000, 10100001, 01000011, 10000110, 00001...   \n",
       "2      11001000  [11001000, 10010001, 00100011, 01000110, 10001...   \n",
       "3      11000100  [11000100, 10001001, 00010011, 00100110, 01001...   \n",
       "4      11000010  [11000010, 10000101, 00001011, 00010110, 00101...   \n",
       "5      11000001  [11000001, 10000011, 00000111, 00001110, 00011...   \n",
       "6      10110000  [10110000, 01100001, 11000010, 10000101, 00001...   \n",
       "7      10101000  [10101000, 01010001, 10100010, 01000101, 10001...   \n",
       "8      10100100  [10100100, 01001001, 10010010, 00100101, 01001...   \n",
       "9      10100010  [10100010, 01000101, 10001010, 00010101, 00101...   \n",
       "\n",
       "                                  z vals min_z max_z  \n",
       "0  [19, 143, 329, 608, 304, 152, 76, 38]    19   608  \n",
       "1  [23, 149, 338, 169, 368, 184, 92, 46]    23   368  \n",
       "2  [31, 161, 356, 178, 89, 248, 124, 62]    31   356  \n",
       "3   [47, 185, 392, 196, 98, 49, 188, 94]    47   392  \n",
       "4  [79, 233, 464, 232, 116, 58, 29, 158]    29   464  \n",
       "5  [143, 329, 608, 304, 152, 76, 38, 19]    19   608  \n",
       "6  [29, 158, 79, 233, 464, 232, 116, 58]    29   464  \n",
       "7  [37, 170, 85, 242, 121, 296, 148, 74]    37   296  \n",
       "8  [53, 194, 97, 260, 130, 65, 212, 106]    53   260  \n",
       "9  [85, 242, 121, 296, 148, 74, 37, 170]    37   296  "
      ],
      "text/html": "<div>\n<style scoped>\n    .dataframe tbody tr th:only-of-type {\n        vertical-align: middle;\n    }\n\n    .dataframe tbody tr th {\n        vertical-align: top;\n    }\n\n    .dataframe thead th {\n        text-align: right;\n    }\n</style>\n<table border=\"1\" class=\"dataframe\">\n  <thead>\n    <tr style=\"text-align: right;\">\n      <th></th>\n      <th>parity_vector</th>\n      <th>shifted orbits</th>\n      <th>z vals</th>\n      <th>min_z</th>\n      <th>max_z</th>\n    </tr>\n  </thead>\n  <tbody>\n    <tr>\n      <th>0</th>\n      <td>11100000</td>\n      <td>[11100000, 11000001, 10000011, 00000111, 00001...</td>\n      <td>[19, 143, 329, 608, 304, 152, 76, 38]</td>\n      <td>19</td>\n      <td>608</td>\n    </tr>\n    <tr>\n      <th>1</th>\n      <td>11010000</td>\n      <td>[11010000, 10100001, 01000011, 10000110, 00001...</td>\n      <td>[23, 149, 338, 169, 368, 184, 92, 46]</td>\n      <td>23</td>\n      <td>368</td>\n    </tr>\n    <tr>\n      <th>2</th>\n      <td>11001000</td>\n      <td>[11001000, 10010001, 00100011, 01000110, 10001...</td>\n      <td>[31, 161, 356, 178, 89, 248, 124, 62]</td>\n      <td>31</td>\n      <td>356</td>\n    </tr>\n    <tr>\n      <th>3</th>\n      <td>11000100</td>\n      <td>[11000100, 10001001, 00010011, 00100110, 01001...</td>\n      <td>[47, 185, 392, 196, 98, 49, 188, 94]</td>\n      <td>47</td>\n      <td>392</td>\n    </tr>\n    <tr>\n      <th>4</th>\n      <td>11000010</td>\n      <td>[11000010, 10000101, 00001011, 00010110, 00101...</td>\n      <td>[79, 233, 464, 232, 116, 58, 29, 158]</td>\n      <td>29</td>\n      <td>464</td>\n    </tr>\n    <tr>\n      <th>5</th>\n      <td>11000001</td>\n      <td>[11000001, 10000011, 00000111, 00001110, 00011...</td>\n      <td>[143, 329, 608, 304, 152, 76, 38, 19]</td>\n      <td>19</td>\n      <td>608</td>\n    </tr>\n    <tr>\n      <th>6</th>\n      <td>10110000</td>\n      <td>[10110000, 01100001, 11000010, 10000101, 00001...</td>\n      <td>[29, 158, 79, 233, 464, 232, 116, 58]</td>\n      <td>29</td>\n      <td>464</td>\n    </tr>\n    <tr>\n      <th>7</th>\n      <td>10101000</td>\n      <td>[10101000, 01010001, 10100010, 01000101, 10001...</td>\n      <td>[37, 170, 85, 242, 121, 296, 148, 74]</td>\n      <td>37</td>\n      <td>296</td>\n    </tr>\n    <tr>\n      <th>8</th>\n      <td>10100100</td>\n      <td>[10100100, 01001001, 10010010, 00100101, 01001...</td>\n      <td>[53, 194, 97, 260, 130, 65, 212, 106]</td>\n      <td>53</td>\n      <td>260</td>\n    </tr>\n    <tr>\n      <th>9</th>\n      <td>10100010</td>\n      <td>[10100010, 01000101, 10001010, 00010101, 00101...</td>\n      <td>[85, 242, 121, 296, 148, 74, 37, 170]</td>\n      <td>37</td>\n      <td>296</td>\n    </tr>\n  </tbody>\n</table>\n</div>"
     },
     "metadata": {},
     "execution_count": 23
    }
   ],
   "source": [
    "import math\n",
    "import pandas as pd\n",
    "from collections import deque\n",
    "from itertools import combinations\n",
    "\n",
    "def binary_permutations(lst: []) -> [[]]:\n",
    "    result = []\n",
    "    for comb in combinations(range(len(lst)), lst.count(1)):\n",
    "        permutation = [0] * len(lst)\n",
    "        for i in comb:\n",
    "            permutation[i] = 1\n",
    "        result.append(permutation)\n",
    "    return result\n",
    "\n",
    "def calculate_z(parity_vector: []) -> int:\n",
    "    indices = []\n",
    "    for i, entry in enumerate(parity_vector, start=0):\n",
    "        if entry == 1:\n",
    "            indices.append(i)\n",
    "    \n",
    "    result = 0\n",
    "    U = len(indices)\n",
    "    for i, entry in enumerate(indices, start=0):\n",
    "        result = result + 3**(U-(i+1)) * 2**(entry)\n",
    "    return result\n",
    "\n",
    "def generate_df(n: int, U: int) -> pd.DataFrame:\n",
    "    df = pd.DataFrame(columns = ['parity_vector', 'shifted orbits', 'z vals', 'min_z', 'max_z'])\n",
    "    p_v = [0] * n\n",
    "    for i in range(U):\n",
    "        p_v[i] = 1\n",
    "    permutations = binary_permutations(p_v)\n",
    "    for i in range(len(permutations)):\n",
    "        vec = permutations[i]\n",
    "        phi_vals = []\n",
    "        shifted_vecs = []\n",
    "        shifted = vec.copy()\n",
    "\n",
    "        for j in range(len(shifted)):\n",
    "            shifted_vecs.append(''.join(map(str, shifted)))\n",
    "            phi_vals.append(calculate_z(shifted))\n",
    "            temp = deque(shifted)\n",
    "            temp.rotate(-1)\n",
    "            shifted = list(temp)\n",
    "        df.loc[i] = [''.join(map(str, vec)), shifted_vecs, phi_vals, min(phi_vals), max(phi_vals)]\n",
    "    return df\n",
    "\n",
    "def calculate_N(M:int, n:int, U:int) -> int:\n",
    "    r = math.gcd(n, U)\n",
    "    sum = 0\n",
    "    for i in range(r):\n",
    "        sum += 2**(i*n/r)*3**(U-1-i*n/r)\n",
    "    return 2*M - sum\n",
    "\n",
    "n=8\n",
    "U=3\n",
    "df = generate_df(n, U)\n",
    "M = df['min_z'].max()\n",
    "N = calculate_N(M, n, U)\n",
    "print(\"M({0},{1})={2}\".format(n, U, M))\n",
    "print(\"N({0},{1})={2}\".format(n, U, N))\n",
    "\n",
    "df.head(10)\n"
   ]
  }
 ]
}