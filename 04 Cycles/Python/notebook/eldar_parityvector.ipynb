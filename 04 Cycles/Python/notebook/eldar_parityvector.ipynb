{
 "nbformat": 4,
 "nbformat_minor": 0,
 "metadata": {
  "colab": {
   "name": "graphwizz-tree.ipynb",
   "provenance": [],
   "collapsed_sections": [],
   "toc_visible": true
  },
  "kernelspec": {
   "name": "python3",
   "display_name": "Python 3.8.3 64-bit (conda)",
   "metadata": {
    "interpreter": {
     "hash": "524e93b8e0226315aee682eacc6843c81ddb16bd5c2ad8dc8495f33ccc2f5477"
    }
   }
  }
 },
 "cells": [
  {
   "cell_type": "code",
   "execution_count": 17,
   "metadata": {},
   "outputs": [],
   "source": [
    "import math\n",
    "import pandas as pd\n",
    "import numpy as np\n",
    "from collections import deque\n",
    "from itertools import combinations\n",
    "\n",
    "def binary_permutations(lst: []) -> [[]]:\n",
    "    result = []\n",
    "    for comb in combinations(range(len(lst)), lst.count(1)):\n",
    "        permutation = [0] * len(lst)\n",
    "        for i in comb:\n",
    "            permutation[i] = 1\n",
    "        result.append(permutation)\n",
    "    return result\n",
    "\n",
    "def calculate_z(parity_vector: []) -> int:\n",
    "    indices = []\n",
    "    for i, entry in enumerate(parity_vector, start=0):\n",
    "        if entry == 1:\n",
    "            indices.append(i)\n",
    "    \n",
    "    result = 0\n",
    "    U = len(indices)\n",
    "    for i, entry in enumerate(indices, start=0):\n",
    "        result = result + 3**(U-(i+1)) * 2**(entry)\n",
    "    return result\n",
    "\n",
    "def generate_df(n: int, U: int) -> pd.DataFrame:\n",
    "    if n == 0 or U == 0 or n < U:\n",
    "        return None\n",
    "\n",
    "    df = pd.DataFrame(columns = ['parity_vector', 'shifted orbits', 'z vals', 'min_z'])\n",
    "    p_v = [0] * n\n",
    "    for i in range(U):\n",
    "        print(i)\n",
    "        print(U)\n",
    "        p_v[i] = 1\n",
    "    permutations = binary_permutations(p_v)\n",
    "    for i in range(len(permutations)):\n",
    "        vec = permutations[i]\n",
    "        z_vals = []\n",
    "        shifted_vecs = []\n",
    "        shifted = vec.copy()\n",
    "\n",
    "        for j in range(len(shifted)):\n",
    "            shifted_vecs.append(''.join(map(str, shifted)))\n",
    "            z_vals.append(calculate_z(shifted))\n",
    "            temp = deque(shifted)\n",
    "            temp.rotate(-1)\n",
    "            shifted = list(temp)\n",
    "        min_z_vals = min(z_vals) if len(z_vals) > 0 else 0\n",
    "        df.loc[i] = [''.join(map(str, vec)), shifted_vecs, z_vals, min_z_vals]\n",
    "    return df\n",
    "\n",
    "def calculate_N(M:int, n:int, U:int) -> int:\n",
    "    r = math.gcd(n, U)\n",
    "    sum = 0\n",
    "    for i in range(r):\n",
    "        sum += 2**(i*n/r)*3**(U-1-i*U/r)\n",
    "    return 2*M - int(sum)\n",
    "\n",
    "#n=14\n",
    "#U=8\n",
    "#df = generate_df(n, U)\n",
    "#M = df['min_z'].max()\n",
    "#N = calculate_N(M, n, U)\n",
    "#c = 2**n-3**U\n",
    "#print(\"M({0},{1})={2}\".format(n, U, M))\n",
    "#print(\"N({0},{1})={2}\".format(n, U, N))\n",
    "#print(\"c={0}\".format(c))\n",
    "#\n",
    "#df.head(4)\n"
   ]
  },
  {
   "cell_type": "code",
   "execution_count": 18,
   "metadata": {},
   "outputs": [
    {
     "output_type": "stream",
     "name": "stdout",
     "text": [
      "x : 0, y: 4\n0\n1\n0\n2\n1\n2\n"
     ]
    },
    {
     "output_type": "error",
     "ename": "IndexError",
     "evalue": "list assignment index out of range",
     "traceback": [
      "\u001b[1;31m---------------------------------------------------------------------------\u001b[0m",
      "\u001b[1;31mIndexError\u001b[0m                                Traceback (most recent call last)",
      "\u001b[1;32m<ipython-input-18-040c15401a0d>\u001b[0m in \u001b[0;36m<module>\u001b[1;34m\u001b[0m\n\u001b[0;32m      4\u001b[0m     \u001b[0mdata_n\u001b[0m \u001b[1;33m=\u001b[0m \u001b[0mnp\u001b[0m\u001b[1;33m.\u001b[0m\u001b[0mempty\u001b[0m\u001b[1;33m(\u001b[0m\u001b[1;33m(\u001b[0m\u001b[1;36m0\u001b[0m\u001b[1;33m,\u001b[0m \u001b[1;36m4\u001b[0m\u001b[1;33m)\u001b[0m\u001b[1;33m,\u001b[0m \u001b[0mint\u001b[0m\u001b[1;33m)\u001b[0m\u001b[1;33m\u001b[0m\u001b[1;33m\u001b[0m\u001b[0m\n\u001b[0;32m      5\u001b[0m     \u001b[1;32mfor\u001b[0m \u001b[0my\u001b[0m \u001b[1;32min\u001b[0m \u001b[0mrange\u001b[0m\u001b[1;33m(\u001b[0m\u001b[0mmax_n\u001b[0m\u001b[1;33m)\u001b[0m\u001b[1;33m:\u001b[0m\u001b[1;33m\u001b[0m\u001b[1;33m\u001b[0m\u001b[0m\n\u001b[1;32m----> 6\u001b[1;33m         \u001b[0mdf\u001b[0m \u001b[1;33m=\u001b[0m \u001b[0mgenerate_df\u001b[0m\u001b[1;33m(\u001b[0m\u001b[0mx\u001b[0m\u001b[1;33m,\u001b[0m \u001b[0my\u001b[0m\u001b[1;33m)\u001b[0m\u001b[1;33m\u001b[0m\u001b[1;33m\u001b[0m\u001b[0m\n\u001b[0m\u001b[0;32m      7\u001b[0m         \u001b[0mM\u001b[0m \u001b[1;33m=\u001b[0m \u001b[1;36m0\u001b[0m \u001b[1;32mif\u001b[0m \u001b[0mdf\u001b[0m \u001b[1;32mis\u001b[0m \u001b[1;32mNone\u001b[0m \u001b[1;32melse\u001b[0m \u001b[0mdf\u001b[0m\u001b[1;33m[\u001b[0m\u001b[1;34m'min_z'\u001b[0m\u001b[1;33m]\u001b[0m\u001b[1;33m.\u001b[0m\u001b[0mmax\u001b[0m\u001b[1;33m(\u001b[0m\u001b[1;33m)\u001b[0m\u001b[1;33m\u001b[0m\u001b[1;33m\u001b[0m\u001b[0m\n\u001b[0;32m      8\u001b[0m         \u001b[0mN\u001b[0m \u001b[1;33m=\u001b[0m \u001b[1;36m0\u001b[0m \u001b[1;32mif\u001b[0m \u001b[0mM\u001b[0m \u001b[1;33m==\u001b[0m \u001b[1;36m0\u001b[0m \u001b[1;32melse\u001b[0m \u001b[0mcalculate_N\u001b[0m\u001b[1;33m(\u001b[0m\u001b[0mM\u001b[0m\u001b[1;33m,\u001b[0m \u001b[0mx\u001b[0m\u001b[1;33m,\u001b[0m \u001b[0my\u001b[0m\u001b[1;33m)\u001b[0m\u001b[1;33m\u001b[0m\u001b[1;33m\u001b[0m\u001b[0m\n",
      "\u001b[1;32m<ipython-input-17-cf004bd4ad68>\u001b[0m in \u001b[0;36mgenerate_df\u001b[1;34m(n, U)\u001b[0m\n\u001b[0;32m     35\u001b[0m         \u001b[0mprint\u001b[0m\u001b[1;33m(\u001b[0m\u001b[0mi\u001b[0m\u001b[1;33m)\u001b[0m\u001b[1;33m\u001b[0m\u001b[1;33m\u001b[0m\u001b[0m\n\u001b[0;32m     36\u001b[0m         \u001b[0mprint\u001b[0m\u001b[1;33m(\u001b[0m\u001b[0mU\u001b[0m\u001b[1;33m)\u001b[0m\u001b[1;33m\u001b[0m\u001b[1;33m\u001b[0m\u001b[0m\n\u001b[1;32m---> 37\u001b[1;33m         \u001b[0mp_v\u001b[0m\u001b[1;33m[\u001b[0m\u001b[0mi\u001b[0m\u001b[1;33m]\u001b[0m \u001b[1;33m=\u001b[0m \u001b[1;36m1\u001b[0m\u001b[1;33m\u001b[0m\u001b[1;33m\u001b[0m\u001b[0m\n\u001b[0m\u001b[0;32m     38\u001b[0m     \u001b[0mpermutations\u001b[0m \u001b[1;33m=\u001b[0m \u001b[0mbinary_permutations\u001b[0m\u001b[1;33m(\u001b[0m\u001b[0mp_v\u001b[0m\u001b[1;33m)\u001b[0m\u001b[1;33m\u001b[0m\u001b[1;33m\u001b[0m\u001b[0m\n\u001b[0;32m     39\u001b[0m     \u001b[1;32mfor\u001b[0m \u001b[0mi\u001b[0m \u001b[1;32min\u001b[0m \u001b[0mrange\u001b[0m\u001b[1;33m(\u001b[0m\u001b[0mlen\u001b[0m\u001b[1;33m(\u001b[0m\u001b[0mpermutations\u001b[0m\u001b[1;33m)\u001b[0m\u001b[1;33m)\u001b[0m\u001b[1;33m:\u001b[0m\u001b[1;33m\u001b[0m\u001b[1;33m\u001b[0m\u001b[0m\n",
      "\u001b[1;31mIndexError\u001b[0m: list assignment index out of range"
     ]
    }
   ],
   "source": [
    "max_n=5\n",
    "data = np.empty((0, 4), int)\n",
    "for x in range(max_n):\n",
    "    data_n = np.empty((0, 4), int)\n",
    "    for y in range(max_n):\n",
    "        df = generate_df(x, y)\n",
    "        M = 0 if df is None else df['min_z'].max()\n",
    "        N = 0 if M == 0 else calculate_N(M, x, y)\n",
    "        data_n = np.append(data_n, np.array([[x, y, M, N]]), axis=0)\n",
    "    print(\"x : {0}, y: {1}\".format(x,y))\n",
    "    data=np.append(data, data_n, axis=0)\n",
    "\n",
    "columns = ['x', 'y', 'M', 'N']\n",
    "df = pd.DataFrame(data, columns=columns)\n",
    "df.to_csv('c:/temp/collatz_M_N.csv', index=False)"
   ]
  },
  {
   "cell_type": "code",
   "execution_count": null,
   "metadata": {},
   "outputs": [],
   "source": []
  }
 ]
}