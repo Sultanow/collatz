{
 "nbformat": 4,
 "nbformat_minor": 0,
 "metadata": {
  "colab": {
   "name": "graphwizz-tree.ipynb",
   "provenance": [],
   "collapsed_sections": [],
   "toc_visible": true
  },
  "kernelspec": {
   "name": "python3",
   "display_name": "Python 3.8.3 64-bit (conda)",
   "metadata": {
    "interpreter": {
     "hash": "524e93b8e0226315aee682eacc6843c81ddb16bd5c2ad8dc8495f33ccc2f5477"
    }
   }
  }
 },
 "cells": [
  {
   "cell_type": "code",
   "execution_count": 11,
   "metadata": {},
   "outputs": [
    {
     "output_type": "stream",
     "name": "stdout",
     "text": [
      "M(14,8)=21109\nN(14,8)=36575\nc=9823\n"
     ]
    },
    {
     "output_type": "execute_result",
     "data": {
      "text/plain": [
       "    parity_vector                                     shifted orbits  \\\n",
       "0  11111111000000  [11111111000000, 11111110000001, 1111110000001...   \n",
       "1  11111110100000  [11111110100000, 11111101000001, 1111101000001...   \n",
       "2  11111110010000  [11111110010000, 11111100100001, 1111100100001...   \n",
       "3  11111110001000  [11111110001000, 11111100010001, 1111100010001...   \n",
       "4  11111110000100  [11111110000100, 11111100001001, 1111100001001...   \n",
       "5  11111110000010  [11111110000010, 11111100000101, 1111100000101...   \n",
       "6  11111110000001  [11111110000001, 11111100000011, 1111100000011...   \n",
       "7  11111101100000  [11111101100000, 11111011000001, 1111011000001...   \n",
       "8  11111101010000  [11111101010000, 11111010100001, 1111010100001...   \n",
       "9  11111101001000  [11111101001000, 11111010010001, 1111010010001...   \n",
       "\n",
       "                                              z vals  min_z  \n",
       "0  [6305, 14369, 26465, 44609, 71825, 112649, 173...   6305  \n",
       "1  [6433, 14561, 26753, 45041, 72473, 113621, 175...   6433  \n",
       "2  [6689, 14945, 27329, 45905, 73769, 115565, 178...   6689  \n",
       "3  [7201, 15713, 28481, 47633, 76361, 119453, 184...   7201  \n",
       "4  [8225, 17249, 30785, 51089, 81545, 127229, 195...   8225  \n",
       "5  [10273, 20321, 35393, 58001, 91913, 142781, 21...  10273  \n",
       "6  [14369, 26465, 44609, 71825, 112649, 173885, 2...   6305  \n",
       "7  [6625, 14849, 27185, 45689, 73445, 115079, 177...   6625  \n",
       "8  [6881, 15233, 27761, 46553, 74741, 117023, 180...   6881  \n",
       "9  [7393, 16001, 28913, 48281, 77333, 120911, 186...   7393  "
      ],
      "text/html": "<div>\n<style scoped>\n    .dataframe tbody tr th:only-of-type {\n        vertical-align: middle;\n    }\n\n    .dataframe tbody tr th {\n        vertical-align: top;\n    }\n\n    .dataframe thead th {\n        text-align: right;\n    }\n</style>\n<table border=\"1\" class=\"dataframe\">\n  <thead>\n    <tr style=\"text-align: right;\">\n      <th></th>\n      <th>parity_vector</th>\n      <th>shifted orbits</th>\n      <th>z vals</th>\n      <th>min_z</th>\n    </tr>\n  </thead>\n  <tbody>\n    <tr>\n      <th>0</th>\n      <td>11111111000000</td>\n      <td>[11111111000000, 11111110000001, 1111110000001...</td>\n      <td>[6305, 14369, 26465, 44609, 71825, 112649, 173...</td>\n      <td>6305</td>\n    </tr>\n    <tr>\n      <th>1</th>\n      <td>11111110100000</td>\n      <td>[11111110100000, 11111101000001, 1111101000001...</td>\n      <td>[6433, 14561, 26753, 45041, 72473, 113621, 175...</td>\n      <td>6433</td>\n    </tr>\n    <tr>\n      <th>2</th>\n      <td>11111110010000</td>\n      <td>[11111110010000, 11111100100001, 1111100100001...</td>\n      <td>[6689, 14945, 27329, 45905, 73769, 115565, 178...</td>\n      <td>6689</td>\n    </tr>\n    <tr>\n      <th>3</th>\n      <td>11111110001000</td>\n      <td>[11111110001000, 11111100010001, 1111100010001...</td>\n      <td>[7201, 15713, 28481, 47633, 76361, 119453, 184...</td>\n      <td>7201</td>\n    </tr>\n    <tr>\n      <th>4</th>\n      <td>11111110000100</td>\n      <td>[11111110000100, 11111100001001, 1111100001001...</td>\n      <td>[8225, 17249, 30785, 51089, 81545, 127229, 195...</td>\n      <td>8225</td>\n    </tr>\n    <tr>\n      <th>5</th>\n      <td>11111110000010</td>\n      <td>[11111110000010, 11111100000101, 1111100000101...</td>\n      <td>[10273, 20321, 35393, 58001, 91913, 142781, 21...</td>\n      <td>10273</td>\n    </tr>\n    <tr>\n      <th>6</th>\n      <td>11111110000001</td>\n      <td>[11111110000001, 11111100000011, 1111100000011...</td>\n      <td>[14369, 26465, 44609, 71825, 112649, 173885, 2...</td>\n      <td>6305</td>\n    </tr>\n    <tr>\n      <th>7</th>\n      <td>11111101100000</td>\n      <td>[11111101100000, 11111011000001, 1111011000001...</td>\n      <td>[6625, 14849, 27185, 45689, 73445, 115079, 177...</td>\n      <td>6625</td>\n    </tr>\n    <tr>\n      <th>8</th>\n      <td>11111101010000</td>\n      <td>[11111101010000, 11111010100001, 1111010100001...</td>\n      <td>[6881, 15233, 27761, 46553, 74741, 117023, 180...</td>\n      <td>6881</td>\n    </tr>\n    <tr>\n      <th>9</th>\n      <td>11111101001000</td>\n      <td>[11111101001000, 11111010010001, 1111010010001...</td>\n      <td>[7393, 16001, 28913, 48281, 77333, 120911, 186...</td>\n      <td>7393</td>\n    </tr>\n  </tbody>\n</table>\n</div>"
     },
     "metadata": {},
     "execution_count": 11
    }
   ],
   "source": [
    "import math\n",
    "import pandas as pd\n",
    "from collections import deque\n",
    "from itertools import combinations\n",
    "\n",
    "def binary_permutations(lst: []) -> [[]]:\n",
    "    result = []\n",
    "    for comb in combinations(range(len(lst)), lst.count(1)):\n",
    "        permutation = [0] * len(lst)\n",
    "        for i in comb:\n",
    "            permutation[i] = 1\n",
    "        result.append(permutation)\n",
    "    return result\n",
    "\n",
    "def calculate_z(parity_vector: []) -> int:\n",
    "    indices = []\n",
    "    for i, entry in enumerate(parity_vector, start=0):\n",
    "        if entry == 1:\n",
    "            indices.append(i)\n",
    "    \n",
    "    result = 0\n",
    "    U = len(indices)\n",
    "    for i, entry in enumerate(indices, start=0):\n",
    "        result = result + 3**(U-(i+1)) * 2**(entry)\n",
    "    return result\n",
    "\n",
    "def generate_df(n: int, U: int) -> pd.DataFrame:\n",
    "    df = pd.DataFrame(columns = ['parity_vector', 'shifted orbits', 'z vals', 'min_z'])\n",
    "    p_v = [0] * n\n",
    "    for i in range(U):\n",
    "        p_v[i] = 1\n",
    "    permutations = binary_permutations(p_v)\n",
    "    for i in range(len(permutations)):\n",
    "        vec = permutations[i]\n",
    "        z_vals = []\n",
    "        shifted_vecs = []\n",
    "        shifted = vec.copy()\n",
    "\n",
    "        for j in range(len(shifted)):\n",
    "            shifted_vecs.append(''.join(map(str, shifted)))\n",
    "            z_vals.append(calculate_z(shifted))\n",
    "            temp = deque(shifted)\n",
    "            temp.rotate(-1)\n",
    "            shifted = list(temp)\n",
    "        df.loc[i] = [''.join(map(str, vec)), shifted_vecs, z_vals, min(z_vals)]\n",
    "    return df\n",
    "\n",
    "def calculate_N(M:int, n:int, U:int) -> int:\n",
    "    r = math.gcd(n, U)\n",
    "    sum = 0\n",
    "    for i in range(r):\n",
    "        sum += 2**(i*n/r)*3**(U-1-i*U/r)\n",
    "    return 2*M - int(sum)\n",
    "\n",
    "n=14\n",
    "U=8\n",
    "df = generate_df(n, U)\n",
    "M = df['min_z'].max()\n",
    "N = calculate_N(M, n, U)\n",
    "c = 2**n-3**U\n",
    "print(\"M({0},{1})={2}\".format(n, U, M))\n",
    "print(\"N({0},{1})={2}\".format(n, U, N))\n",
    "print(\"c={0}\".format(c))\n",
    "\n",
    "df.head(10)\n"
   ]
  }
 ]
}