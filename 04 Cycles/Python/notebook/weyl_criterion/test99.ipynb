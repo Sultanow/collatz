{
 "nbformat": 4,
 "nbformat_minor": 0,
 "metadata": {
  "colab": {
   "name": "graphwizz-tree.ipynb",
   "provenance": [],
   "collapsed_sections": [],
   "toc_visible": true
  },
  "kernelspec": {
   "name": "python3",
   "display_name": "Python 3.9.0 64-bit",
   "metadata": {
    "interpreter": {
     "hash": "17eeadac136e514c1cd200c4671c14559be4652da2455ac006b5fafd8663a890"
    }
   }
  }
 },
 "cells": [
  {
   "cell_type": "code",
   "execution_count": 7,
   "metadata": {
    "tags": []
   },
   "outputs": [],
   "source": [
    "seq=[]\n",
    "f = open('zz.txt', 'r') \n",
    "lines = f.readlines()\n",
    "for line in lines:\n",
    "    seq.append(float(line.strip())) \n",
    "#print(seq)"
   ]
  },
  {
   "cell_type": "code",
   "metadata": {
    "id": "a42M43IPu1cD",
    "tags": []
   },
   "source": [
    "#\n",
    "# This program computes Weyl's criterion\n",
    "# Darrell Cox, 1/07/21\n",
    "#\n",
    "import math\n",
    "import cmath\n",
    "f=open(\"junk.txt\",'w')\n",
    "count=9954    # 84 for az99, 984 for cz99, 4974 for ez99, 6972 for gz\n",
    "            # 96 for bz99, 996 for dz99, 4997 for fz99, 6996 for hz\n",
    "            # 1998 for kz, 1982 for lz, 3988 for mz, 3982 for nz, 5986 for oz, 5978 for pz\n",
    "            # 7992 for qz, 7960 for rz, 9972 for yz, 9954 for zz\n",
    "cutoff=count-14\n",
    "temp2=0\n",
    "sum=0.0\n",
    "m=10.0 # integer other than 0\n",
    "print(\"m=\",m)\n",
    "c=complex(0.0,-1.0)\n",
    "for i in range(1,count+1):\n",
    "   d=2.0*math.pi*c*m*seq[i-1]\n",
    "   temp=cmath.exp(d)\n",
    "   sum=sum+temp\n",
    "   temp=sum/i\n",
    "   temp1=abs(temp)\n",
    "   temp2=math.floor(temp1*100000)\n",
    "   f.write(\" %d\\n\" % temp2)\n",
    "   if (i>cutoff):  \n",
    "      print(temp,abs(temp))\n",
    "f.close()\n",
    "\n",
    "     "
   ],
   "execution_count": 8,
   "outputs": [
    {
     "output_type": "stream",
     "name": "stdout",
     "text": [
      "m= 10.0\n(0.0013976726788857425-0.004647516452404847j) 0.004853132812181981\n(0.00149677630708218-0.0046306903930961275j) 0.004866583280922596\n(0.0015960681265292473-0.004615184717077329j) 0.004883376233433866\n(0.0016953399757793223-0.004599682159657892j) 0.004902168255308106\n(0.0017950203503677297-0.0045873569869525534j) 0.004926047318487379\n(0.001894680680641923-0.004575034292665213j) 0.004951843460839652\n(0.001994648622270353-0.004565906032646474j) 0.004982581763030335\n(0.0020945964658003456-0.004556779607822753j) 0.00501513456936228\n(0.002194847350197009-0.004553113918658876j) 0.005054522850571754\n(0.0022950780836621353-0.004549448966316942j) 0.005095573501307635\n(0.0023952886722707722-0.004545784750574815j) 0.005138245500369481\n(0.0024954791220955243-0.00454212127121045j) 0.005182497630602167\n(0.002595687820387633-0.004540061516916171j) 0.0052296992110724555\n(0.0026958763843220376-0.004538002176476482j) 0.005278372214352693\n"
     ]
    }
   ]
  },
  {
   "cell_type": "code",
   "execution_count": null,
   "metadata": {},
   "outputs": [],
   "source": []
  }
 ]
}