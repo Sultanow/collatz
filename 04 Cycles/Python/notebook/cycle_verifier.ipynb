{
 "cells": [
  {
   "cell_type": "code",
   "execution_count": 1,
   "metadata": {},
   "outputs": [],
   "source": [
    "import pandas as pd"
   ]
  },
  {
   "cell_type": "code",
   "execution_count": 2,
   "metadata": {},
   "outputs": [],
   "source": [
    "def exact_divisibility_two(x):\n",
    "    d = 0\n",
    "    while x%2 == 0:\n",
    "        x //= 2\n",
    "        d+=1\n",
    "    return d\n",
    "\n",
    "def generate_collatz_set(q, v1, n):\n",
    "    collatz_set = []\n",
    "    if n<1 or v1%2==0:\n",
    "        return collatz_set\n",
    "    vi = v1\n",
    "    collatz_set.append(vi)\n",
    "    for i in range(n-1):\n",
    "        vi = q*vi+1\n",
    "        while vi%2 == 0:\n",
    "            vi //= 2\n",
    "        if vi in collatz_set:\n",
    "            return collatz_set\n",
    "        else:\n",
    "            collatz_set.append(vi)\n",
    "    return collatz_set\n",
    "\n",
    "def verify_cycle(q, v1, max_len) -> bool:\n",
    "    cycle = generate_collatz_set(q, v1, max_len)\n",
    "    return len(cycle) < max_len\n"
   ]
  },
  {
   "cell_type": "code",
   "execution_count": 3,
   "metadata": {},
   "outputs": [
    {
     "name": "stdout",
     "output_type": "stream",
     "text": [
      "True\n",
      "True\n",
      "[91, 1, 23, 259, 1457, 32783, 368809, 8298203, 2917337, 65640083]\n"
     ]
    }
   ],
   "source": [
    "print(verify_cycle(5, 13, 10))\n",
    "print(verify_cycle(3, 5, 10))\n",
    "\n",
    "print(generate_collatz_set(45, 91, 10))"
   ]
  },
  {
   "cell_type": "code",
   "execution_count": 4,
   "metadata": {},
   "outputs": [
    {
     "name": "stdout",
     "output_type": "stream",
     "text": [
      "[ 27 181]\n",
      "[ 35 181]\n"
     ]
    }
   ],
   "source": [
    "df = pd.read_csv('cycle_candidates.csv')\n",
    "mat = df.to_numpy()\n",
    "\n",
    "for row in mat:\n",
    "    if verify_cycle(int(row[1]), int(row[0]), 10):\n",
    "        print(row)\n"
   ]
  }
 ],
 "metadata": {
  "kernelspec": {
   "display_name": "Python 3.9.12 ('base')",
   "language": "python",
   "name": "python3"
  },
  "language_info": {
   "codemirror_mode": {
    "name": "ipython",
    "version": 3
   },
   "file_extension": ".py",
   "mimetype": "text/x-python",
   "name": "python",
   "nbconvert_exporter": "python",
   "pygments_lexer": "ipython3",
   "version": "3.9.12"
  },
  "vscode": {
   "interpreter": {
    "hash": "10774dab879144ab4b5dc139034ff1511eb939bdd72cd4d6485af79f95a3488f"
   }
  }
 },
 "nbformat": 4,
 "nbformat_minor": 4
}
