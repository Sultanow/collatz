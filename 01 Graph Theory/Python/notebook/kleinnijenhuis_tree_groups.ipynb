{
 "nbformat": 4,
 "nbformat_minor": 0,
 "metadata": {
  "colab": {
   "name": "graphwizz-tree.ipynb",
   "provenance": [],
   "collapsed_sections": [],
   "toc_visible": true
  },
  "kernelspec": {
   "name": "python3",
   "display_name": "Python 3.8.3 64-bit (conda)",
   "metadata": {
    "interpreter": {
     "hash": "524e93b8e0226315aee682eacc6843c81ddb16bd5c2ad8dc8495f33ccc2f5477"
    }
   }
  }
 },
 "cells": [
  {
   "cell_type": "code",
   "metadata": {
    "id": "a42M43IPu1cD"
   },
   "source": [
    "from typing import Union, List\n",
    "import networkx as nx\n",
    "import pandas as pd\n",
    "import math\n",
    "import matplotlib.pyplot as plt\n",
    "from networkx.drawing.nx_agraph import graphviz_layout\n",
    "from abc import ABC, abstractmethod\n",
    "import numpy as np"
   ],
   "execution_count": 42,
   "outputs": []
  },
  {
   "cell_type": "code",
   "execution_count": 7,
   "metadata": {},
   "outputs": [
    {
     "output_type": "stream",
     "name": "stdout",
     "text": [
      "25 156\n54 337\n83 518\n112 699\n141 880\n170 1061\n199 1242\n228 1423\n257 1604\n286 1785\n315 1966\n"
     ]
    }
   ],
   "source": [
    "def down(num: int) -> int:\n",
    "    return 4*num+1\n",
    "\n",
    "def right_prune1(num: int) -> int:\n",
    "    return 4*num+1\n"
   ]
  },
  {
   "cell_type": "code",
   "execution_count": null,
   "metadata": {},
   "outputs": [],
   "source": []
  }
 ]
}