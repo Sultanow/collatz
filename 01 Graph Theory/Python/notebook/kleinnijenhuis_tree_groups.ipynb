{
 "nbformat": 4,
 "nbformat_minor": 0,
 "metadata": {
  "colab": {
   "name": "graphwizz-tree.ipynb",
   "provenance": [],
   "collapsed_sections": [],
   "toc_visible": true
  },
  "kernelspec": {
   "name": "python3",
   "display_name": "Python 3.8.3 64-bit (conda)",
   "metadata": {
    "interpreter": {
     "hash": "524e93b8e0226315aee682eacc6843c81ddb16bd5c2ad8dc8495f33ccc2f5477"
    }
   }
  }
 },
 "cells": [
  {
   "cell_type": "code",
   "metadata": {
    "id": "a42M43IPu1cD"
   },
   "source": [
    "from typing import Union, List\n",
    "import networkx as nx\n",
    "import pandas as pd\n",
    "import math\n",
    "import matplotlib.pyplot as plt\n",
    "from networkx.drawing.nx_agraph import graphviz_layout\n",
    "from abc import ABC, abstractmethod\n",
    "import numpy as np"
   ],
   "execution_count": 35,
   "outputs": []
  },
  {
   "cell_type": "code",
   "execution_count": 36,
   "metadata": {},
   "outputs": [],
   "source": [
    "def down(n: int) -> int:\n",
    "    if n % 24 == 5:\n",
    "        return (n-1)/4\n",
    "    elif n % 96 == 85:\n",
    "        return (n-5)/16\n",
    "    else:\n",
    "        return -1\n",
    "\n",
    "def right_prune1(n: int) -> Union[int, int]:\n",
    "    d = down(n)\n",
    "    mod_case = -1\n",
    "    if (2*d)%18 == 4 and (d%18) in [11,17] :\n",
    "        return 1, (8*d-1)/3\n",
    "    elif (4*d)%18 == 4 and (d%18) in [11,13]:\n",
    "        return 2, (16*d-1)/3\n",
    "    elif (2*d)%18 == 16 and (d%18) in [11,17] or d%18 == 5:\n",
    "        return 3, (32*d-1)/3\n",
    "    elif (4*d)%18 == 16 and (d%18) in [1,13] or d%18 == 7:\n",
    "        return 4, (64*d-1)/3\n",
    "    else:\n",
    "        return 0, -1\n",
    "\n"
   ]
  },
  {
   "cell_type": "code",
   "execution_count": 37,
   "metadata": {},
   "outputs": [
    {
     "output_type": "stream",
     "name": "stdout",
     "text": [
      "(3, 53.0)\n(4, 1813.0)\n(1, 29.0)\n(3, 1205.0)\n(4, 277.0)\n"
     ]
    }
   ],
   "source": [
    "#print(down(53))#13\n",
    "#print(down(1109))#277\n",
    "#print(down(181))#11\n",
    "\n",
    "#case 2 never happens\n",
    "print(right_prune1(85))#53\n",
    "print(right_prune1(341))#1813\n",
    "print(right_prune1(181))#29\n",
    "print(right_prune1(1813))#1205\n",
    "print(right_prune1(53))#1205\n"
   ]
  },
  {
   "cell_type": "code",
   "execution_count": null,
   "metadata": {},
   "outputs": [],
   "source": []
  }
 ]
}